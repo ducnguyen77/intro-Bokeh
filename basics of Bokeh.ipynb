{
 "cells": [
  {
   "cell_type": "markdown",
   "metadata": {},
   "source": [
    "# Basics of Bokeh\n"
   ]
  },
  {
   "cell_type": "code",
   "execution_count": 4,
   "metadata": {},
   "outputs": [],
   "source": [
    "import pandas as pd\n",
    "import numpy as np"
   ]
  },
  {
   "cell_type": "code",
   "execution_count": 11,
   "metadata": {
    "collapsed": true
   },
   "outputs": [],
   "source": [
    "import warnings\n",
    "warnings.filterwarnings('ignore')"
   ]
  },
  {
   "cell_type": "code",
   "execution_count": 5,
   "metadata": {
    "collapsed": true
   },
   "outputs": [],
   "source": [
    "data_dir = '/home/duc/Duc/data_science_can_hoc/Bokeh/data/'"
   ]
  },
  {
   "cell_type": "code",
   "execution_count": 78,
   "metadata": {},
   "outputs": [
    {
     "data": {
      "text/html": [
       "\n",
       "    <div class=\"bk-root\">\n",
       "        <a href=\"https://bokeh.pydata.org\" target=\"_blank\" class=\"bk-logo bk-logo-small bk-logo-notebook\"></a>\n",
       "        <span id=\"6645\">Loading BokehJS ...</span>\n",
       "    </div>"
      ]
     },
     "metadata": {},
     "output_type": "display_data"
    },
    {
     "data": {
      "application/javascript": [
       "\n",
       "(function(root) {\n",
       "  function now() {\n",
       "    return new Date();\n",
       "  }\n",
       "\n",
       "  var force = true;\n",
       "\n",
       "  if (typeof root._bokeh_onload_callbacks === \"undefined\" || force === true) {\n",
       "    root._bokeh_onload_callbacks = [];\n",
       "    root._bokeh_is_loading = undefined;\n",
       "  }\n",
       "\n",
       "  var JS_MIME_TYPE = 'application/javascript';\n",
       "  var HTML_MIME_TYPE = 'text/html';\n",
       "  var EXEC_MIME_TYPE = 'application/vnd.bokehjs_exec.v0+json';\n",
       "  var CLASS_NAME = 'output_bokeh rendered_html';\n",
       "\n",
       "  /**\n",
       "   * Render data to the DOM node\n",
       "   */\n",
       "  function render(props, node) {\n",
       "    var script = document.createElement(\"script\");\n",
       "    node.appendChild(script);\n",
       "  }\n",
       "\n",
       "  /**\n",
       "   * Handle when an output is cleared or removed\n",
       "   */\n",
       "  function handleClearOutput(event, handle) {\n",
       "    var cell = handle.cell;\n",
       "\n",
       "    var id = cell.output_area._bokeh_element_id;\n",
       "    var server_id = cell.output_area._bokeh_server_id;\n",
       "    // Clean up Bokeh references\n",
       "    if (id != null && id in Bokeh.index) {\n",
       "      Bokeh.index[id].model.document.clear();\n",
       "      delete Bokeh.index[id];\n",
       "    }\n",
       "\n",
       "    if (server_id !== undefined) {\n",
       "      // Clean up Bokeh references\n",
       "      var cmd = \"from bokeh.io.state import curstate; print(curstate().uuid_to_server['\" + server_id + \"'].get_sessions()[0].document.roots[0]._id)\";\n",
       "      cell.notebook.kernel.execute(cmd, {\n",
       "        iopub: {\n",
       "          output: function(msg) {\n",
       "            var id = msg.content.text.trim();\n",
       "            if (id in Bokeh.index) {\n",
       "              Bokeh.index[id].model.document.clear();\n",
       "              delete Bokeh.index[id];\n",
       "            }\n",
       "          }\n",
       "        }\n",
       "      });\n",
       "      // Destroy server and session\n",
       "      var cmd = \"import bokeh.io.notebook as ion; ion.destroy_server('\" + server_id + \"')\";\n",
       "      cell.notebook.kernel.execute(cmd);\n",
       "    }\n",
       "  }\n",
       "\n",
       "  /**\n",
       "   * Handle when a new output is added\n",
       "   */\n",
       "  function handleAddOutput(event, handle) {\n",
       "    var output_area = handle.output_area;\n",
       "    var output = handle.output;\n",
       "\n",
       "    // limit handleAddOutput to display_data with EXEC_MIME_TYPE content only\n",
       "    if ((output.output_type != \"display_data\") || (!output.data.hasOwnProperty(EXEC_MIME_TYPE))) {\n",
       "      return\n",
       "    }\n",
       "\n",
       "    var toinsert = output_area.element.find(\".\" + CLASS_NAME.split(' ')[0]);\n",
       "\n",
       "    if (output.metadata[EXEC_MIME_TYPE][\"id\"] !== undefined) {\n",
       "      toinsert[toinsert.length - 1].firstChild.textContent = output.data[JS_MIME_TYPE];\n",
       "      // store reference to embed id on output_area\n",
       "      output_area._bokeh_element_id = output.metadata[EXEC_MIME_TYPE][\"id\"];\n",
       "    }\n",
       "    if (output.metadata[EXEC_MIME_TYPE][\"server_id\"] !== undefined) {\n",
       "      var bk_div = document.createElement(\"div\");\n",
       "      bk_div.innerHTML = output.data[HTML_MIME_TYPE];\n",
       "      var script_attrs = bk_div.children[0].attributes;\n",
       "      for (var i = 0; i < script_attrs.length; i++) {\n",
       "        toinsert[toinsert.length - 1].firstChild.setAttribute(script_attrs[i].name, script_attrs[i].value);\n",
       "      }\n",
       "      // store reference to server id on output_area\n",
       "      output_area._bokeh_server_id = output.metadata[EXEC_MIME_TYPE][\"server_id\"];\n",
       "    }\n",
       "  }\n",
       "\n",
       "  function register_renderer(events, OutputArea) {\n",
       "\n",
       "    function append_mime(data, metadata, element) {\n",
       "      // create a DOM node to render to\n",
       "      var toinsert = this.create_output_subarea(\n",
       "        metadata,\n",
       "        CLASS_NAME,\n",
       "        EXEC_MIME_TYPE\n",
       "      );\n",
       "      this.keyboard_manager.register_events(toinsert);\n",
       "      // Render to node\n",
       "      var props = {data: data, metadata: metadata[EXEC_MIME_TYPE]};\n",
       "      render(props, toinsert[toinsert.length - 1]);\n",
       "      element.append(toinsert);\n",
       "      return toinsert\n",
       "    }\n",
       "\n",
       "    /* Handle when an output is cleared or removed */\n",
       "    events.on('clear_output.CodeCell', handleClearOutput);\n",
       "    events.on('delete.Cell', handleClearOutput);\n",
       "\n",
       "    /* Handle when a new output is added */\n",
       "    events.on('output_added.OutputArea', handleAddOutput);\n",
       "\n",
       "    /**\n",
       "     * Register the mime type and append_mime function with output_area\n",
       "     */\n",
       "    OutputArea.prototype.register_mime_type(EXEC_MIME_TYPE, append_mime, {\n",
       "      /* Is output safe? */\n",
       "      safe: true,\n",
       "      /* Index of renderer in `output_area.display_order` */\n",
       "      index: 0\n",
       "    });\n",
       "  }\n",
       "\n",
       "  // register the mime type if in Jupyter Notebook environment and previously unregistered\n",
       "  if (root.Jupyter !== undefined) {\n",
       "    var events = require('base/js/events');\n",
       "    var OutputArea = require('notebook/js/outputarea').OutputArea;\n",
       "\n",
       "    if (OutputArea.prototype.mime_types().indexOf(EXEC_MIME_TYPE) == -1) {\n",
       "      register_renderer(events, OutputArea);\n",
       "    }\n",
       "  }\n",
       "\n",
       "  \n",
       "  if (typeof (root._bokeh_timeout) === \"undefined\" || force === true) {\n",
       "    root._bokeh_timeout = Date.now() + 5000;\n",
       "    root._bokeh_failed_load = false;\n",
       "  }\n",
       "\n",
       "  var NB_LOAD_WARNING = {'data': {'text/html':\n",
       "     \"<div style='background-color: #fdd'>\\n\"+\n",
       "     \"<p>\\n\"+\n",
       "     \"BokehJS does not appear to have successfully loaded. If loading BokehJS from CDN, this \\n\"+\n",
       "     \"may be due to a slow or bad network connection. Possible fixes:\\n\"+\n",
       "     \"</p>\\n\"+\n",
       "     \"<ul>\\n\"+\n",
       "     \"<li>re-rerun `output_notebook()` to attempt to load from CDN again, or</li>\\n\"+\n",
       "     \"<li>use INLINE resources instead, as so:</li>\\n\"+\n",
       "     \"</ul>\\n\"+\n",
       "     \"<code>\\n\"+\n",
       "     \"from bokeh.resources import INLINE\\n\"+\n",
       "     \"output_notebook(resources=INLINE)\\n\"+\n",
       "     \"</code>\\n\"+\n",
       "     \"</div>\"}};\n",
       "\n",
       "  function display_loaded() {\n",
       "    var el = document.getElementById(\"6645\");\n",
       "    if (el != null) {\n",
       "      el.textContent = \"BokehJS is loading...\";\n",
       "    }\n",
       "    if (root.Bokeh !== undefined) {\n",
       "      if (el != null) {\n",
       "        el.textContent = \"BokehJS \" + root.Bokeh.version + \" successfully loaded.\";\n",
       "      }\n",
       "    } else if (Date.now() < root._bokeh_timeout) {\n",
       "      setTimeout(display_loaded, 100)\n",
       "    }\n",
       "  }\n",
       "\n",
       "\n",
       "  function run_callbacks() {\n",
       "    try {\n",
       "      root._bokeh_onload_callbacks.forEach(function(callback) {\n",
       "        if (callback != null)\n",
       "          callback();\n",
       "      });\n",
       "    } finally {\n",
       "      delete root._bokeh_onload_callbacks\n",
       "    }\n",
       "    console.debug(\"Bokeh: all callbacks have finished\");\n",
       "  }\n",
       "\n",
       "  function load_libs(css_urls, js_urls, callback) {\n",
       "    if (css_urls == null) css_urls = [];\n",
       "    if (js_urls == null) js_urls = [];\n",
       "\n",
       "    root._bokeh_onload_callbacks.push(callback);\n",
       "    if (root._bokeh_is_loading > 0) {\n",
       "      console.debug(\"Bokeh: BokehJS is being loaded, scheduling callback at\", now());\n",
       "      return null;\n",
       "    }\n",
       "    if (js_urls == null || js_urls.length === 0) {\n",
       "      run_callbacks();\n",
       "      return null;\n",
       "    }\n",
       "    console.debug(\"Bokeh: BokehJS not loaded, scheduling load and callback at\", now());\n",
       "    root._bokeh_is_loading = css_urls.length + js_urls.length;\n",
       "\n",
       "    function on_load() {\n",
       "      root._bokeh_is_loading--;\n",
       "      if (root._bokeh_is_loading === 0) {\n",
       "        console.debug(\"Bokeh: all BokehJS libraries/stylesheets loaded\");\n",
       "        run_callbacks()\n",
       "      }\n",
       "    }\n",
       "\n",
       "    function on_error() {\n",
       "      console.error(\"failed to load \" + url);\n",
       "    }\n",
       "\n",
       "    for (var i = 0; i < css_urls.length; i++) {\n",
       "      var url = css_urls[i];\n",
       "      const element = document.createElement(\"link\");\n",
       "      element.onload = on_load;\n",
       "      element.onerror = on_error;\n",
       "      element.rel = \"stylesheet\";\n",
       "      element.type = \"text/css\";\n",
       "      element.href = url;\n",
       "      console.debug(\"Bokeh: injecting link tag for BokehJS stylesheet: \", url);\n",
       "      document.body.appendChild(element);\n",
       "    }\n",
       "\n",
       "    for (var i = 0; i < js_urls.length; i++) {\n",
       "      var url = js_urls[i];\n",
       "      var element = document.createElement('script');\n",
       "      element.onload = on_load;\n",
       "      element.onerror = on_error;\n",
       "      element.async = false;\n",
       "      element.src = url;\n",
       "      console.debug(\"Bokeh: injecting script tag for BokehJS library: \", url);\n",
       "      document.head.appendChild(element);\n",
       "    }\n",
       "  };var element = document.getElementById(\"6645\");\n",
       "  if (element == null) {\n",
       "    console.error(\"Bokeh: ERROR: autoload.js configured with elementid '6645' but no matching script tag was found. \")\n",
       "    return false;\n",
       "  }\n",
       "\n",
       "  function inject_raw_css(css) {\n",
       "    const element = document.createElement(\"style\");\n",
       "    element.appendChild(document.createTextNode(css));\n",
       "    document.body.appendChild(element);\n",
       "  }\n",
       "\n",
       "  var js_urls = [\"https://cdn.pydata.org/bokeh/release/bokeh-1.3.4.min.js\", \"https://cdn.pydata.org/bokeh/release/bokeh-widgets-1.3.4.min.js\", \"https://cdn.pydata.org/bokeh/release/bokeh-tables-1.3.4.min.js\", \"https://cdn.pydata.org/bokeh/release/bokeh-gl-1.3.4.min.js\"];\n",
       "  var css_urls = [];\n",
       "\n",
       "  var inline_js = [\n",
       "    function(Bokeh) {\n",
       "      Bokeh.set_log_level(\"info\");\n",
       "    },\n",
       "    \n",
       "    function(Bokeh) {\n",
       "      \n",
       "    },\n",
       "    function(Bokeh) {} // ensure no trailing comma for IE\n",
       "  ];\n",
       "\n",
       "  function run_inline_js() {\n",
       "    \n",
       "    if ((root.Bokeh !== undefined) || (force === true)) {\n",
       "      for (var i = 0; i < inline_js.length; i++) {\n",
       "        inline_js[i].call(root, root.Bokeh);\n",
       "      }if (force === true) {\n",
       "        display_loaded();\n",
       "      }} else if (Date.now() < root._bokeh_timeout) {\n",
       "      setTimeout(run_inline_js, 100);\n",
       "    } else if (!root._bokeh_failed_load) {\n",
       "      console.log(\"Bokeh: BokehJS failed to load within specified timeout.\");\n",
       "      root._bokeh_failed_load = true;\n",
       "    } else if (force !== true) {\n",
       "      var cell = $(document.getElementById(\"6645\")).parents('.cell').data().cell;\n",
       "      cell.output_area.append_execute_result(NB_LOAD_WARNING)\n",
       "    }\n",
       "\n",
       "  }\n",
       "\n",
       "  if (root._bokeh_is_loading === 0) {\n",
       "    console.debug(\"Bokeh: BokehJS loaded, going straight to plotting\");\n",
       "    run_inline_js();\n",
       "  } else {\n",
       "    load_libs(css_urls, js_urls, function() {\n",
       "      console.debug(\"Bokeh: BokehJS plotting callback run at\", now());\n",
       "      run_inline_js();\n",
       "    });\n",
       "  }\n",
       "}(window));"
      ],
      "application/vnd.bokehjs_load.v0+json": "\n(function(root) {\n  function now() {\n    return new Date();\n  }\n\n  var force = true;\n\n  if (typeof root._bokeh_onload_callbacks === \"undefined\" || force === true) {\n    root._bokeh_onload_callbacks = [];\n    root._bokeh_is_loading = undefined;\n  }\n\n  \n\n  \n  if (typeof (root._bokeh_timeout) === \"undefined\" || force === true) {\n    root._bokeh_timeout = Date.now() + 5000;\n    root._bokeh_failed_load = false;\n  }\n\n  var NB_LOAD_WARNING = {'data': {'text/html':\n     \"<div style='background-color: #fdd'>\\n\"+\n     \"<p>\\n\"+\n     \"BokehJS does not appear to have successfully loaded. If loading BokehJS from CDN, this \\n\"+\n     \"may be due to a slow or bad network connection. Possible fixes:\\n\"+\n     \"</p>\\n\"+\n     \"<ul>\\n\"+\n     \"<li>re-rerun `output_notebook()` to attempt to load from CDN again, or</li>\\n\"+\n     \"<li>use INLINE resources instead, as so:</li>\\n\"+\n     \"</ul>\\n\"+\n     \"<code>\\n\"+\n     \"from bokeh.resources import INLINE\\n\"+\n     \"output_notebook(resources=INLINE)\\n\"+\n     \"</code>\\n\"+\n     \"</div>\"}};\n\n  function display_loaded() {\n    var el = document.getElementById(\"6645\");\n    if (el != null) {\n      el.textContent = \"BokehJS is loading...\";\n    }\n    if (root.Bokeh !== undefined) {\n      if (el != null) {\n        el.textContent = \"BokehJS \" + root.Bokeh.version + \" successfully loaded.\";\n      }\n    } else if (Date.now() < root._bokeh_timeout) {\n      setTimeout(display_loaded, 100)\n    }\n  }\n\n\n  function run_callbacks() {\n    try {\n      root._bokeh_onload_callbacks.forEach(function(callback) {\n        if (callback != null)\n          callback();\n      });\n    } finally {\n      delete root._bokeh_onload_callbacks\n    }\n    console.debug(\"Bokeh: all callbacks have finished\");\n  }\n\n  function load_libs(css_urls, js_urls, callback) {\n    if (css_urls == null) css_urls = [];\n    if (js_urls == null) js_urls = [];\n\n    root._bokeh_onload_callbacks.push(callback);\n    if (root._bokeh_is_loading > 0) {\n      console.debug(\"Bokeh: BokehJS is being loaded, scheduling callback at\", now());\n      return null;\n    }\n    if (js_urls == null || js_urls.length === 0) {\n      run_callbacks();\n      return null;\n    }\n    console.debug(\"Bokeh: BokehJS not loaded, scheduling load and callback at\", now());\n    root._bokeh_is_loading = css_urls.length + js_urls.length;\n\n    function on_load() {\n      root._bokeh_is_loading--;\n      if (root._bokeh_is_loading === 0) {\n        console.debug(\"Bokeh: all BokehJS libraries/stylesheets loaded\");\n        run_callbacks()\n      }\n    }\n\n    function on_error() {\n      console.error(\"failed to load \" + url);\n    }\n\n    for (var i = 0; i < css_urls.length; i++) {\n      var url = css_urls[i];\n      const element = document.createElement(\"link\");\n      element.onload = on_load;\n      element.onerror = on_error;\n      element.rel = \"stylesheet\";\n      element.type = \"text/css\";\n      element.href = url;\n      console.debug(\"Bokeh: injecting link tag for BokehJS stylesheet: \", url);\n      document.body.appendChild(element);\n    }\n\n    for (var i = 0; i < js_urls.length; i++) {\n      var url = js_urls[i];\n      var element = document.createElement('script');\n      element.onload = on_load;\n      element.onerror = on_error;\n      element.async = false;\n      element.src = url;\n      console.debug(\"Bokeh: injecting script tag for BokehJS library: \", url);\n      document.head.appendChild(element);\n    }\n  };var element = document.getElementById(\"6645\");\n  if (element == null) {\n    console.error(\"Bokeh: ERROR: autoload.js configured with elementid '6645' but no matching script tag was found. \")\n    return false;\n  }\n\n  function inject_raw_css(css) {\n    const element = document.createElement(\"style\");\n    element.appendChild(document.createTextNode(css));\n    document.body.appendChild(element);\n  }\n\n  var js_urls = [\"https://cdn.pydata.org/bokeh/release/bokeh-1.3.4.min.js\", \"https://cdn.pydata.org/bokeh/release/bokeh-widgets-1.3.4.min.js\", \"https://cdn.pydata.org/bokeh/release/bokeh-tables-1.3.4.min.js\", \"https://cdn.pydata.org/bokeh/release/bokeh-gl-1.3.4.min.js\"];\n  var css_urls = [];\n\n  var inline_js = [\n    function(Bokeh) {\n      Bokeh.set_log_level(\"info\");\n    },\n    \n    function(Bokeh) {\n      \n    },\n    function(Bokeh) {} // ensure no trailing comma for IE\n  ];\n\n  function run_inline_js() {\n    \n    if ((root.Bokeh !== undefined) || (force === true)) {\n      for (var i = 0; i < inline_js.length; i++) {\n        inline_js[i].call(root, root.Bokeh);\n      }if (force === true) {\n        display_loaded();\n      }} else if (Date.now() < root._bokeh_timeout) {\n      setTimeout(run_inline_js, 100);\n    } else if (!root._bokeh_failed_load) {\n      console.log(\"Bokeh: BokehJS failed to load within specified timeout.\");\n      root._bokeh_failed_load = true;\n    } else if (force !== true) {\n      var cell = $(document.getElementById(\"6645\")).parents('.cell').data().cell;\n      cell.output_area.append_execute_result(NB_LOAD_WARNING)\n    }\n\n  }\n\n  if (root._bokeh_is_loading === 0) {\n    console.debug(\"Bokeh: BokehJS loaded, going straight to plotting\");\n    run_inline_js();\n  } else {\n    load_libs(css_urls, js_urls, function() {\n      console.debug(\"Bokeh: BokehJS plotting callback run at\", now());\n      run_inline_js();\n    });\n  }\n}(window));"
     },
     "metadata": {},
     "output_type": "display_data"
    },
    {
     "data": {
      "text/html": [
       "\n",
       "\n",
       "\n",
       "\n",
       "\n",
       "\n",
       "  <div class=\"bk-root\" id=\"a0daa3d1-9233-47fd-83b8-08935ec71919\" data-root-id=\"6601\"></div>\n"
      ]
     },
     "metadata": {},
     "output_type": "display_data"
    },
    {
     "data": {
      "application/javascript": [
       "(function(root) {\n",
       "  function embed_document(root) {\n",
       "    \n",
       "  var docs_json = {\"fe866cfe-c9e2-4be0-b4d6-aa306609d6c2\":{\"roots\":{\"references\":[{\"attributes\":{\"below\":[{\"id\":\"6612\",\"type\":\"LinearAxis\"}],\"center\":[{\"id\":\"6616\",\"type\":\"Grid\"},{\"id\":\"6621\",\"type\":\"Grid\"}],\"left\":[{\"id\":\"6617\",\"type\":\"LinearAxis\"}],\"renderers\":[{\"id\":\"6638\",\"type\":\"GlyphRenderer\"},{\"id\":\"6643\",\"type\":\"GlyphRenderer\"}],\"title\":{\"id\":\"6602\",\"type\":\"Title\"},\"toolbar\":{\"id\":\"6628\",\"type\":\"Toolbar\"},\"x_range\":{\"id\":\"6604\",\"type\":\"DataRange1d\"},\"x_scale\":{\"id\":\"6608\",\"type\":\"LinearScale\"},\"y_range\":{\"id\":\"6606\",\"type\":\"DataRange1d\"},\"y_scale\":{\"id\":\"6610\",\"type\":\"LinearScale\"}},\"id\":\"6601\",\"subtype\":\"Figure\",\"type\":\"Plot\"},{\"attributes\":{\"data_source\":{\"id\":\"6640\",\"type\":\"ColumnDataSource\"},\"glyph\":{\"id\":\"6641\",\"type\":\"Circle\"},\"hover_glyph\":null,\"muted_glyph\":null,\"nonselection_glyph\":{\"id\":\"6642\",\"type\":\"Circle\"},\"selection_glyph\":null,\"view\":{\"id\":\"6644\",\"type\":\"CDSView\"}},\"id\":\"6643\",\"type\":\"GlyphRenderer\"},{\"attributes\":{},\"id\":\"6626\",\"type\":\"ResetTool\"},{\"attributes\":{},\"id\":\"6822\",\"type\":\"UnionRenderers\"},{\"attributes\":{},\"id\":\"6824\",\"type\":\"UnionRenderers\"},{\"attributes\":{\"active_drag\":\"auto\",\"active_inspect\":\"auto\",\"active_multi\":null,\"active_scroll\":\"auto\",\"active_tap\":\"auto\",\"tools\":[{\"id\":\"6622\",\"type\":\"PanTool\"},{\"id\":\"6623\",\"type\":\"WheelZoomTool\"},{\"id\":\"6624\",\"type\":\"BoxZoomTool\"},{\"id\":\"6625\",\"type\":\"SaveTool\"},{\"id\":\"6626\",\"type\":\"ResetTool\"},{\"id\":\"6627\",\"type\":\"HelpTool\"}]},\"id\":\"6628\",\"type\":\"Toolbar\"},{\"attributes\":{\"callback\":null,\"data\":{\"x\":[9,12,4,3,15],\"y\":[8,4,11,6,10]},\"selected\":{\"id\":\"6825\",\"type\":\"Selection\"},\"selection_policy\":{\"id\":\"6824\",\"type\":\"UnionRenderers\"}},\"id\":\"6640\",\"type\":\"ColumnDataSource\"},{\"attributes\":{\"axis_label\":\"X\",\"formatter\":{\"id\":\"6818\",\"type\":\"BasicTickFormatter\"},\"ticker\":{\"id\":\"6613\",\"type\":\"BasicTicker\"}},\"id\":\"6612\",\"type\":\"LinearAxis\"},{\"attributes\":{},\"id\":\"6627\",\"type\":\"HelpTool\"},{\"attributes\":{},\"id\":\"6625\",\"type\":\"SaveTool\"},{\"attributes\":{\"fill_alpha\":{\"value\":0.1},\"fill_color\":{\"value\":\"#1f77b4\"},\"line_alpha\":{\"value\":0.1},\"line_color\":{\"value\":\"#1f77b4\"},\"size\":{\"units\":\"screen\",\"value\":12},\"x\":{\"field\":\"x\"},\"y\":{\"field\":\"y\"}},\"id\":\"6637\",\"type\":\"Square\"},{\"attributes\":{},\"id\":\"6825\",\"type\":\"Selection\"},{\"attributes\":{\"callback\":null},\"id\":\"6604\",\"type\":\"DataRange1d\"},{\"attributes\":{\"source\":{\"id\":\"6635\",\"type\":\"ColumnDataSource\"}},\"id\":\"6639\",\"type\":\"CDSView\"},{\"attributes\":{\"fill_alpha\":{\"value\":0.1},\"fill_color\":{\"value\":\"#1f77b4\"},\"line_alpha\":{\"value\":0.1},\"line_color\":{\"value\":\"#1f77b4\"},\"size\":{\"units\":\"screen\",\"value\":12},\"x\":{\"field\":\"x\"},\"y\":{\"field\":\"y\"}},\"id\":\"6642\",\"type\":\"Circle\"},{\"attributes\":{\"dimension\":1,\"ticker\":{\"id\":\"6618\",\"type\":\"BasicTicker\"}},\"id\":\"6621\",\"type\":\"Grid\"},{\"attributes\":{},\"id\":\"6613\",\"type\":\"BasicTicker\"},{\"attributes\":{},\"id\":\"6618\",\"type\":\"BasicTicker\"},{\"attributes\":{},\"id\":\"6622\",\"type\":\"PanTool\"},{\"attributes\":{},\"id\":\"6623\",\"type\":\"WheelZoomTool\"},{\"attributes\":{\"source\":{\"id\":\"6640\",\"type\":\"ColumnDataSource\"}},\"id\":\"6644\",\"type\":\"CDSView\"},{\"attributes\":{\"axis_label\":\"Y\",\"formatter\":{\"id\":\"6820\",\"type\":\"BasicTickFormatter\"},\"ticker\":{\"id\":\"6618\",\"type\":\"BasicTicker\"}},\"id\":\"6617\",\"type\":\"LinearAxis\"},{\"attributes\":{\"data_source\":{\"id\":\"6635\",\"type\":\"ColumnDataSource\"},\"glyph\":{\"id\":\"6636\",\"type\":\"Square\"},\"hover_glyph\":null,\"muted_glyph\":null,\"nonselection_glyph\":{\"id\":\"6637\",\"type\":\"Square\"},\"selection_glyph\":null,\"view\":{\"id\":\"6639\",\"type\":\"CDSView\"}},\"id\":\"6638\",\"type\":\"GlyphRenderer\"},{\"attributes\":{},\"id\":\"6820\",\"type\":\"BasicTickFormatter\"},{\"attributes\":{\"fill_color\":{\"value\":\"red\"},\"line_color\":{\"value\":\"red\"},\"size\":{\"units\":\"screen\",\"value\":12},\"x\":{\"field\":\"x\"},\"y\":{\"field\":\"y\"}},\"id\":\"6641\",\"type\":\"Circle\"},{\"attributes\":{},\"id\":\"6823\",\"type\":\"Selection\"},{\"attributes\":{\"text\":\"Example Glyphs\"},\"id\":\"6602\",\"type\":\"Title\"},{\"attributes\":{},\"id\":\"6610\",\"type\":\"LinearScale\"},{\"attributes\":{\"callback\":null,\"data\":{\"x\":[1,3,4,5,8],\"y\":[8,7,3,1,10]},\"selected\":{\"id\":\"6823\",\"type\":\"Selection\"},\"selection_policy\":{\"id\":\"6822\",\"type\":\"UnionRenderers\"}},\"id\":\"6635\",\"type\":\"ColumnDataSource\"},{\"attributes\":{\"bottom_units\":\"screen\",\"fill_alpha\":{\"value\":0.5},\"fill_color\":{\"value\":\"lightgrey\"},\"left_units\":\"screen\",\"level\":\"overlay\",\"line_alpha\":{\"value\":1.0},\"line_color\":{\"value\":\"black\"},\"line_dash\":[4,4],\"line_width\":{\"value\":2},\"render_mode\":\"css\",\"right_units\":\"screen\",\"top_units\":\"screen\"},\"id\":\"6826\",\"type\":\"BoxAnnotation\"},{\"attributes\":{\"overlay\":{\"id\":\"6826\",\"type\":\"BoxAnnotation\"}},\"id\":\"6624\",\"type\":\"BoxZoomTool\"},{\"attributes\":{},\"id\":\"6608\",\"type\":\"LinearScale\"},{\"attributes\":{},\"id\":\"6818\",\"type\":\"BasicTickFormatter\"},{\"attributes\":{\"callback\":null},\"id\":\"6606\",\"type\":\"DataRange1d\"},{\"attributes\":{\"fill_alpha\":{\"value\":0.6},\"fill_color\":{\"value\":\"navy\"},\"line_alpha\":{\"value\":0.6},\"line_color\":{\"value\":\"navy\"},\"size\":{\"units\":\"screen\",\"value\":12},\"x\":{\"field\":\"x\"},\"y\":{\"field\":\"y\"}},\"id\":\"6636\",\"type\":\"Square\"},{\"attributes\":{\"ticker\":{\"id\":\"6613\",\"type\":\"BasicTicker\"}},\"id\":\"6616\",\"type\":\"Grid\"}],\"root_ids\":[\"6601\"]},\"title\":\"Bokeh Application\",\"version\":\"1.3.4\"}};\n",
       "  var render_items = [{\"docid\":\"fe866cfe-c9e2-4be0-b4d6-aa306609d6c2\",\"roots\":{\"6601\":\"a0daa3d1-9233-47fd-83b8-08935ec71919\"}}];\n",
       "  root.Bokeh.embed.embed_items_notebook(docs_json, render_items);\n",
       "\n",
       "  }\n",
       "  if (root.Bokeh !== undefined) {\n",
       "    embed_document(root);\n",
       "  } else {\n",
       "    var attempts = 0;\n",
       "    var timer = setInterval(function(root) {\n",
       "      if (root.Bokeh !== undefined) {\n",
       "        embed_document(root);\n",
       "        clearInterval(timer);\n",
       "      }\n",
       "      attempts++;\n",
       "      if (attempts > 100) {\n",
       "        console.log(\"Bokeh: ERROR: Unable to run BokehJS code because BokehJS library is missing\");\n",
       "        clearInterval(timer);\n",
       "      }\n",
       "    }, 10, root)\n",
       "  }\n",
       "})(window);"
      ],
      "application/vnd.bokehjs_exec.v0+json": ""
     },
     "metadata": {
      "application/vnd.bokehjs_exec.v0+json": {
       "id": "6601"
      }
     },
     "output_type": "display_data"
    }
   ],
   "source": [
    "# bokeh basics\n",
    "from bokeh.plotting import figure\n",
    "from bokeh.io import show, output_notebook\n",
    "\n",
    "# Create a blank figure with labels\n",
    "p = figure(plot_width = 600, plot_height = 600, \n",
    "           title = 'Example Glyphs',\n",
    "           x_axis_label = 'X', y_axis_label = 'Y')\n",
    "\n",
    "# Example data\n",
    "squares_x = [1, 3, 4, 5, 8]\n",
    "squares_y = [8, 7, 3, 1, 10]\n",
    "circles_x = [9, 12, 4, 3, 15]\n",
    "circles_y = [8, 4, 11, 6, 10]\n",
    "\n",
    "# Add squares glyph\n",
    "p.square(squares_x, squares_y, size = 12, color = 'navy', alpha = 0.6)\n",
    "# Add circle glyph\n",
    "p.circle(circles_x, circles_y, size = 12, color = 'red')\n",
    "\n",
    "# Set to output the plot in the notebook\n",
    "output_notebook()\n",
    "# Show the plot\n",
    "show(p)"
   ]
  },
  {
   "cell_type": "code",
   "execution_count": 7,
   "metadata": {},
   "outputs": [
    {
     "data": {
      "text/plain": [
       "count    327346.000000\n",
       "mean          6.895377\n",
       "std          44.633292\n",
       "min         -86.000000\n",
       "25%         -17.000000\n",
       "50%          -5.000000\n",
       "75%          14.000000\n",
       "max        1272.000000\n",
       "Name: arr_delay, dtype: float64"
      ]
     },
     "execution_count": 7,
     "metadata": {},
     "output_type": "execute_result"
    }
   ],
   "source": [
    "# Read the data from a csv into a dataframe\n",
    "flights = pd.read_csv('./data/flights.csv', index_col=0)\n",
    "# Summary stats for the column of interest\n",
    "flights['arr_delay'].describe()"
   ]
  },
  {
   "cell_type": "code",
   "execution_count": 43,
   "metadata": {},
   "outputs": [
    {
     "data": {
      "text/html": [
       "<div>\n",
       "<style scoped>\n",
       "    .dataframe tbody tr th:only-of-type {\n",
       "        vertical-align: middle;\n",
       "    }\n",
       "\n",
       "    .dataframe tbody tr th {\n",
       "        vertical-align: top;\n",
       "    }\n",
       "\n",
       "    .dataframe thead th {\n",
       "        text-align: right;\n",
       "    }\n",
       "</style>\n",
       "<table border=\"1\" class=\"dataframe\">\n",
       "  <thead>\n",
       "    <tr style=\"text-align: right;\">\n",
       "      <th></th>\n",
       "      <th>arr_delay</th>\n",
       "      <th>origin</th>\n",
       "      <th>dest</th>\n",
       "      <th>air_time</th>\n",
       "      <th>distance</th>\n",
       "      <th>carrier</th>\n",
       "      <th>air_speed (mph)</th>\n",
       "    </tr>\n",
       "  </thead>\n",
       "  <tbody>\n",
       "    <tr>\n",
       "      <th>0</th>\n",
       "      <td>11.0</td>\n",
       "      <td>EWR</td>\n",
       "      <td>IAH</td>\n",
       "      <td>227.0</td>\n",
       "      <td>1400</td>\n",
       "      <td>UA</td>\n",
       "      <td>370.044053</td>\n",
       "    </tr>\n",
       "    <tr>\n",
       "      <th>1</th>\n",
       "      <td>20.0</td>\n",
       "      <td>LGA</td>\n",
       "      <td>IAH</td>\n",
       "      <td>227.0</td>\n",
       "      <td>1416</td>\n",
       "      <td>UA</td>\n",
       "      <td>374.273128</td>\n",
       "    </tr>\n",
       "    <tr>\n",
       "      <th>2</th>\n",
       "      <td>33.0</td>\n",
       "      <td>JFK</td>\n",
       "      <td>MIA</td>\n",
       "      <td>160.0</td>\n",
       "      <td>1089</td>\n",
       "      <td>AA</td>\n",
       "      <td>408.375000</td>\n",
       "    </tr>\n",
       "    <tr>\n",
       "      <th>3</th>\n",
       "      <td>-18.0</td>\n",
       "      <td>JFK</td>\n",
       "      <td>BQN</td>\n",
       "      <td>183.0</td>\n",
       "      <td>1576</td>\n",
       "      <td>B6</td>\n",
       "      <td>516.721311</td>\n",
       "    </tr>\n",
       "    <tr>\n",
       "      <th>4</th>\n",
       "      <td>-25.0</td>\n",
       "      <td>LGA</td>\n",
       "      <td>ATL</td>\n",
       "      <td>116.0</td>\n",
       "      <td>762</td>\n",
       "      <td>DL</td>\n",
       "      <td>394.137931</td>\n",
       "    </tr>\n",
       "  </tbody>\n",
       "</table>\n",
       "</div>"
      ],
      "text/plain": [
       "   arr_delay origin dest  air_time  distance carrier  air_speed (mph)\n",
       "0       11.0    EWR  IAH     227.0      1400      UA       370.044053\n",
       "1       20.0    LGA  IAH     227.0      1416      UA       374.273128\n",
       "2       33.0    JFK  MIA     160.0      1089      AA       408.375000\n",
       "3      -18.0    JFK  BQN     183.0      1576      B6       516.721311\n",
       "4      -25.0    LGA  ATL     116.0       762      DL       394.137931"
      ]
     },
     "execution_count": 43,
     "metadata": {},
     "output_type": "execute_result"
    }
   ],
   "source": [
    "flights = flights[['arr_delay', 'origin', 'dest', 'air_time', 'distance', 'carrier']]\n",
    "flights['air_speed (mph)'] = flights['distance'] / (flights['air_time'] / 60)\n",
    "flights.head()"
   ]
  },
  {
   "cell_type": "code",
   "execution_count": 44,
   "metadata": {},
   "outputs": [
    {
     "data": {
      "text/html": [
       "<div>\n",
       "<style scoped>\n",
       "    .dataframe tbody tr th:only-of-type {\n",
       "        vertical-align: middle;\n",
       "    }\n",
       "\n",
       "    .dataframe tbody tr th {\n",
       "        vertical-align: top;\n",
       "    }\n",
       "\n",
       "    .dataframe thead tr th {\n",
       "        text-align: left;\n",
       "    }\n",
       "</style>\n",
       "<table border=\"1\" class=\"dataframe\">\n",
       "  <thead>\n",
       "    <tr>\n",
       "      <th></th>\n",
       "      <th>origin</th>\n",
       "      <th>dest</th>\n",
       "      <th>carrier</th>\n",
       "      <th colspan=\"4\" halign=\"left\">arr_delay</th>\n",
       "      <th colspan=\"4\" halign=\"left\">air_time</th>\n",
       "      <th colspan=\"4\" halign=\"left\">distance</th>\n",
       "      <th colspan=\"4\" halign=\"left\">air_speed (mph)</th>\n",
       "    </tr>\n",
       "    <tr>\n",
       "      <th></th>\n",
       "      <th></th>\n",
       "      <th></th>\n",
       "      <th></th>\n",
       "      <th>count</th>\n",
       "      <th>mean</th>\n",
       "      <th>min</th>\n",
       "      <th>max</th>\n",
       "      <th>count</th>\n",
       "      <th>mean</th>\n",
       "      <th>min</th>\n",
       "      <th>max</th>\n",
       "      <th>count</th>\n",
       "      <th>mean</th>\n",
       "      <th>min</th>\n",
       "      <th>max</th>\n",
       "      <th>count</th>\n",
       "      <th>mean</th>\n",
       "      <th>min</th>\n",
       "      <th>max</th>\n",
       "    </tr>\n",
       "  </thead>\n",
       "  <tbody>\n",
       "    <tr>\n",
       "      <th>0</th>\n",
       "      <td>EWR</td>\n",
       "      <td>ALB</td>\n",
       "      <td>EV</td>\n",
       "      <td>418</td>\n",
       "      <td>14.397129</td>\n",
       "      <td>-34.0</td>\n",
       "      <td>328.0</td>\n",
       "      <td>418</td>\n",
       "      <td>31.787081</td>\n",
       "      <td>24.0</td>\n",
       "      <td>50.0</td>\n",
       "      <td>439</td>\n",
       "      <td>143.0</td>\n",
       "      <td>143</td>\n",
       "      <td>143</td>\n",
       "      <td>418</td>\n",
       "      <td>272.300976</td>\n",
       "      <td>171.600000</td>\n",
       "      <td>357.500000</td>\n",
       "    </tr>\n",
       "    <tr>\n",
       "      <th>1</th>\n",
       "      <td>EWR</td>\n",
       "      <td>ANC</td>\n",
       "      <td>UA</td>\n",
       "      <td>8</td>\n",
       "      <td>-2.500000</td>\n",
       "      <td>-47.0</td>\n",
       "      <td>39.0</td>\n",
       "      <td>8</td>\n",
       "      <td>413.125000</td>\n",
       "      <td>388.0</td>\n",
       "      <td>434.0</td>\n",
       "      <td>8</td>\n",
       "      <td>3370.0</td>\n",
       "      <td>3370</td>\n",
       "      <td>3370</td>\n",
       "      <td>8</td>\n",
       "      <td>489.985945</td>\n",
       "      <td>465.898618</td>\n",
       "      <td>521.134021</td>\n",
       "    </tr>\n",
       "    <tr>\n",
       "      <th>2</th>\n",
       "      <td>EWR</td>\n",
       "      <td>ATL</td>\n",
       "      <td>9E</td>\n",
       "      <td>4</td>\n",
       "      <td>-6.250000</td>\n",
       "      <td>-24.0</td>\n",
       "      <td>15.0</td>\n",
       "      <td>4</td>\n",
       "      <td>111.000000</td>\n",
       "      <td>105.0</td>\n",
       "      <td>117.0</td>\n",
       "      <td>4</td>\n",
       "      <td>746.0</td>\n",
       "      <td>746</td>\n",
       "      <td>746</td>\n",
       "      <td>4</td>\n",
       "      <td>403.899553</td>\n",
       "      <td>382.564103</td>\n",
       "      <td>426.285714</td>\n",
       "    </tr>\n",
       "    <tr>\n",
       "      <th>3</th>\n",
       "      <td>EWR</td>\n",
       "      <td>ATL</td>\n",
       "      <td>DL</td>\n",
       "      <td>3116</td>\n",
       "      <td>9.996470</td>\n",
       "      <td>-38.0</td>\n",
       "      <td>796.0</td>\n",
       "      <td>3116</td>\n",
       "      <td>110.853659</td>\n",
       "      <td>88.0</td>\n",
       "      <td>176.0</td>\n",
       "      <td>3153</td>\n",
       "      <td>746.0</td>\n",
       "      <td>746</td>\n",
       "      <td>746</td>\n",
       "      <td>3116</td>\n",
       "      <td>406.542093</td>\n",
       "      <td>254.318182</td>\n",
       "      <td>508.636364</td>\n",
       "    </tr>\n",
       "    <tr>\n",
       "      <th>4</th>\n",
       "      <td>EWR</td>\n",
       "      <td>ATL</td>\n",
       "      <td>EV</td>\n",
       "      <td>1654</td>\n",
       "      <td>19.546554</td>\n",
       "      <td>-39.0</td>\n",
       "      <td>454.0</td>\n",
       "      <td>1654</td>\n",
       "      <td>114.042322</td>\n",
       "      <td>90.0</td>\n",
       "      <td>161.0</td>\n",
       "      <td>1762</td>\n",
       "      <td>746.0</td>\n",
       "      <td>746</td>\n",
       "      <td>746</td>\n",
       "      <td>1654</td>\n",
       "      <td>395.945542</td>\n",
       "      <td>278.012422</td>\n",
       "      <td>497.333333</td>\n",
       "    </tr>\n",
       "  </tbody>\n",
       "</table>\n",
       "</div>"
      ],
      "text/plain": [
       "  origin dest carrier arr_delay                         air_time              \\\n",
       "                          count       mean   min    max    count        mean   \n",
       "0    EWR  ALB      EV       418  14.397129 -34.0  328.0      418   31.787081   \n",
       "1    EWR  ANC      UA         8  -2.500000 -47.0   39.0        8  413.125000   \n",
       "2    EWR  ATL      9E         4  -6.250000 -24.0   15.0        4  111.000000   \n",
       "3    EWR  ATL      DL      3116   9.996470 -38.0  796.0     3116  110.853659   \n",
       "4    EWR  ATL      EV      1654  19.546554 -39.0  454.0     1654  114.042322   \n",
       "\n",
       "                distance                     air_speed (mph)              \\\n",
       "     min    max    count    mean   min   max           count        mean   \n",
       "0   24.0   50.0      439   143.0   143   143             418  272.300976   \n",
       "1  388.0  434.0        8  3370.0  3370  3370               8  489.985945   \n",
       "2  105.0  117.0        4   746.0   746   746               4  403.899553   \n",
       "3   88.0  176.0     3153   746.0   746   746            3116  406.542093   \n",
       "4   90.0  161.0     1762   746.0   746   746            1654  395.945542   \n",
       "\n",
       "                           \n",
       "          min         max  \n",
       "0  171.600000  357.500000  \n",
       "1  465.898618  521.134021  \n",
       "2  382.564103  426.285714  \n",
       "3  254.318182  508.636364  \n",
       "4  278.012422  497.333333  "
      ]
     },
     "execution_count": 44,
     "metadata": {},
     "output_type": "execute_result"
    }
   ],
   "source": [
    "\n",
    "flights_grouped = flights.groupby(['origin', 'dest', 'carrier']).agg(['count', 'mean', 'min', 'max']).reset_index()\n",
    "flights_grouped.head()"
   ]
  },
  {
   "cell_type": "code",
   "execution_count": 45,
   "metadata": {
    "scrolled": true
   },
   "outputs": [
    {
     "data": {
      "text/html": [
       "<div>\n",
       "<style scoped>\n",
       "    .dataframe tbody tr th:only-of-type {\n",
       "        vertical-align: middle;\n",
       "    }\n",
       "\n",
       "    .dataframe tbody tr th {\n",
       "        vertical-align: top;\n",
       "    }\n",
       "\n",
       "    .dataframe thead tr th {\n",
       "        text-align: left;\n",
       "    }\n",
       "</style>\n",
       "<table border=\"1\" class=\"dataframe\">\n",
       "  <thead>\n",
       "    <tr>\n",
       "      <th></th>\n",
       "      <th>origin</th>\n",
       "      <th>dest</th>\n",
       "      <th>carrier</th>\n",
       "      <th colspan=\"4\" halign=\"left\">arr_delay</th>\n",
       "      <th colspan=\"4\" halign=\"left\">air_time</th>\n",
       "      <th colspan=\"4\" halign=\"left\">distance</th>\n",
       "      <th colspan=\"4\" halign=\"left\">air_speed (mph)</th>\n",
       "    </tr>\n",
       "    <tr>\n",
       "      <th></th>\n",
       "      <th></th>\n",
       "      <th></th>\n",
       "      <th></th>\n",
       "      <th>count</th>\n",
       "      <th>mean</th>\n",
       "      <th>min</th>\n",
       "      <th>max</th>\n",
       "      <th>count</th>\n",
       "      <th>mean</th>\n",
       "      <th>min</th>\n",
       "      <th>max</th>\n",
       "      <th>count</th>\n",
       "      <th>mean</th>\n",
       "      <th>min</th>\n",
       "      <th>max</th>\n",
       "      <th>count</th>\n",
       "      <th>mean</th>\n",
       "      <th>min</th>\n",
       "      <th>max</th>\n",
       "    </tr>\n",
       "  </thead>\n",
       "  <tbody>\n",
       "    <tr>\n",
       "      <th>0</th>\n",
       "      <td>EWR</td>\n",
       "      <td>ALB</td>\n",
       "      <td>ExpressJet Airlines Inc.</td>\n",
       "      <td>418</td>\n",
       "      <td>14.397129</td>\n",
       "      <td>-34.0</td>\n",
       "      <td>328.0</td>\n",
       "      <td>418</td>\n",
       "      <td>31.787081</td>\n",
       "      <td>24.0</td>\n",
       "      <td>50.0</td>\n",
       "      <td>439</td>\n",
       "      <td>143.0</td>\n",
       "      <td>143</td>\n",
       "      <td>143</td>\n",
       "      <td>418</td>\n",
       "      <td>272.300976</td>\n",
       "      <td>171.600000</td>\n",
       "      <td>357.500000</td>\n",
       "    </tr>\n",
       "    <tr>\n",
       "      <th>1</th>\n",
       "      <td>EWR</td>\n",
       "      <td>ANC</td>\n",
       "      <td>United Air Lines Inc.</td>\n",
       "      <td>8</td>\n",
       "      <td>-2.500000</td>\n",
       "      <td>-47.0</td>\n",
       "      <td>39.0</td>\n",
       "      <td>8</td>\n",
       "      <td>413.125000</td>\n",
       "      <td>388.0</td>\n",
       "      <td>434.0</td>\n",
       "      <td>8</td>\n",
       "      <td>3370.0</td>\n",
       "      <td>3370</td>\n",
       "      <td>3370</td>\n",
       "      <td>8</td>\n",
       "      <td>489.985945</td>\n",
       "      <td>465.898618</td>\n",
       "      <td>521.134021</td>\n",
       "    </tr>\n",
       "    <tr>\n",
       "      <th>2</th>\n",
       "      <td>EWR</td>\n",
       "      <td>ATL</td>\n",
       "      <td>Endeavor Air Inc.</td>\n",
       "      <td>4</td>\n",
       "      <td>-6.250000</td>\n",
       "      <td>-24.0</td>\n",
       "      <td>15.0</td>\n",
       "      <td>4</td>\n",
       "      <td>111.000000</td>\n",
       "      <td>105.0</td>\n",
       "      <td>117.0</td>\n",
       "      <td>4</td>\n",
       "      <td>746.0</td>\n",
       "      <td>746</td>\n",
       "      <td>746</td>\n",
       "      <td>4</td>\n",
       "      <td>403.899553</td>\n",
       "      <td>382.564103</td>\n",
       "      <td>426.285714</td>\n",
       "    </tr>\n",
       "    <tr>\n",
       "      <th>3</th>\n",
       "      <td>EWR</td>\n",
       "      <td>ATL</td>\n",
       "      <td>Delta Air Lines Inc.</td>\n",
       "      <td>3116</td>\n",
       "      <td>9.996470</td>\n",
       "      <td>-38.0</td>\n",
       "      <td>796.0</td>\n",
       "      <td>3116</td>\n",
       "      <td>110.853659</td>\n",
       "      <td>88.0</td>\n",
       "      <td>176.0</td>\n",
       "      <td>3153</td>\n",
       "      <td>746.0</td>\n",
       "      <td>746</td>\n",
       "      <td>746</td>\n",
       "      <td>3116</td>\n",
       "      <td>406.542093</td>\n",
       "      <td>254.318182</td>\n",
       "      <td>508.636364</td>\n",
       "    </tr>\n",
       "    <tr>\n",
       "      <th>4</th>\n",
       "      <td>EWR</td>\n",
       "      <td>ATL</td>\n",
       "      <td>ExpressJet Airlines Inc.</td>\n",
       "      <td>1654</td>\n",
       "      <td>19.546554</td>\n",
       "      <td>-39.0</td>\n",
       "      <td>454.0</td>\n",
       "      <td>1654</td>\n",
       "      <td>114.042322</td>\n",
       "      <td>90.0</td>\n",
       "      <td>161.0</td>\n",
       "      <td>1762</td>\n",
       "      <td>746.0</td>\n",
       "      <td>746</td>\n",
       "      <td>746</td>\n",
       "      <td>1654</td>\n",
       "      <td>395.945542</td>\n",
       "      <td>278.012422</td>\n",
       "      <td>497.333333</td>\n",
       "    </tr>\n",
       "  </tbody>\n",
       "</table>\n",
       "</div>"
      ],
      "text/plain": [
       "  origin dest                   carrier arr_delay                          \\\n",
       "                                            count       mean   min    max   \n",
       "0    EWR  ALB  ExpressJet Airlines Inc.       418  14.397129 -34.0  328.0   \n",
       "1    EWR  ANC     United Air Lines Inc.         8  -2.500000 -47.0   39.0   \n",
       "2    EWR  ATL         Endeavor Air Inc.         4  -6.250000 -24.0   15.0   \n",
       "3    EWR  ATL      Delta Air Lines Inc.      3116   9.996470 -38.0  796.0   \n",
       "4    EWR  ATL  ExpressJet Airlines Inc.      1654  19.546554 -39.0  454.0   \n",
       "\n",
       "  air_time                           distance                      \\\n",
       "     count        mean    min    max    count    mean   min   max   \n",
       "0      418   31.787081   24.0   50.0      439   143.0   143   143   \n",
       "1        8  413.125000  388.0  434.0        8  3370.0  3370  3370   \n",
       "2        4  111.000000  105.0  117.0        4   746.0   746   746   \n",
       "3     3116  110.853659   88.0  176.0     3153   746.0   746   746   \n",
       "4     1654  114.042322   90.0  161.0     1762   746.0   746   746   \n",
       "\n",
       "  air_speed (mph)                                      \n",
       "            count        mean         min         max  \n",
       "0             418  272.300976  171.600000  357.500000  \n",
       "1               8  489.985945  465.898618  521.134021  \n",
       "2               4  403.899553  382.564103  426.285714  \n",
       "3            3116  406.542093  254.318182  508.636364  \n",
       "4            1654  395.945542  278.012422  497.333333  "
      ]
     },
     "execution_count": 45,
     "metadata": {},
     "output_type": "execute_result"
    }
   ],
   "source": [
    "\n",
    "airlines = pd.read_csv('data/airlines.csv')\n",
    "airlines_dict = {code: name for code, name in zip(airlines['carrier'], airlines['name'])}\n",
    "flights_grouped['carrier'] = flights_grouped['carrier'].replace(airlines_dict)\n",
    "flights_grouped.head()"
   ]
  },
  {
   "cell_type": "code",
   "execution_count": 47,
   "metadata": {},
   "outputs": [],
   "source": [
    "# set(airports['TZ'])"
   ]
  },
  {
   "cell_type": "code",
   "execution_count": 60,
   "metadata": {},
   "outputs": [
    {
     "data": {
      "text/html": [
       "\n",
       "\n",
       "\n",
       "\n",
       "\n",
       "\n",
       "  <div class=\"bk-root\" id=\"bd1b05fe-79df-461e-97d7-8a36cf216410\" data-root-id=\"3849\"></div>\n"
      ]
     },
     "metadata": {},
     "output_type": "display_data"
    },
    {
     "data": {
      "application/javascript": [
       "(function(root) {\n",
       "  function embed_document(root) {\n",
       "    \n",
       "  var docs_json = {\"6558dfd2-440f-49c5-be58-2492b8797bd5\":{\"roots\":{\"references\":[{\"attributes\":{\"below\":[{\"id\":\"3858\",\"type\":\"LinearAxis\"}],\"center\":[{\"id\":\"3862\",\"type\":\"Grid\"},{\"id\":\"3867\",\"type\":\"Grid\"}],\"left\":[{\"id\":\"3863\",\"type\":\"LinearAxis\"}],\"plot_height\":400,\"plot_width\":400,\"renderers\":[{\"id\":\"3884\",\"type\":\"GlyphRenderer\"}],\"title\":{\"id\":\"3989\",\"type\":\"Title\"},\"toolbar\":{\"id\":\"3874\",\"type\":\"Toolbar\"},\"x_range\":{\"id\":\"3850\",\"type\":\"DataRange1d\"},\"x_scale\":{\"id\":\"3854\",\"type\":\"LinearScale\"},\"y_range\":{\"id\":\"3852\",\"type\":\"DataRange1d\"},\"y_scale\":{\"id\":\"3856\",\"type\":\"LinearScale\"}},\"id\":\"3849\",\"subtype\":\"Figure\",\"type\":\"Plot\"},{\"attributes\":{\"formatter\":{\"id\":\"3993\",\"type\":\"BasicTickFormatter\"},\"ticker\":{\"id\":\"3864\",\"type\":\"BasicTicker\"}},\"id\":\"3863\",\"type\":\"LinearAxis\"},{\"attributes\":{},\"id\":\"3996\",\"type\":\"Selection\"},{\"attributes\":{},\"id\":\"3872\",\"type\":\"ResetTool\"},{\"attributes\":{\"text\":\"\"},\"id\":\"3989\",\"type\":\"Title\"},{\"attributes\":{\"fill_alpha\":{\"value\":0.2},\"fill_color\":{\"value\":\"#1f77b4\"},\"line_color\":{\"value\":\"firebrick\"},\"line_dash\":[6,3],\"line_width\":{\"value\":2},\"size\":{\"units\":\"screen\",\"value\":60},\"x\":{\"field\":\"x\"},\"y\":{\"field\":\"y\"}},\"id\":\"3882\",\"type\":\"Circle\"},{\"attributes\":{\"bottom_units\":\"screen\",\"fill_alpha\":{\"value\":0.5},\"fill_color\":{\"value\":\"lightgrey\"},\"left_units\":\"screen\",\"level\":\"overlay\",\"line_alpha\":{\"value\":1.0},\"line_color\":{\"value\":\"black\"},\"line_dash\":[4,4],\"line_width\":{\"value\":2},\"render_mode\":\"css\",\"right_units\":\"screen\",\"top_units\":\"screen\"},\"id\":\"3997\",\"type\":\"BoxAnnotation\"},{\"attributes\":{},\"id\":\"3873\",\"type\":\"HelpTool\"},{\"attributes\":{},\"id\":\"3854\",\"type\":\"LinearScale\"},{\"attributes\":{},\"id\":\"3869\",\"type\":\"WheelZoomTool\"},{\"attributes\":{},\"id\":\"3995\",\"type\":\"UnionRenderers\"},{\"attributes\":{},\"id\":\"3871\",\"type\":\"SaveTool\"},{\"attributes\":{},\"id\":\"3991\",\"type\":\"BasicTickFormatter\"},{\"attributes\":{\"overlay\":{\"id\":\"3997\",\"type\":\"BoxAnnotation\"}},\"id\":\"3870\",\"type\":\"BoxZoomTool\"},{\"attributes\":{\"callback\":null},\"id\":\"3850\",\"type\":\"DataRange1d\"},{\"attributes\":{\"callback\":null},\"id\":\"3852\",\"type\":\"DataRange1d\"},{\"attributes\":{\"active_drag\":\"auto\",\"active_inspect\":\"auto\",\"active_multi\":null,\"active_scroll\":\"auto\",\"active_tap\":\"auto\",\"tools\":[{\"id\":\"3868\",\"type\":\"PanTool\"},{\"id\":\"3869\",\"type\":\"WheelZoomTool\"},{\"id\":\"3870\",\"type\":\"BoxZoomTool\"},{\"id\":\"3871\",\"type\":\"SaveTool\"},{\"id\":\"3872\",\"type\":\"ResetTool\"},{\"id\":\"3873\",\"type\":\"HelpTool\"}]},\"id\":\"3874\",\"type\":\"Toolbar\"},{\"attributes\":{\"data_source\":{\"id\":\"3881\",\"type\":\"ColumnDataSource\"},\"glyph\":{\"id\":\"3882\",\"type\":\"Circle\"},\"hover_glyph\":null,\"muted_glyph\":null,\"nonselection_glyph\":{\"id\":\"3883\",\"type\":\"Circle\"},\"selection_glyph\":null,\"view\":{\"id\":\"3885\",\"type\":\"CDSView\"}},\"id\":\"3884\",\"type\":\"GlyphRenderer\"},{\"attributes\":{\"ticker\":{\"id\":\"3859\",\"type\":\"BasicTicker\"}},\"id\":\"3862\",\"type\":\"Grid\"},{\"attributes\":{},\"id\":\"3859\",\"type\":\"BasicTicker\"},{\"attributes\":{},\"id\":\"3868\",\"type\":\"PanTool\"},{\"attributes\":{\"formatter\":{\"id\":\"3991\",\"type\":\"BasicTickFormatter\"},\"ticker\":{\"id\":\"3859\",\"type\":\"BasicTicker\"}},\"id\":\"3858\",\"type\":\"LinearAxis\"},{\"attributes\":{\"callback\":null,\"data\":{\"x\":[1,2,3,4,5],\"y\":[2,5,8,2,7]},\"selected\":{\"id\":\"3996\",\"type\":\"Selection\"},\"selection_policy\":{\"id\":\"3995\",\"type\":\"UnionRenderers\"}},\"id\":\"3881\",\"type\":\"ColumnDataSource\"},{\"attributes\":{\"fill_alpha\":{\"value\":0.1},\"fill_color\":{\"value\":\"#1f77b4\"},\"line_alpha\":{\"value\":0.1},\"line_color\":{\"value\":\"#1f77b4\"},\"x\":{\"field\":\"x\"},\"y\":{\"field\":\"y\"}},\"id\":\"3883\",\"type\":\"Circle\"},{\"attributes\":{\"dimension\":1,\"ticker\":{\"id\":\"3864\",\"type\":\"BasicTicker\"}},\"id\":\"3867\",\"type\":\"Grid\"},{\"attributes\":{},\"id\":\"3993\",\"type\":\"BasicTickFormatter\"},{\"attributes\":{},\"id\":\"3856\",\"type\":\"LinearScale\"},{\"attributes\":{},\"id\":\"3864\",\"type\":\"BasicTicker\"},{\"attributes\":{\"source\":{\"id\":\"3881\",\"type\":\"ColumnDataSource\"}},\"id\":\"3885\",\"type\":\"CDSView\"}],\"root_ids\":[\"3849\"]},\"title\":\"Bokeh Application\",\"version\":\"1.3.4\"}};\n",
       "  var render_items = [{\"docid\":\"6558dfd2-440f-49c5-be58-2492b8797bd5\",\"roots\":{\"3849\":\"bd1b05fe-79df-461e-97d7-8a36cf216410\"}}];\n",
       "  root.Bokeh.embed.embed_items_notebook(docs_json, render_items);\n",
       "\n",
       "  }\n",
       "  if (root.Bokeh !== undefined) {\n",
       "    embed_document(root);\n",
       "  } else {\n",
       "    var attempts = 0;\n",
       "    var timer = setInterval(function(root) {\n",
       "      if (root.Bokeh !== undefined) {\n",
       "        embed_document(root);\n",
       "        clearInterval(timer);\n",
       "      }\n",
       "      attempts++;\n",
       "      if (attempts > 100) {\n",
       "        console.log(\"Bokeh: ERROR: Unable to run BokehJS code because BokehJS library is missing\");\n",
       "        clearInterval(timer);\n",
       "      }\n",
       "    }, 10, root)\n",
       "  }\n",
       "})(window);"
      ],
      "application/vnd.bokehjs_exec.v0+json": ""
     },
     "metadata": {
      "application/vnd.bokehjs_exec.v0+json": {
       "id": "3849"
      }
     },
     "output_type": "display_data"
    }
   ],
   "source": [
    "from bokeh.plotting import figure, output_file, show\n",
    "\n",
    "output_file(\"axes.html\")\n",
    "\n",
    "p = figure(plot_width=400, plot_height=400)\n",
    "r = p.circle([1,2,3,4,5], [2,5,8,2,7])\n",
    "\n",
    "glyph = r.glyph\n",
    "glyph.size = 60\n",
    "glyph.fill_alpha = 0.2\n",
    "glyph.line_color = \"firebrick\"\n",
    "glyph.line_dash = [6, 3]\n",
    "glyph.line_width = 2\n",
    "\n",
    "show(p)"
   ]
  },
  {
   "cell_type": "code",
   "execution_count": 61,
   "metadata": {
    "scrolled": true
   },
   "outputs": [
    {
     "data": {
      "text/html": [
       "\n",
       "\n",
       "\n",
       "\n",
       "\n",
       "\n",
       "  <div class=\"bk-root\" id=\"2dade051-9bfc-4b09-bff6-8d3be7d636c2\" data-root-id=\"4143\"></div>\n"
      ]
     },
     "metadata": {},
     "output_type": "display_data"
    },
    {
     "data": {
      "application/javascript": [
       "(function(root) {\n",
       "  function embed_document(root) {\n",
       "    \n",
       "  var docs_json = {\"896d3484-3485-4360-b8a4-f20e1c77d3dd\":{\"roots\":{\"references\":[{\"attributes\":{\"below\":[{\"id\":\"4154\",\"type\":\"LinearAxis\"}],\"center\":[{\"id\":\"4158\",\"type\":\"Grid\"},{\"id\":\"4163\",\"type\":\"Grid\"}],\"left\":[{\"id\":\"4159\",\"type\":\"LinearAxis\"}],\"plot_height\":400,\"plot_width\":400,\"renderers\":[{\"id\":\"4170\",\"type\":\"GlyphRenderer\"}],\"title\":{\"id\":\"4144\",\"type\":\"Title\"},\"toolbar\":{\"id\":\"4165\",\"type\":\"Toolbar\"},\"x_range\":{\"id\":\"4146\",\"type\":\"DataRange1d\"},\"x_scale\":{\"id\":\"4150\",\"type\":\"LinearScale\"},\"y_range\":{\"id\":\"4148\",\"type\":\"DataRange1d\"},\"y_scale\":{\"id\":\"4152\",\"type\":\"LinearScale\"}},\"id\":\"4143\",\"subtype\":\"Figure\",\"type\":\"Plot\"},{\"attributes\":{},\"id\":\"4155\",\"type\":\"BasicTicker\"},{\"attributes\":{\"ticker\":{\"id\":\"4155\",\"type\":\"BasicTicker\"}},\"id\":\"4158\",\"type\":\"Grid\"},{\"attributes\":{\"dimension\":1,\"ticker\":{\"id\":\"4160\",\"type\":\"BasicTicker\"}},\"id\":\"4163\",\"type\":\"Grid\"},{\"attributes\":{\"data_source\":{\"id\":\"4167\",\"type\":\"ColumnDataSource\"},\"glyph\":{\"id\":\"4168\",\"type\":\"Circle\"},\"hover_glyph\":null,\"muted_glyph\":null,\"nonselection_glyph\":{\"id\":\"4173\",\"type\":\"Circle\"},\"selection_glyph\":{\"id\":\"4172\",\"type\":\"Circle\"},\"view\":{\"id\":\"4171\",\"type\":\"CDSView\"}},\"id\":\"4170\",\"type\":\"GlyphRenderer\"},{\"attributes\":{},\"id\":\"4287\",\"type\":\"BasicTickFormatter\"},{\"attributes\":{\"active_drag\":\"auto\",\"active_inspect\":\"auto\",\"active_multi\":null,\"active_scroll\":\"auto\",\"active_tap\":\"auto\",\"tools\":[{\"id\":\"4164\",\"type\":\"TapTool\"}]},\"id\":\"4165\",\"type\":\"Toolbar\"},{\"attributes\":{},\"id\":\"4152\",\"type\":\"LinearScale\"},{\"attributes\":{\"callback\":null},\"id\":\"4148\",\"type\":\"DataRange1d\"},{\"attributes\":{\"fill_color\":{\"value\":\"#1f77b4\"},\"line_color\":{\"value\":\"#1f77b4\"},\"size\":{\"units\":\"screen\",\"value\":50},\"x\":{\"field\":\"x\"},\"y\":{\"field\":\"y\"}},\"id\":\"4168\",\"type\":\"Circle\"},{\"attributes\":{\"callback\":null},\"id\":\"4146\",\"type\":\"DataRange1d\"},{\"attributes\":{},\"id\":\"4292\",\"type\":\"Selection\"},{\"attributes\":{\"source\":{\"id\":\"4167\",\"type\":\"ColumnDataSource\"}},\"id\":\"4171\",\"type\":\"CDSView\"},{\"attributes\":{\"callback\":null},\"id\":\"4164\",\"type\":\"TapTool\"},{\"attributes\":{},\"id\":\"4289\",\"type\":\"BasicTickFormatter\"},{\"attributes\":{\"fill_alpha\":{\"value\":0.2},\"fill_color\":{\"value\":\"blue\"},\"line_color\":{\"value\":\"firebrick\"}},\"id\":\"4173\",\"type\":\"Circle\"},{\"attributes\":{},\"id\":\"4150\",\"type\":\"LinearScale\"},{\"attributes\":{\"formatter\":{\"id\":\"4287\",\"type\":\"BasicTickFormatter\"},\"ticker\":{\"id\":\"4155\",\"type\":\"BasicTicker\"}},\"id\":\"4154\",\"type\":\"LinearAxis\"},{\"attributes\":{\"callback\":null,\"data\":{\"x\":[1,2,3,4,5],\"y\":[2,5,8,2,7]},\"selected\":{\"id\":\"4292\",\"type\":\"Selection\"},\"selection_policy\":{\"id\":\"4291\",\"type\":\"UnionRenderers\"}},\"id\":\"4167\",\"type\":\"ColumnDataSource\"},{\"attributes\":{\"fill_color\":{\"value\":\"firebrick\"},\"line_color\":{\"value\":null}},\"id\":\"4172\",\"type\":\"Circle\"},{\"attributes\":{\"formatter\":{\"id\":\"4289\",\"type\":\"BasicTickFormatter\"},\"ticker\":{\"id\":\"4160\",\"type\":\"BasicTicker\"}},\"id\":\"4159\",\"type\":\"LinearAxis\"},{\"attributes\":{\"text\":\"Select a circle\"},\"id\":\"4144\",\"type\":\"Title\"},{\"attributes\":{},\"id\":\"4291\",\"type\":\"UnionRenderers\"},{\"attributes\":{},\"id\":\"4160\",\"type\":\"BasicTicker\"}],\"root_ids\":[\"4143\"]},\"title\":\"Bokeh Application\",\"version\":\"1.3.4\"}};\n",
       "  var render_items = [{\"docid\":\"896d3484-3485-4360-b8a4-f20e1c77d3dd\",\"roots\":{\"4143\":\"2dade051-9bfc-4b09-bff6-8d3be7d636c2\"}}];\n",
       "  root.Bokeh.embed.embed_items_notebook(docs_json, render_items);\n",
       "\n",
       "  }\n",
       "  if (root.Bokeh !== undefined) {\n",
       "    embed_document(root);\n",
       "  } else {\n",
       "    var attempts = 0;\n",
       "    var timer = setInterval(function(root) {\n",
       "      if (root.Bokeh !== undefined) {\n",
       "        embed_document(root);\n",
       "        clearInterval(timer);\n",
       "      }\n",
       "      attempts++;\n",
       "      if (attempts > 100) {\n",
       "        console.log(\"Bokeh: ERROR: Unable to run BokehJS code because BokehJS library is missing\");\n",
       "        clearInterval(timer);\n",
       "      }\n",
       "    }, 10, root)\n",
       "  }\n",
       "})(window);"
      ],
      "application/vnd.bokehjs_exec.v0+json": ""
     },
     "metadata": {
      "application/vnd.bokehjs_exec.v0+json": {
       "id": "4143"
      }
     },
     "output_type": "display_data"
    }
   ],
   "source": [
    "from bokeh.io import output_file, show\n",
    "from bokeh.plotting import figure\n",
    "from bokeh.models import Circle\n",
    "\n",
    "output_file(\"styling_selections.html\")\n",
    "\n",
    "plot = figure(plot_width=400, plot_height=400, tools=\"tap\", title=\"Select a circle\")\n",
    "renderer = plot.circle([1, 2, 3, 4, 5], [2, 5, 8, 2, 7], size=50)\n",
    "\n",
    "selected_circle = Circle(fill_alpha=1, fill_color=\"firebrick\", line_color=None)\n",
    "nonselected_circle = Circle(fill_alpha=0.2, fill_color=\"blue\", line_color=\"firebrick\")\n",
    "\n",
    "renderer.selection_glyph = selected_circle\n",
    "renderer.nonselection_glyph = nonselected_circle\n",
    "\n",
    "show(plot)"
   ]
  },
  {
   "cell_type": "code",
   "execution_count": null,
   "metadata": {
    "collapsed": true
   },
   "outputs": [],
   "source": []
  },
  {
   "cell_type": "code",
   "execution_count": 15,
   "metadata": {},
   "outputs": [],
   "source": [
    "\"\"\"Bins will be five minutes in width, so the number of bins \n",
    "is (length of interval / 5). Limit delays to [-60, +120] minutes using the range.\"\"\"\n",
    "arr_hist, edges = np.histogram(flights['arr_delay'], \n",
    "                               bins = int(180/5), \n",
    "                               range = [-60, 120])\n",
    "# Put the information in a dataframe\n",
    "delays = pd.DataFrame({'flights': arr_hist, \n",
    "                       'left': edges[:-1], \n",
    "                       'right': edges[1:]})"
   ]
  },
  {
   "cell_type": "code",
   "execution_count": 16,
   "metadata": {
    "scrolled": true
   },
   "outputs": [
    {
     "data": {
      "text/html": [
       "<div>\n",
       "<style scoped>\n",
       "    .dataframe tbody tr th:only-of-type {\n",
       "        vertical-align: middle;\n",
       "    }\n",
       "\n",
       "    .dataframe tbody tr th {\n",
       "        vertical-align: top;\n",
       "    }\n",
       "\n",
       "    .dataframe thead th {\n",
       "        text-align: right;\n",
       "    }\n",
       "</style>\n",
       "<table border=\"1\" class=\"dataframe\">\n",
       "  <thead>\n",
       "    <tr style=\"text-align: right;\">\n",
       "      <th></th>\n",
       "      <th>flights</th>\n",
       "      <th>left</th>\n",
       "      <th>right</th>\n",
       "    </tr>\n",
       "  </thead>\n",
       "  <tbody>\n",
       "    <tr>\n",
       "      <th>0</th>\n",
       "      <td>276</td>\n",
       "      <td>-60.0</td>\n",
       "      <td>-55.0</td>\n",
       "    </tr>\n",
       "    <tr>\n",
       "      <th>1</th>\n",
       "      <td>636</td>\n",
       "      <td>-55.0</td>\n",
       "      <td>-50.0</td>\n",
       "    </tr>\n",
       "    <tr>\n",
       "      <th>2</th>\n",
       "      <td>1394</td>\n",
       "      <td>-50.0</td>\n",
       "      <td>-45.0</td>\n",
       "    </tr>\n",
       "    <tr>\n",
       "      <th>3</th>\n",
       "      <td>2820</td>\n",
       "      <td>-45.0</td>\n",
       "      <td>-40.0</td>\n",
       "    </tr>\n",
       "    <tr>\n",
       "      <th>4</th>\n",
       "      <td>5339</td>\n",
       "      <td>-40.0</td>\n",
       "      <td>-35.0</td>\n",
       "    </tr>\n",
       "  </tbody>\n",
       "</table>\n",
       "</div>"
      ],
      "text/plain": [
       "   flights  left  right\n",
       "0      276 -60.0  -55.0\n",
       "1      636 -55.0  -50.0\n",
       "2     1394 -50.0  -45.0\n",
       "3     2820 -45.0  -40.0\n",
       "4     5339 -40.0  -35.0"
      ]
     },
     "execution_count": 16,
     "metadata": {},
     "output_type": "execute_result"
    }
   ],
   "source": [
    "delays.head()"
   ]
  },
  {
   "cell_type": "markdown",
   "metadata": {},
   "source": [
    "# Basic plotting"
   ]
  },
  {
   "cell_type": "code",
   "execution_count": 59,
   "metadata": {},
   "outputs": [
    {
     "data": {
      "text/html": [
       "\n",
       "\n",
       "\n",
       "\n",
       "\n",
       "\n",
       "  <div class=\"bk-root\" id=\"b3382603-7a04-438c-a192-12cc4bfff952\" data-root-id=\"3578\"></div>\n"
      ]
     },
     "metadata": {},
     "output_type": "display_data"
    },
    {
     "data": {
      "application/javascript": [
       "(function(root) {\n",
       "  function embed_document(root) {\n",
       "    \n",
       "  var docs_json = {\"73b47fbb-e07e-4c06-b10a-7a70550fe2ee\":{\"roots\":{\"references\":[{\"attributes\":{\"below\":[{\"id\":\"3589\",\"type\":\"LinearAxis\"}],\"center\":[{\"id\":\"3593\",\"type\":\"Grid\"},{\"id\":\"3598\",\"type\":\"Grid\"}],\"left\":[{\"id\":\"3594\",\"type\":\"LinearAxis\"}],\"renderers\":[{\"id\":\"3615\",\"type\":\"GlyphRenderer\"}],\"title\":{\"id\":\"3579\",\"type\":\"Title\"},\"toolbar\":{\"id\":\"3605\",\"type\":\"Toolbar\"},\"x_range\":{\"id\":\"3581\",\"type\":\"DataRange1d\"},\"x_scale\":{\"id\":\"3585\",\"type\":\"LinearScale\"},\"y_range\":{\"id\":\"3583\",\"type\":\"DataRange1d\"},\"y_scale\":{\"id\":\"3587\",\"type\":\"LinearScale\"}},\"id\":\"3578\",\"subtype\":\"Figure\",\"type\":\"Plot\"},{\"attributes\":{\"data_source\":{\"id\":\"3612\",\"type\":\"ColumnDataSource\"},\"glyph\":{\"id\":\"3613\",\"type\":\"Quad\"},\"hover_glyph\":null,\"muted_glyph\":null,\"nonselection_glyph\":{\"id\":\"3614\",\"type\":\"Quad\"},\"selection_glyph\":null,\"view\":{\"id\":\"3616\",\"type\":\"CDSView\"}},\"id\":\"3615\",\"type\":\"GlyphRenderer\"},{\"attributes\":{\"bottom\":{\"value\":0},\"fill_alpha\":{\"value\":0.1},\"fill_color\":{\"value\":\"#1f77b4\"},\"left\":{\"field\":\"left\"},\"line_alpha\":{\"value\":0.1},\"line_color\":{\"value\":\"#1f77b4\"},\"right\":{\"field\":\"right\"},\"top\":{\"field\":\"top\"}},\"id\":\"3614\",\"type\":\"Quad\"},{\"attributes\":{\"axis_label\":\"Delay (min)]\",\"formatter\":{\"id\":\"3713\",\"type\":\"BasicTickFormatter\"},\"ticker\":{\"id\":\"3590\",\"type\":\"BasicTicker\"}},\"id\":\"3589\",\"type\":\"LinearAxis\"},{\"attributes\":{\"active_drag\":\"auto\",\"active_inspect\":\"auto\",\"active_multi\":null,\"active_scroll\":\"auto\",\"active_tap\":\"auto\",\"tools\":[{\"id\":\"3599\",\"type\":\"PanTool\"},{\"id\":\"3600\",\"type\":\"WheelZoomTool\"},{\"id\":\"3601\",\"type\":\"BoxZoomTool\"},{\"id\":\"3602\",\"type\":\"SaveTool\"},{\"id\":\"3603\",\"type\":\"ResetTool\"},{\"id\":\"3604\",\"type\":\"HelpTool\"}]},\"id\":\"3605\",\"type\":\"Toolbar\"},{\"attributes\":{\"source\":{\"id\":\"3612\",\"type\":\"ColumnDataSource\"}},\"id\":\"3616\",\"type\":\"CDSView\"},{\"attributes\":{},\"id\":\"3604\",\"type\":\"HelpTool\"},{\"attributes\":{},\"id\":\"3603\",\"type\":\"ResetTool\"},{\"attributes\":{},\"id\":\"3718\",\"type\":\"Selection\"},{\"attributes\":{\"text\":\"Histogram of Arrival Delays\"},\"id\":\"3579\",\"type\":\"Title\"},{\"attributes\":{\"callback\":null,\"data\":{\"left\":{\"__ndarray__\":\"AAAAAAAATsAAAAAAAIBLwAAAAAAAAEnAAAAAAACARsAAAAAAAABEwAAAAAAAgEHAAAAAAAAAPsAAAAAAAAA5wAAAAAAAADTAAAAAAAAALsAAAAAAAAAkwAAAAAAAABTAAAAAAAAAAAAAAAAAAAAUQAAAAAAAACRAAAAAAAAALkAAAAAAAAA0QAAAAAAAADlAAAAAAAAAPkAAAAAAAIBBQAAAAAAAAERAAAAAAACARkAAAAAAAABJQAAAAAAAgEtAAAAAAAAATkAAAAAAAEBQQAAAAAAAgFFAAAAAAADAUkAAAAAAAABUQAAAAAAAQFVAAAAAAACAVkAAAAAAAMBXQAAAAAAAAFlAAAAAAABAWkAAAAAAAIBbQAAAAAAAwFxA\",\"dtype\":\"float64\",\"shape\":[36]},\"right\":{\"__ndarray__\":\"AAAAAACAS8AAAAAAAABJwAAAAAAAgEbAAAAAAAAARMAAAAAAAIBBwAAAAAAAAD7AAAAAAAAAOcAAAAAAAAA0wAAAAAAAAC7AAAAAAAAAJMAAAAAAAAAUwAAAAAAAAAAAAAAAAAAAFEAAAAAAAAAkQAAAAAAAAC5AAAAAAAAANEAAAAAAAAA5QAAAAAAAAD5AAAAAAACAQUAAAAAAAABEQAAAAAAAgEZAAAAAAAAASUAAAAAAAIBLQAAAAAAAAE5AAAAAAABAUEAAAAAAAIBRQAAAAAAAwFJAAAAAAAAAVEAAAAAAAEBVQAAAAAAAgFZAAAAAAADAV0AAAAAAAABZQAAAAAAAQFpAAAAAAACAW0AAAAAAAMBcQAAAAAAAAF5A\",\"dtype\":\"float64\",\"shape\":[36]},\"top\":[276,636,1394,2820,5339,9420,15551,23546,31319,34857,33790,29786,24391,19028,14894,11324,8815,7159,5908,4896,4130,3630,3139,2782,2455,2179,1973,1805,1646,1454,1360,1286,1167,1013,945,1000]},\"selected\":{\"id\":\"3718\",\"type\":\"Selection\"},\"selection_policy\":{\"id\":\"3717\",\"type\":\"UnionRenderers\"}},\"id\":\"3612\",\"type\":\"ColumnDataSource\"},{\"attributes\":{},\"id\":\"3587\",\"type\":\"LinearScale\"},{\"attributes\":{\"axis_label\":\"Number of Flights\",\"formatter\":{\"id\":\"3715\",\"type\":\"BasicTickFormatter\"},\"ticker\":{\"id\":\"3595\",\"type\":\"BasicTicker\"}},\"id\":\"3594\",\"type\":\"LinearAxis\"},{\"attributes\":{},\"id\":\"3600\",\"type\":\"WheelZoomTool\"},{\"attributes\":{\"dimension\":1,\"ticker\":{\"id\":\"3595\",\"type\":\"BasicTicker\"}},\"id\":\"3598\",\"type\":\"Grid\"},{\"attributes\":{},\"id\":\"3585\",\"type\":\"LinearScale\"},{\"attributes\":{},\"id\":\"3599\",\"type\":\"PanTool\"},{\"attributes\":{},\"id\":\"3715\",\"type\":\"BasicTickFormatter\"},{\"attributes\":{},\"id\":\"3595\",\"type\":\"BasicTicker\"},{\"attributes\":{\"overlay\":{\"id\":\"3719\",\"type\":\"BoxAnnotation\"}},\"id\":\"3601\",\"type\":\"BoxZoomTool\"},{\"attributes\":{\"bottom_units\":\"screen\",\"fill_alpha\":{\"value\":0.5},\"fill_color\":{\"value\":\"lightgrey\"},\"left_units\":\"screen\",\"level\":\"overlay\",\"line_alpha\":{\"value\":1.0},\"line_color\":{\"value\":\"black\"},\"line_dash\":[4,4],\"line_width\":{\"value\":2},\"render_mode\":\"css\",\"right_units\":\"screen\",\"top_units\":\"screen\"},\"id\":\"3719\",\"type\":\"BoxAnnotation\"},{\"attributes\":{},\"id\":\"3602\",\"type\":\"SaveTool\"},{\"attributes\":{\"ticker\":{\"id\":\"3590\",\"type\":\"BasicTicker\"}},\"id\":\"3593\",\"type\":\"Grid\"},{\"attributes\":{},\"id\":\"3713\",\"type\":\"BasicTickFormatter\"},{\"attributes\":{\"callback\":null},\"id\":\"3583\",\"type\":\"DataRange1d\"},{\"attributes\":{\"bottom\":{\"value\":0},\"fill_color\":{\"value\":\"red\"},\"left\":{\"field\":\"left\"},\"right\":{\"field\":\"right\"},\"top\":{\"field\":\"top\"}},\"id\":\"3613\",\"type\":\"Quad\"},{\"attributes\":{},\"id\":\"3717\",\"type\":\"UnionRenderers\"},{\"attributes\":{\"callback\":null},\"id\":\"3581\",\"type\":\"DataRange1d\"},{\"attributes\":{},\"id\":\"3590\",\"type\":\"BasicTicker\"}],\"root_ids\":[\"3578\"]},\"title\":\"Bokeh Application\",\"version\":\"1.3.4\"}};\n",
       "  var render_items = [{\"docid\":\"73b47fbb-e07e-4c06-b10a-7a70550fe2ee\",\"roots\":{\"3578\":\"b3382603-7a04-438c-a192-12cc4bfff952\"}}];\n",
       "  root.Bokeh.embed.embed_items_notebook(docs_json, render_items);\n",
       "\n",
       "  }\n",
       "  if (root.Bokeh !== undefined) {\n",
       "    embed_document(root);\n",
       "  } else {\n",
       "    var attempts = 0;\n",
       "    var timer = setInterval(function(root) {\n",
       "      if (root.Bokeh !== undefined) {\n",
       "        embed_document(root);\n",
       "        clearInterval(timer);\n",
       "      }\n",
       "      attempts++;\n",
       "      if (attempts > 100) {\n",
       "        console.log(\"Bokeh: ERROR: Unable to run BokehJS code because BokehJS library is missing\");\n",
       "        clearInterval(timer);\n",
       "      }\n",
       "    }, 10, root)\n",
       "  }\n",
       "})(window);"
      ],
      "application/vnd.bokehjs_exec.v0+json": ""
     },
     "metadata": {
      "application/vnd.bokehjs_exec.v0+json": {
       "id": "3578"
      }
     },
     "output_type": "display_data"
    }
   ],
   "source": [
    "# Create the blank plot\n",
    "p = figure(plot_height = 600, plot_width = 600, \n",
    "           title = 'Histogram of Arrival Delays',\n",
    "          x_axis_label = 'Delay (min)]', \n",
    "           y_axis_label = 'Number of Flights')\n",
    "\n",
    "# Add a quad glyph\n",
    "p.quad(bottom=0, top=delays['flights'], \n",
    "       left=delays['left'], right=delays['right'], \n",
    "       fill_color='red', line_color='black')\n",
    "\n",
    "# Show the plot\n",
    "show(p)"
   ]
  },
  {
   "cell_type": "markdown",
   "metadata": {},
   "source": [
    "# Adding Interactivity"
   ]
  },
  {
   "cell_type": "code",
   "execution_count": 49,
   "metadata": {},
   "outputs": [
    {
     "data": {
      "text/plain": [
       "dict_keys(['index', 'flights', 'left', 'right', 'f_interval'])"
      ]
     },
     "execution_count": 49,
     "metadata": {},
     "output_type": "execute_result"
    }
   ],
   "source": [
    "# Import the ColumnDataSource class\n",
    "from bokeh.models import ColumnDataSource\n",
    "# Convert dataframe to column data source\n",
    "src = ColumnDataSource(delays)\n",
    "src.data.keys()\n"
   ]
  },
  {
   "cell_type": "code",
   "execution_count": 50,
   "metadata": {
    "scrolled": true
   },
   "outputs": [
    {
     "data": {
      "text/html": [
       "\n",
       "\n",
       "\n",
       "\n",
       "\n",
       "\n",
       "  <div class=\"bk-root\" id=\"ac285d8b-3116-4275-8642-50236e2c1fee\" data-root-id=\"1791\"></div>\n"
      ]
     },
     "metadata": {},
     "output_type": "display_data"
    },
    {
     "data": {
      "application/javascript": [
       "(function(root) {\n",
       "  function embed_document(root) {\n",
       "    \n",
       "  var docs_json = {\"9688ca82-36a2-4a00-89f1-4e6403ebe38a\":{\"roots\":{\"references\":[{\"attributes\":{\"below\":[{\"id\":\"1802\",\"type\":\"LinearAxis\"}],\"center\":[{\"id\":\"1806\",\"type\":\"Grid\"},{\"id\":\"1811\",\"type\":\"Grid\"}],\"left\":[{\"id\":\"1807\",\"type\":\"LinearAxis\"}],\"renderers\":[{\"id\":\"1829\",\"type\":\"GlyphRenderer\"},{\"id\":\"1836\",\"type\":\"GlyphRenderer\"}],\"title\":{\"id\":\"1792\",\"type\":\"Title\"},\"toolbar\":{\"id\":\"1818\",\"type\":\"Toolbar\"},\"x_range\":{\"id\":\"1794\",\"type\":\"DataRange1d\"},\"x_scale\":{\"id\":\"1798\",\"type\":\"LinearScale\"},\"y_range\":{\"id\":\"1796\",\"type\":\"DataRange1d\"},\"y_scale\":{\"id\":\"1800\",\"type\":\"LinearScale\"}},\"id\":\"1791\",\"subtype\":\"Figure\",\"type\":\"Plot\"},{\"attributes\":{\"callback\":null,\"data\":{\"f_interval\":[\"-60 to -55 minutes\",\"-55 to -50 minutes\",\"-50 to -45 minutes\",\"-45 to -40 minutes\",\"-40 to -35 minutes\",\"-35 to -30 minutes\",\"-30 to -25 minutes\",\"-25 to -20 minutes\",\"-20 to -15 minutes\",\"-15 to -10 minutes\",\"-10 to -5 minutes\",\"-5 to 0 minutes\",\"0 to 5 minutes\",\"5 to 10 minutes\",\"10 to 15 minutes\",\"15 to 20 minutes\",\"20 to 25 minutes\",\"25 to 30 minutes\",\"30 to 35 minutes\",\"35 to 40 minutes\",\"40 to 45 minutes\",\"45 to 50 minutes\",\"50 to 55 minutes\",\"55 to 60 minutes\",\"60 to 65 minutes\",\"65 to 70 minutes\",\"70 to 75 minutes\",\"75 to 80 minutes\",\"80 to 85 minutes\",\"85 to 90 minutes\",\"90 to 95 minutes\",\"95 to 100 minutes\",\"100 to 105 minutes\",\"105 to 110 minutes\",\"110 to 115 minutes\",\"115 to 120 minutes\"],\"flights\":[276,636,1394,2820,5339,9420,15551,23546,31319,34857,33790,29786,24391,19028,14894,11324,8815,7159,5908,4896,4130,3630,3139,2782,2455,2179,1973,1805,1646,1454,1360,1286,1167,1013,945,1000],\"index\":[0,1,2,3,4,5,6,7,8,9,10,11,12,13,14,15,16,17,18,19,20,21,22,23,24,25,26,27,28,29,30,31,32,33,34,35],\"left\":{\"__ndarray__\":\"AAAAAAAATsAAAAAAAIBLwAAAAAAAAEnAAAAAAACARsAAAAAAAABEwAAAAAAAgEHAAAAAAAAAPsAAAAAAAAA5wAAAAAAAADTAAAAAAAAALsAAAAAAAAAkwAAAAAAAABTAAAAAAAAAAAAAAAAAAAAUQAAAAAAAACRAAAAAAAAALkAAAAAAAAA0QAAAAAAAADlAAAAAAAAAPkAAAAAAAIBBQAAAAAAAAERAAAAAAACARkAAAAAAAABJQAAAAAAAgEtAAAAAAAAATkAAAAAAAEBQQAAAAAAAgFFAAAAAAADAUkAAAAAAAABUQAAAAAAAQFVAAAAAAACAVkAAAAAAAMBXQAAAAAAAAFlAAAAAAABAWkAAAAAAAIBbQAAAAAAAwFxA\",\"dtype\":\"float64\",\"shape\":[36]},\"right\":{\"__ndarray__\":\"AAAAAACAS8AAAAAAAABJwAAAAAAAgEbAAAAAAAAARMAAAAAAAIBBwAAAAAAAAD7AAAAAAAAAOcAAAAAAAAA0wAAAAAAAAC7AAAAAAAAAJMAAAAAAAAAUwAAAAAAAAAAAAAAAAAAAFEAAAAAAAAAkQAAAAAAAAC5AAAAAAAAANEAAAAAAAAA5QAAAAAAAAD5AAAAAAACAQUAAAAAAAABEQAAAAAAAgEZAAAAAAAAASUAAAAAAAIBLQAAAAAAAAE5AAAAAAABAUEAAAAAAAIBRQAAAAAAAwFJAAAAAAAAAVEAAAAAAAEBVQAAAAAAAgFZAAAAAAADAV0AAAAAAAABZQAAAAAAAQFpAAAAAAACAW0AAAAAAAMBcQAAAAAAAAF5A\",\"dtype\":\"float64\",\"shape\":[36]}},\"selected\":{\"id\":\"1880\",\"type\":\"Selection\"},\"selection_policy\":{\"id\":\"1879\",\"type\":\"UnionRenderers\"}},\"id\":\"1832\",\"type\":\"ColumnDataSource\"},{\"attributes\":{\"data_source\":{\"id\":\"1597\",\"type\":\"ColumnDataSource\"},\"glyph\":{\"id\":\"1826\",\"type\":\"Quad\"},\"hover_glyph\":{\"id\":\"1828\",\"type\":\"Quad\"},\"muted_glyph\":null,\"nonselection_glyph\":{\"id\":\"1827\",\"type\":\"Quad\"},\"selection_glyph\":null,\"view\":{\"id\":\"1830\",\"type\":\"CDSView\"}},\"id\":\"1829\",\"type\":\"GlyphRenderer\"},{\"attributes\":{},\"id\":\"1798\",\"type\":\"LinearScale\"},{\"attributes\":{\"source\":{\"id\":\"1832\",\"type\":\"ColumnDataSource\"}},\"id\":\"1837\",\"type\":\"CDSView\"},{\"attributes\":{},\"id\":\"1800\",\"type\":\"LinearScale\"},{\"attributes\":{},\"id\":\"1634\",\"type\":\"UnionRenderers\"},{\"attributes\":{\"axis_label\":\"Delay (min)]\",\"formatter\":{\"id\":\"1873\",\"type\":\"BasicTickFormatter\"},\"ticker\":{\"id\":\"1803\",\"type\":\"BasicTicker\"}},\"id\":\"1802\",\"type\":\"LinearAxis\"},{\"attributes\":{\"source\":{\"id\":\"1597\",\"type\":\"ColumnDataSource\"}},\"id\":\"1830\",\"type\":\"CDSView\"},{\"attributes\":{},\"id\":\"1803\",\"type\":\"BasicTicker\"},{\"attributes\":{\"ticker\":{\"id\":\"1803\",\"type\":\"BasicTicker\"}},\"id\":\"1806\",\"type\":\"Grid\"},{\"attributes\":{},\"id\":\"1880\",\"type\":\"Selection\"},{\"attributes\":{\"axis_label\":\"Number of Flights\",\"formatter\":{\"id\":\"1875\",\"type\":\"BasicTickFormatter\"},\"ticker\":{\"id\":\"1808\",\"type\":\"BasicTicker\"}},\"id\":\"1807\",\"type\":\"LinearAxis\"},{\"attributes\":{},\"id\":\"1808\",\"type\":\"BasicTicker\"},{\"attributes\":{\"dimension\":1,\"ticker\":{\"id\":\"1808\",\"type\":\"BasicTicker\"}},\"id\":\"1811\",\"type\":\"Grid\"},{\"attributes\":{\"bottom\":{\"value\":0},\"fill_alpha\":{\"value\":0.1},\"fill_color\":{\"value\":\"#1f77b4\"},\"left\":{\"field\":\"left\"},\"line_alpha\":{\"value\":0.1},\"line_color\":{\"value\":\"#1f77b4\"},\"right\":{\"field\":\"right\"},\"top\":{\"field\":\"flights\"}},\"id\":\"1827\",\"type\":\"Quad\"},{\"attributes\":{\"bottom\":{\"value\":0},\"fill_alpha\":{\"value\":0.75},\"fill_color\":{\"value\":\"red\"},\"left\":{\"field\":\"left\"},\"right\":{\"field\":\"right\"},\"top\":{\"field\":\"flights\"}},\"id\":\"1826\",\"type\":\"Quad\"},{\"attributes\":{\"active_drag\":\"auto\",\"active_inspect\":\"auto\",\"active_multi\":null,\"active_scroll\":\"auto\",\"active_tap\":\"auto\",\"tools\":[{\"id\":\"1812\",\"type\":\"PanTool\"},{\"id\":\"1813\",\"type\":\"WheelZoomTool\"},{\"id\":\"1814\",\"type\":\"BoxZoomTool\"},{\"id\":\"1815\",\"type\":\"SaveTool\"},{\"id\":\"1816\",\"type\":\"ResetTool\"},{\"id\":\"1817\",\"type\":\"HelpTool\"}]},\"id\":\"1818\",\"type\":\"Toolbar\"},{\"attributes\":{},\"id\":\"1812\",\"type\":\"PanTool\"},{\"attributes\":{},\"id\":\"1873\",\"type\":\"BasicTickFormatter\"},{\"attributes\":{},\"id\":\"1813\",\"type\":\"WheelZoomTool\"},{\"attributes\":{},\"id\":\"1635\",\"type\":\"Selection\"},{\"attributes\":{\"bottom_units\":\"screen\",\"fill_alpha\":{\"value\":0.5},\"fill_color\":{\"value\":\"lightgrey\"},\"left_units\":\"screen\",\"level\":\"overlay\",\"line_alpha\":{\"value\":1.0},\"line_color\":{\"value\":\"black\"},\"line_dash\":[4,4],\"line_width\":{\"value\":2},\"render_mode\":\"css\",\"right_units\":\"screen\",\"top_units\":\"screen\"},\"id\":\"1881\",\"type\":\"BoxAnnotation\"},{\"attributes\":{\"data_source\":{\"id\":\"1832\",\"type\":\"ColumnDataSource\"},\"glyph\":{\"id\":\"1834\",\"type\":\"Quad\"},\"hover_glyph\":null,\"muted_glyph\":null,\"nonselection_glyph\":{\"id\":\"1835\",\"type\":\"Quad\"},\"selection_glyph\":null,\"view\":{\"id\":\"1837\",\"type\":\"CDSView\"}},\"id\":\"1836\",\"type\":\"GlyphRenderer\"},{\"attributes\":{\"overlay\":{\"id\":\"1881\",\"type\":\"BoxAnnotation\"}},\"id\":\"1814\",\"type\":\"BoxZoomTool\"},{\"attributes\":{},\"id\":\"1815\",\"type\":\"SaveTool\"},{\"attributes\":{},\"id\":\"1879\",\"type\":\"UnionRenderers\"},{\"attributes\":{},\"id\":\"1875\",\"type\":\"BasicTickFormatter\"},{\"attributes\":{},\"id\":\"1816\",\"type\":\"ResetTool\"},{\"attributes\":{\"callback\":null,\"data\":{\"flights\":[276,636,1394,2820,5339,9420,15551,23546,31319,34857,33790,29786,24391,19028,14894,11324,8815,7159,5908,4896,4130,3630,3139,2782,2455,2179,1973,1805,1646,1454,1360,1286,1167,1013,945,1000],\"index\":[0,1,2,3,4,5,6,7,8,9,10,11,12,13,14,15,16,17,18,19,20,21,22,23,24,25,26,27,28,29,30,31,32,33,34,35],\"left\":{\"__ndarray__\":\"AAAAAAAATsAAAAAAAIBLwAAAAAAAAEnAAAAAAACARsAAAAAAAABEwAAAAAAAgEHAAAAAAAAAPsAAAAAAAAA5wAAAAAAAADTAAAAAAAAALsAAAAAAAAAkwAAAAAAAABTAAAAAAAAAAAAAAAAAAAAUQAAAAAAAACRAAAAAAAAALkAAAAAAAAA0QAAAAAAAADlAAAAAAAAAPkAAAAAAAIBBQAAAAAAAAERAAAAAAACARkAAAAAAAABJQAAAAAAAgEtAAAAAAAAATkAAAAAAAEBQQAAAAAAAgFFAAAAAAADAUkAAAAAAAABUQAAAAAAAQFVAAAAAAACAVkAAAAAAAMBXQAAAAAAAAFlAAAAAAABAWkAAAAAAAIBbQAAAAAAAwFxA\",\"dtype\":\"float64\",\"shape\":[36]},\"right\":{\"__ndarray__\":\"AAAAAACAS8AAAAAAAABJwAAAAAAAgEbAAAAAAAAARMAAAAAAAIBBwAAAAAAAAD7AAAAAAAAAOcAAAAAAAAA0wAAAAAAAAC7AAAAAAAAAJMAAAAAAAAAUwAAAAAAAAAAAAAAAAAAAFEAAAAAAAAAkQAAAAAAAAC5AAAAAAAAANEAAAAAAAAA5QAAAAAAAAD5AAAAAAACAQUAAAAAAAABEQAAAAAAAgEZAAAAAAAAASUAAAAAAAIBLQAAAAAAAAE5AAAAAAABAUEAAAAAAAIBRQAAAAAAAwFJAAAAAAAAAVEAAAAAAAEBVQAAAAAAAgFZAAAAAAADAV0AAAAAAAABZQAAAAAAAQFpAAAAAAACAW0AAAAAAAMBcQAAAAAAAAF5A\",\"dtype\":\"float64\",\"shape\":[36]}},\"selected\":{\"id\":\"1635\",\"type\":\"Selection\"},\"selection_policy\":{\"id\":\"1634\",\"type\":\"UnionRenderers\"}},\"id\":\"1597\",\"type\":\"ColumnDataSource\"},{\"attributes\":{\"bottom\":{\"value\":0},\"fill_color\":{\"value\":\"red\"},\"left\":{\"field\":\"left\"},\"right\":{\"field\":\"right\"},\"top\":{\"field\":\"flights\"}},\"id\":\"1834\",\"type\":\"Quad\"},{\"attributes\":{\"text\":\"Histogram of Arrival Delays\"},\"id\":\"1792\",\"type\":\"Title\"},{\"attributes\":{},\"id\":\"1817\",\"type\":\"HelpTool\"},{\"attributes\":{\"bottom\":{\"value\":0},\"fill_alpha\":{\"value\":0.1},\"fill_color\":{\"value\":\"#1f77b4\"},\"left\":{\"field\":\"left\"},\"line_alpha\":{\"value\":0.1},\"line_color\":{\"value\":\"#1f77b4\"},\"right\":{\"field\":\"right\"},\"top\":{\"field\":\"flights\"}},\"id\":\"1835\",\"type\":\"Quad\"},{\"attributes\":{\"callback\":null},\"id\":\"1794\",\"type\":\"DataRange1d\"},{\"attributes\":{\"bottom\":{\"value\":0},\"fill_color\":{\"value\":\"navy\"},\"left\":{\"field\":\"left\"},\"line_color\":{\"value\":\"#1f77b4\"},\"right\":{\"field\":\"right\"},\"top\":{\"field\":\"flights\"}},\"id\":\"1828\",\"type\":\"Quad\"},{\"attributes\":{\"callback\":null},\"id\":\"1796\",\"type\":\"DataRange1d\"}],\"root_ids\":[\"1791\"]},\"title\":\"Bokeh Application\",\"version\":\"1.3.4\"}};\n",
       "  var render_items = [{\"docid\":\"9688ca82-36a2-4a00-89f1-4e6403ebe38a\",\"roots\":{\"1791\":\"ac285d8b-3116-4275-8642-50236e2c1fee\"}}];\n",
       "  root.Bokeh.embed.embed_items_notebook(docs_json, render_items);\n",
       "\n",
       "  }\n",
       "  if (root.Bokeh !== undefined) {\n",
       "    embed_document(root);\n",
       "  } else {\n",
       "    var attempts = 0;\n",
       "    var timer = setInterval(function(root) {\n",
       "      if (root.Bokeh !== undefined) {\n",
       "        embed_document(root);\n",
       "        clearInterval(timer);\n",
       "      }\n",
       "      attempts++;\n",
       "      if (attempts > 100) {\n",
       "        console.log(\"Bokeh: ERROR: Unable to run BokehJS code because BokehJS library is missing\");\n",
       "        clearInterval(timer);\n",
       "      }\n",
       "    }, 10, root)\n",
       "  }\n",
       "})(window);"
      ],
      "application/vnd.bokehjs_exec.v0+json": ""
     },
     "metadata": {
      "application/vnd.bokehjs_exec.v0+json": {
       "id": "1791"
      }
     },
     "output_type": "display_data"
    }
   ],
   "source": [
    "# Add a quad glyph with source this time\n",
    "p.quad(source = src, bottom=0, top='flights', \n",
    "       left='left', right='right', \n",
    "       fill_color='red', line_color='black')\n",
    "show(p)"
   ]
  },
  {
   "cell_type": "code",
   "execution_count": 38,
   "metadata": {},
   "outputs": [],
   "source": [
    "from bokeh.models import HoverTool"
   ]
  },
  {
   "cell_type": "code",
   "execution_count": 39,
   "metadata": {},
   "outputs": [],
   "source": [
    "# Hover tool referring to our own data field using @ and\n",
    "# a position on the graph using $\n",
    "h = HoverTool(tooltips = [('Delay Interval Left ', '@left'),\n",
    "                          ('(x,y)', '($x, $y)')])"
   ]
  },
  {
   "cell_type": "code",
   "execution_count": 40,
   "metadata": {
    "collapsed": true
   },
   "outputs": [],
   "source": [
    "# Add a column showing the extent of each interval\n",
    "delays['f_interval'] = ['%d to %d minutes' % (left, right) for left, right in zip(delays['left'], delays['right'])]"
   ]
  },
  {
   "cell_type": "code",
   "execution_count": 53,
   "metadata": {},
   "outputs": [
    {
     "data": {
      "text/html": [
       "\n",
       "\n",
       "\n",
       "\n",
       "\n",
       "\n",
       "  <div class=\"bk-root\" id=\"8e36b13d-9a59-4ea8-991b-6c649726b3a6\" data-root-id=\"1983\"></div>\n"
      ]
     },
     "metadata": {},
     "output_type": "display_data"
    },
    {
     "data": {
      "application/javascript": [
       "(function(root) {\n",
       "  function embed_document(root) {\n",
       "    \n",
       "  var docs_json = {\"ab4f5a04-1dbe-4829-a652-1dab8b34c31f\":{\"roots\":{\"references\":[{\"attributes\":{\"below\":[{\"id\":\"1994\",\"type\":\"LinearAxis\"}],\"center\":[{\"id\":\"1998\",\"type\":\"Grid\"},{\"id\":\"2003\",\"type\":\"Grid\"}],\"left\":[{\"id\":\"1999\",\"type\":\"LinearAxis\"}],\"plot_height\":400,\"plot_width\":400,\"renderers\":[{\"id\":\"2020\",\"type\":\"GlyphRenderer\"}],\"title\":{\"id\":\"1984\",\"type\":\"Title\"},\"toolbar\":{\"id\":\"2010\",\"type\":\"Toolbar\"},\"x_range\":{\"id\":\"1986\",\"type\":\"DataRange1d\"},\"x_scale\":{\"id\":\"1990\",\"type\":\"LinearScale\"},\"y_range\":{\"id\":\"1988\",\"type\":\"DataRange1d\"},\"y_scale\":{\"id\":\"1992\",\"type\":\"LinearScale\"}},\"id\":\"1983\",\"subtype\":\"Figure\",\"type\":\"Plot\"},{\"attributes\":{},\"id\":\"2000\",\"type\":\"BasicTicker\"},{\"attributes\":{},\"id\":\"2069\",\"type\":\"BasicTickFormatter\"},{\"attributes\":{\"fill_alpha\":{\"value\":0.1},\"fill_color\":{\"value\":\"#1f77b4\"},\"line_alpha\":{\"value\":0.1},\"line_color\":{\"value\":\"#1f77b4\"},\"size\":{\"units\":\"screen\",\"value\":10},\"x\":{\"field\":\"x\"},\"y\":{\"field\":\"y\"}},\"id\":\"2019\",\"type\":\"Circle\"},{\"attributes\":{\"fill_color\":{\"value\":\"#1f77b4\"},\"line_color\":{\"value\":\"#1f77b4\"},\"size\":{\"units\":\"screen\",\"value\":10},\"x\":{\"field\":\"x\"},\"y\":{\"field\":\"y\"}},\"id\":\"2018\",\"type\":\"Circle\"},{\"attributes\":{},\"id\":\"2067\",\"type\":\"BasicTickFormatter\"},{\"attributes\":{\"active_drag\":\"auto\",\"active_inspect\":\"auto\",\"active_multi\":null,\"active_scroll\":\"auto\",\"active_tap\":\"auto\",\"tools\":[{\"id\":\"2004\",\"type\":\"PanTool\"},{\"id\":\"2005\",\"type\":\"WheelZoomTool\"},{\"id\":\"2006\",\"type\":\"BoxZoomTool\"},{\"id\":\"2007\",\"type\":\"SaveTool\"},{\"id\":\"2008\",\"type\":\"ResetTool\"},{\"id\":\"2009\",\"type\":\"HelpTool\"}]},\"id\":\"2010\",\"type\":\"Toolbar\"},{\"attributes\":{},\"id\":\"2004\",\"type\":\"PanTool\"},{\"attributes\":{},\"id\":\"2005\",\"type\":\"WheelZoomTool\"},{\"attributes\":{\"overlay\":{\"id\":\"2073\",\"type\":\"BoxAnnotation\"}},\"id\":\"2006\",\"type\":\"BoxZoomTool\"},{\"attributes\":{},\"id\":\"2007\",\"type\":\"SaveTool\"},{\"attributes\":{\"callback\":null},\"id\":\"1988\",\"type\":\"DataRange1d\"},{\"attributes\":{},\"id\":\"2008\",\"type\":\"ResetTool\"},{\"attributes\":{},\"id\":\"2009\",\"type\":\"HelpTool\"},{\"attributes\":{\"text\":\"Some Title\",\"text_color\":{\"value\":\"olive\"},\"text_font\":\"times\",\"text_font_style\":\"italic\"},\"id\":\"1984\",\"type\":\"Title\"},{\"attributes\":{\"callback\":null,\"data\":{\"x\":[1,2,3,4,5],\"y\":[2,5,8,2,7]},\"selected\":{\"id\":\"2072\",\"type\":\"Selection\"},\"selection_policy\":{\"id\":\"2071\",\"type\":\"UnionRenderers\"}},\"id\":\"2017\",\"type\":\"ColumnDataSource\"},{\"attributes\":{\"callback\":null},\"id\":\"1986\",\"type\":\"DataRange1d\"},{\"attributes\":{},\"id\":\"1990\",\"type\":\"LinearScale\"},{\"attributes\":{\"formatter\":{\"id\":\"2069\",\"type\":\"BasicTickFormatter\"},\"ticker\":{\"id\":\"2000\",\"type\":\"BasicTicker\"}},\"id\":\"1999\",\"type\":\"LinearAxis\"},{\"attributes\":{\"source\":{\"id\":\"2017\",\"type\":\"ColumnDataSource\"}},\"id\":\"2021\",\"type\":\"CDSView\"},{\"attributes\":{\"ticker\":{\"id\":\"1995\",\"type\":\"BasicTicker\"}},\"id\":\"1998\",\"type\":\"Grid\"},{\"attributes\":{\"formatter\":{\"id\":\"2067\",\"type\":\"BasicTickFormatter\"},\"ticker\":{\"id\":\"1995\",\"type\":\"BasicTicker\"}},\"id\":\"1994\",\"type\":\"LinearAxis\"},{\"attributes\":{},\"id\":\"2071\",\"type\":\"UnionRenderers\"},{\"attributes\":{\"data_source\":{\"id\":\"2017\",\"type\":\"ColumnDataSource\"},\"glyph\":{\"id\":\"2018\",\"type\":\"Circle\"},\"hover_glyph\":null,\"muted_glyph\":null,\"nonselection_glyph\":{\"id\":\"2019\",\"type\":\"Circle\"},\"selection_glyph\":null,\"view\":{\"id\":\"2021\",\"type\":\"CDSView\"}},\"id\":\"2020\",\"type\":\"GlyphRenderer\"},{\"attributes\":{},\"id\":\"1992\",\"type\":\"LinearScale\"},{\"attributes\":{},\"id\":\"2072\",\"type\":\"Selection\"},{\"attributes\":{\"dimension\":1,\"ticker\":{\"id\":\"2000\",\"type\":\"BasicTicker\"}},\"id\":\"2003\",\"type\":\"Grid\"},{\"attributes\":{\"bottom_units\":\"screen\",\"fill_alpha\":{\"value\":0.5},\"fill_color\":{\"value\":\"lightgrey\"},\"left_units\":\"screen\",\"level\":\"overlay\",\"line_alpha\":{\"value\":1.0},\"line_color\":{\"value\":\"black\"},\"line_dash\":[4,4],\"line_width\":{\"value\":2},\"render_mode\":\"css\",\"right_units\":\"screen\",\"top_units\":\"screen\"},\"id\":\"2073\",\"type\":\"BoxAnnotation\"},{\"attributes\":{},\"id\":\"1995\",\"type\":\"BasicTicker\"}],\"root_ids\":[\"1983\"]},\"title\":\"Bokeh Application\",\"version\":\"1.3.4\"}};\n",
       "  var render_items = [{\"docid\":\"ab4f5a04-1dbe-4829-a652-1dab8b34c31f\",\"roots\":{\"1983\":\"8e36b13d-9a59-4ea8-991b-6c649726b3a6\"}}];\n",
       "  root.Bokeh.embed.embed_items_notebook(docs_json, render_items);\n",
       "\n",
       "  }\n",
       "  if (root.Bokeh !== undefined) {\n",
       "    embed_document(root);\n",
       "  } else {\n",
       "    var attempts = 0;\n",
       "    var timer = setInterval(function(root) {\n",
       "      if (root.Bokeh !== undefined) {\n",
       "        embed_document(root);\n",
       "        clearInterval(timer);\n",
       "      }\n",
       "      attempts++;\n",
       "      if (attempts > 100) {\n",
       "        console.log(\"Bokeh: ERROR: Unable to run BokehJS code because BokehJS library is missing\");\n",
       "        clearInterval(timer);\n",
       "      }\n",
       "    }, 10, root)\n",
       "  }\n",
       "})(window);"
      ],
      "application/vnd.bokehjs_exec.v0+json": ""
     },
     "metadata": {
      "application/vnd.bokehjs_exec.v0+json": {
       "id": "1983"
      }
     },
     "output_type": "display_data"
    }
   ],
   "source": [
    "from bokeh.plotting import figure, output_file, show\n",
    "\n",
    "output_file(\"title.html\")\n",
    "\n",
    "p = figure(plot_width=400, plot_height=400, title=\"Some Title\")\n",
    "p.title.text_color = \"olive\"\n",
    "p.title.text_font = \"times\"\n",
    "p.title.text_font_style = \"italic\"\n",
    "\n",
    "p.circle([1, 2, 3, 4, 5], [2, 5, 8, 2, 7], size=10)\n",
    "\n",
    "show(p)"
   ]
  },
  {
   "cell_type": "code",
   "execution_count": 54,
   "metadata": {},
   "outputs": [
    {
     "data": {
      "text/html": [
       "\n",
       "\n",
       "\n",
       "\n",
       "\n",
       "\n",
       "  <div class=\"bk-root\" id=\"91ebdd92-90cd-434d-95e0-e674d5cd361b\" data-root-id=\"2203\"></div>\n"
      ]
     },
     "metadata": {},
     "output_type": "display_data"
    },
    {
     "data": {
      "application/javascript": [
       "(function(root) {\n",
       "  function embed_document(root) {\n",
       "    \n",
       "  var docs_json = {\"18260ba9-4e5a-4beb-b09d-152690f1de8e\":{\"roots\":{\"references\":[{\"attributes\":{\"background_fill_alpha\":{\"value\":0.5},\"background_fill_color\":{\"value\":\"beige\"},\"below\":[{\"id\":\"2212\",\"type\":\"LinearAxis\"}],\"center\":[{\"id\":\"2216\",\"type\":\"Grid\"},{\"id\":\"2221\",\"type\":\"Grid\"}],\"left\":[{\"id\":\"2217\",\"type\":\"LinearAxis\"}],\"plot_height\":400,\"plot_width\":400,\"renderers\":[{\"id\":\"2238\",\"type\":\"GlyphRenderer\"}],\"title\":{\"id\":\"2292\",\"type\":\"Title\"},\"toolbar\":{\"id\":\"2228\",\"type\":\"Toolbar\"},\"x_range\":{\"id\":\"2204\",\"type\":\"DataRange1d\"},\"x_scale\":{\"id\":\"2208\",\"type\":\"LinearScale\"},\"y_range\":{\"id\":\"2206\",\"type\":\"DataRange1d\"},\"y_scale\":{\"id\":\"2210\",\"type\":\"LinearScale\"}},\"id\":\"2203\",\"subtype\":\"Figure\",\"type\":\"Plot\"},{\"attributes\":{\"data_source\":{\"id\":\"2235\",\"type\":\"ColumnDataSource\"},\"glyph\":{\"id\":\"2236\",\"type\":\"Circle\"},\"hover_glyph\":null,\"muted_glyph\":null,\"nonselection_glyph\":{\"id\":\"2237\",\"type\":\"Circle\"},\"selection_glyph\":null,\"view\":{\"id\":\"2239\",\"type\":\"CDSView\"}},\"id\":\"2238\",\"type\":\"GlyphRenderer\"},{\"attributes\":{},\"id\":\"2213\",\"type\":\"BasicTicker\"},{\"attributes\":{},\"id\":\"2296\",\"type\":\"BasicTickFormatter\"},{\"attributes\":{},\"id\":\"2298\",\"type\":\"UnionRenderers\"},{\"attributes\":{\"formatter\":{\"id\":\"2294\",\"type\":\"BasicTickFormatter\"},\"ticker\":{\"id\":\"2213\",\"type\":\"BasicTicker\"}},\"id\":\"2212\",\"type\":\"LinearAxis\"},{\"attributes\":{},\"id\":\"2218\",\"type\":\"BasicTicker\"},{\"attributes\":{\"dimension\":1,\"ticker\":{\"id\":\"2218\",\"type\":\"BasicTicker\"}},\"id\":\"2221\",\"type\":\"Grid\"},{\"attributes\":{},\"id\":\"2222\",\"type\":\"PanTool\"},{\"attributes\":{\"bottom_units\":\"screen\",\"fill_alpha\":{\"value\":0.5},\"fill_color\":{\"value\":\"lightgrey\"},\"left_units\":\"screen\",\"level\":\"overlay\",\"line_alpha\":{\"value\":1.0},\"line_color\":{\"value\":\"black\"},\"line_dash\":[4,4],\"line_width\":{\"value\":2},\"render_mode\":\"css\",\"right_units\":\"screen\",\"top_units\":\"screen\"},\"id\":\"2300\",\"type\":\"BoxAnnotation\"},{\"attributes\":{\"fill_alpha\":{\"value\":0.1},\"fill_color\":{\"value\":\"#1f77b4\"},\"line_alpha\":{\"value\":0.1},\"line_color\":{\"value\":\"#1f77b4\"},\"size\":{\"units\":\"screen\",\"value\":10},\"x\":{\"field\":\"x\"},\"y\":{\"field\":\"y\"}},\"id\":\"2237\",\"type\":\"Circle\"},{\"attributes\":{},\"id\":\"2299\",\"type\":\"Selection\"},{\"attributes\":{\"overlay\":{\"id\":\"2300\",\"type\":\"BoxAnnotation\"}},\"id\":\"2224\",\"type\":\"BoxZoomTool\"},{\"attributes\":{\"active_drag\":\"auto\",\"active_inspect\":\"auto\",\"active_multi\":null,\"active_scroll\":\"auto\",\"active_tap\":\"auto\",\"tools\":[{\"id\":\"2222\",\"type\":\"PanTool\"},{\"id\":\"2223\",\"type\":\"WheelZoomTool\"},{\"id\":\"2224\",\"type\":\"BoxZoomTool\"},{\"id\":\"2225\",\"type\":\"SaveTool\"},{\"id\":\"2226\",\"type\":\"ResetTool\"},{\"id\":\"2227\",\"type\":\"HelpTool\"}]},\"id\":\"2228\",\"type\":\"Toolbar\"},{\"attributes\":{\"fill_color\":{\"value\":\"#1f77b4\"},\"line_color\":{\"value\":\"#1f77b4\"},\"size\":{\"units\":\"screen\",\"value\":10},\"x\":{\"field\":\"x\"},\"y\":{\"field\":\"y\"}},\"id\":\"2236\",\"type\":\"Circle\"},{\"attributes\":{\"ticker\":{\"id\":\"2213\",\"type\":\"BasicTicker\"}},\"id\":\"2216\",\"type\":\"Grid\"},{\"attributes\":{},\"id\":\"2223\",\"type\":\"WheelZoomTool\"},{\"attributes\":{\"formatter\":{\"id\":\"2296\",\"type\":\"BasicTickFormatter\"},\"ticker\":{\"id\":\"2218\",\"type\":\"BasicTicker\"}},\"id\":\"2217\",\"type\":\"LinearAxis\"},{\"attributes\":{},\"id\":\"2210\",\"type\":\"LinearScale\"},{\"attributes\":{},\"id\":\"2225\",\"type\":\"SaveTool\"},{\"attributes\":{\"callback\":null},\"id\":\"2206\",\"type\":\"DataRange1d\"},{\"attributes\":{\"callback\":null},\"id\":\"2204\",\"type\":\"DataRange1d\"},{\"attributes\":{},\"id\":\"2227\",\"type\":\"HelpTool\"},{\"attributes\":{},\"id\":\"2226\",\"type\":\"ResetTool\"},{\"attributes\":{},\"id\":\"2208\",\"type\":\"LinearScale\"},{\"attributes\":{\"text\":\"\"},\"id\":\"2292\",\"type\":\"Title\"},{\"attributes\":{},\"id\":\"2294\",\"type\":\"BasicTickFormatter\"},{\"attributes\":{\"callback\":null,\"data\":{\"x\":[1,2,3,4,5],\"y\":[2,5,8,2,7]},\"selected\":{\"id\":\"2299\",\"type\":\"Selection\"},\"selection_policy\":{\"id\":\"2298\",\"type\":\"UnionRenderers\"}},\"id\":\"2235\",\"type\":\"ColumnDataSource\"},{\"attributes\":{\"source\":{\"id\":\"2235\",\"type\":\"ColumnDataSource\"}},\"id\":\"2239\",\"type\":\"CDSView\"}],\"root_ids\":[\"2203\"]},\"title\":\"Bokeh Application\",\"version\":\"1.3.4\"}};\n",
       "  var render_items = [{\"docid\":\"18260ba9-4e5a-4beb-b09d-152690f1de8e\",\"roots\":{\"2203\":\"91ebdd92-90cd-434d-95e0-e674d5cd361b\"}}];\n",
       "  root.Bokeh.embed.embed_items_notebook(docs_json, render_items);\n",
       "\n",
       "  }\n",
       "  if (root.Bokeh !== undefined) {\n",
       "    embed_document(root);\n",
       "  } else {\n",
       "    var attempts = 0;\n",
       "    var timer = setInterval(function(root) {\n",
       "      if (root.Bokeh !== undefined) {\n",
       "        embed_document(root);\n",
       "        clearInterval(timer);\n",
       "      }\n",
       "      attempts++;\n",
       "      if (attempts > 100) {\n",
       "        console.log(\"Bokeh: ERROR: Unable to run BokehJS code because BokehJS library is missing\");\n",
       "        clearInterval(timer);\n",
       "      }\n",
       "    }, 10, root)\n",
       "  }\n",
       "})(window);"
      ],
      "application/vnd.bokehjs_exec.v0+json": ""
     },
     "metadata": {
      "application/vnd.bokehjs_exec.v0+json": {
       "id": "2203"
      }
     },
     "output_type": "display_data"
    }
   ],
   "source": [
    "from bokeh.plotting import figure, output_file, show\n",
    "\n",
    "output_file(\"background.html\")\n",
    "\n",
    "p = figure(plot_width=400, plot_height=400)\n",
    "p.background_fill_color = \"beige\"\n",
    "p.background_fill_alpha = 0.5\n",
    "\n",
    "p.circle([1, 2, 3, 4, 5], [2, 5, 8, 2, 7], size=10)\n",
    "\n",
    "show(p)"
   ]
  },
  {
   "cell_type": "code",
   "execution_count": 58,
   "metadata": {},
   "outputs": [
    {
     "data": {
      "text/html": [
       "\n",
       "\n",
       "\n",
       "\n",
       "\n",
       "\n",
       "  <div class=\"bk-root\" id=\"a4cff447-056a-46e2-a26e-6b65d476a8d5\" data-root-id=\"3301\"></div>\n"
      ]
     },
     "metadata": {},
     "output_type": "display_data"
    },
    {
     "data": {
      "application/javascript": [
       "(function(root) {\n",
       "  function embed_document(root) {\n",
       "    \n",
       "  var docs_json = {\"e16311df-9504-4b93-a92e-f2287a94abd6\":{\"roots\":{\"references\":[{\"attributes\":{\"background_fill_alpha\":{\"value\":0.5},\"background_fill_color\":{\"value\":\"beige\"},\"below\":[{\"id\":\"3310\",\"type\":\"LinearAxis\"}],\"center\":[{\"id\":\"3314\",\"type\":\"Grid\"},{\"id\":\"3319\",\"type\":\"Grid\"}],\"left\":[{\"id\":\"3315\",\"type\":\"LinearAxis\"}],\"plot_height\":400,\"plot_width\":400,\"renderers\":[{\"id\":\"3336\",\"type\":\"GlyphRenderer\"}],\"title\":{\"id\":\"3424\",\"type\":\"Title\"},\"toolbar\":{\"id\":\"3326\",\"type\":\"Toolbar\"},\"x_range\":{\"id\":\"3302\",\"type\":\"DataRange1d\"},\"x_scale\":{\"id\":\"3306\",\"type\":\"LinearScale\"},\"y_range\":{\"id\":\"3304\",\"type\":\"DataRange1d\"},\"y_scale\":{\"id\":\"3308\",\"type\":\"LinearScale\"}},\"id\":\"3301\",\"subtype\":\"Figure\",\"type\":\"Plot\"},{\"attributes\":{},\"id\":\"3325\",\"type\":\"HelpTool\"},{\"attributes\":{\"ticker\":{\"id\":\"3311\",\"type\":\"BasicTicker\"}},\"id\":\"3314\",\"type\":\"Grid\"},{\"attributes\":{\"bottom_units\":\"screen\",\"fill_alpha\":{\"value\":0.5},\"fill_color\":{\"value\":\"lightgrey\"},\"left_units\":\"screen\",\"level\":\"overlay\",\"line_alpha\":{\"value\":1.0},\"line_color\":{\"value\":\"black\"},\"line_dash\":[4,4],\"line_width\":{\"value\":2},\"render_mode\":\"css\",\"right_units\":\"screen\",\"top_units\":\"screen\"},\"id\":\"3432\",\"type\":\"BoxAnnotation\"},{\"attributes\":{},\"id\":\"3320\",\"type\":\"PanTool\"},{\"attributes\":{\"active_drag\":\"auto\",\"active_inspect\":\"auto\",\"active_multi\":null,\"active_scroll\":\"auto\",\"active_tap\":\"auto\",\"tools\":[{\"id\":\"3320\",\"type\":\"PanTool\"},{\"id\":\"3321\",\"type\":\"WheelZoomTool\"},{\"id\":\"3322\",\"type\":\"BoxZoomTool\"},{\"id\":\"3323\",\"type\":\"SaveTool\"},{\"id\":\"3324\",\"type\":\"ResetTool\"},{\"id\":\"3325\",\"type\":\"HelpTool\"}]},\"id\":\"3326\",\"type\":\"Toolbar\"},{\"attributes\":{},\"id\":\"3316\",\"type\":\"BasicTicker\"},{\"attributes\":{},\"id\":\"3321\",\"type\":\"WheelZoomTool\"},{\"attributes\":{\"callback\":null},\"id\":\"3304\",\"type\":\"DataRange1d\"},{\"attributes\":{\"dimension\":1,\"ticker\":{\"id\":\"3316\",\"type\":\"BasicTicker\"}},\"id\":\"3319\",\"type\":\"Grid\"},{\"attributes\":{\"fill_alpha\":{\"value\":0.1},\"fill_color\":{\"value\":\"#1f77b4\"},\"line_alpha\":{\"value\":0.1},\"line_color\":{\"value\":\"#1f77b4\"},\"size\":{\"units\":\"screen\",\"value\":10},\"x\":{\"field\":\"x\"},\"y\":{\"field\":\"y\"}},\"id\":\"3335\",\"type\":\"Circle\"},{\"attributes\":{},\"id\":\"3311\",\"type\":\"BasicTicker\"},{\"attributes\":{},\"id\":\"3430\",\"type\":\"UnionRenderers\"},{\"attributes\":{},\"id\":\"3431\",\"type\":\"Selection\"},{\"attributes\":{\"callback\":null},\"id\":\"3302\",\"type\":\"DataRange1d\"},{\"attributes\":{\"fill_color\":{\"value\":\"#1f77b4\"},\"line_color\":{\"value\":\"#1f77b4\"},\"size\":{\"units\":\"screen\",\"value\":10},\"x\":{\"field\":\"x\"},\"y\":{\"field\":\"y\"}},\"id\":\"3334\",\"type\":\"Circle\"},{\"attributes\":{\"callback\":null,\"data\":{\"x\":[1,2,3,4,5],\"y\":[2,5,8,2,7]},\"selected\":{\"id\":\"3431\",\"type\":\"Selection\"},\"selection_policy\":{\"id\":\"3430\",\"type\":\"UnionRenderers\"}},\"id\":\"3333\",\"type\":\"ColumnDataSource\"},{\"attributes\":{},\"id\":\"3308\",\"type\":\"LinearScale\"},{\"attributes\":{},\"id\":\"3428\",\"type\":\"BasicTickFormatter\"},{\"attributes\":{\"formatter\":{\"id\":\"3426\",\"type\":\"BasicTickFormatter\"},\"ticker\":{\"id\":\"3311\",\"type\":\"BasicTicker\"}},\"id\":\"3310\",\"type\":\"LinearAxis\"},{\"attributes\":{\"text\":\"\"},\"id\":\"3424\",\"type\":\"Title\"},{\"attributes\":{},\"id\":\"3324\",\"type\":\"ResetTool\"},{\"attributes\":{\"overlay\":{\"id\":\"3432\",\"type\":\"BoxAnnotation\"}},\"id\":\"3322\",\"type\":\"BoxZoomTool\"},{\"attributes\":{\"source\":{\"id\":\"3333\",\"type\":\"ColumnDataSource\"}},\"id\":\"3337\",\"type\":\"CDSView\"},{\"attributes\":{},\"id\":\"3323\",\"type\":\"SaveTool\"},{\"attributes\":{},\"id\":\"3306\",\"type\":\"LinearScale\"},{\"attributes\":{\"formatter\":{\"id\":\"3428\",\"type\":\"BasicTickFormatter\"},\"ticker\":{\"id\":\"3316\",\"type\":\"BasicTicker\"}},\"id\":\"3315\",\"type\":\"LinearAxis\"},{\"attributes\":{\"data_source\":{\"id\":\"3333\",\"type\":\"ColumnDataSource\"},\"glyph\":{\"id\":\"3334\",\"type\":\"Circle\"},\"hover_glyph\":null,\"muted_glyph\":null,\"nonselection_glyph\":{\"id\":\"3335\",\"type\":\"Circle\"},\"selection_glyph\":null,\"view\":{\"id\":\"3337\",\"type\":\"CDSView\"}},\"id\":\"3336\",\"type\":\"GlyphRenderer\"},{\"attributes\":{},\"id\":\"3426\",\"type\":\"BasicTickFormatter\"}],\"root_ids\":[\"3301\"]},\"title\":\"Bokeh Application\",\"version\":\"1.3.4\"}};\n",
       "  var render_items = [{\"docid\":\"e16311df-9504-4b93-a92e-f2287a94abd6\",\"roots\":{\"3301\":\"a4cff447-056a-46e2-a26e-6b65d476a8d5\"}}];\n",
       "  root.Bokeh.embed.embed_items_notebook(docs_json, render_items);\n",
       "\n",
       "  }\n",
       "  if (root.Bokeh !== undefined) {\n",
       "    embed_document(root);\n",
       "  } else {\n",
       "    var attempts = 0;\n",
       "    var timer = setInterval(function(root) {\n",
       "      if (root.Bokeh !== undefined) {\n",
       "        embed_document(root);\n",
       "        clearInterval(timer);\n",
       "      }\n",
       "      attempts++;\n",
       "      if (attempts > 100) {\n",
       "        console.log(\"Bokeh: ERROR: Unable to run BokehJS code because BokehJS library is missing\");\n",
       "        clearInterval(timer);\n",
       "      }\n",
       "    }, 10, root)\n",
       "  }\n",
       "})(window);"
      ],
      "application/vnd.bokehjs_exec.v0+json": ""
     },
     "metadata": {
      "application/vnd.bokehjs_exec.v0+json": {
       "id": "3301"
      }
     },
     "output_type": "display_data"
    }
   ],
   "source": [
    "from bokeh.plotting import figure, output_file, show\n",
    "\n",
    "# output_file(\"background.html\")\n",
    "\n",
    "p = figure(plot_width=400, plot_height=400)\n",
    "p.background_fill_color = \"beige\"\n",
    "p.background_fill_alpha = 0.5\n",
    "\n",
    "p.circle([1, 2, 3, 4, 5], [2, 5, 8, 2, 7], size=10)\n",
    "\n",
    "show(p)\n",
    "# show(fig)  # See what I made, and save if I like it"
   ]
  },
  {
   "cell_type": "code",
   "execution_count": 73,
   "metadata": {},
   "outputs": [
    {
     "data": {
      "text/html": [
       "\n",
       "\n",
       "\n",
       "\n",
       "\n",
       "\n",
       "  <div class=\"bk-root\" id=\"031c7554-7897-4c1c-8e11-a735180e152b\" data-root-id=\"5109\"></div>\n"
      ]
     },
     "metadata": {},
     "output_type": "display_data"
    },
    {
     "data": {
      "application/javascript": [
       "(function(root) {\n",
       "  function embed_document(root) {\n",
       "    \n",
       "  var docs_json = {\"2afbbde7-7343-48bd-9ab1-99ae70176822\":{\"roots\":{\"references\":[{\"attributes\":{\"children\":[{\"id\":\"5107\",\"type\":\"Row\"},{\"id\":\"5108\",\"type\":\"Row\"}]},\"id\":\"5109\",\"type\":\"Column\"},{\"attributes\":{},\"id\":\"5251\",\"type\":\"BasicTickFormatter\"},{\"attributes\":{},\"id\":\"5253\",\"type\":\"BasicTickFormatter\"},{\"attributes\":{\"data_source\":{\"id\":\"5092\",\"type\":\"ColumnDataSource\"},\"glyph\":{\"id\":\"5093\",\"type\":\"Line\"},\"hover_glyph\":null,\"muted_glyph\":null,\"nonselection_glyph\":{\"id\":\"5094\",\"type\":\"Line\"},\"selection_glyph\":null,\"view\":{\"id\":\"5096\",\"type\":\"CDSView\"}},\"id\":\"5095\",\"type\":\"GlyphRenderer\"},{\"attributes\":{\"data_source\":{\"id\":\"5097\",\"type\":\"ColumnDataSource\"},\"glyph\":{\"id\":\"5098\",\"type\":\"Line\"},\"hover_glyph\":null,\"muted_glyph\":null,\"nonselection_glyph\":{\"id\":\"5099\",\"type\":\"Line\"},\"selection_glyph\":null,\"view\":{\"id\":\"5101\",\"type\":\"CDSView\"}},\"id\":\"5100\",\"type\":\"GlyphRenderer\"},{\"attributes\":{},\"id\":\"5079\",\"type\":\"LinearScale\"},{\"attributes\":{\"dimension\":1,\"ticker\":{\"id\":\"5087\",\"type\":\"BasicTicker\"}},\"id\":\"5090\",\"type\":\"Grid\"},{\"attributes\":{\"line_alpha\":0.1,\"line_color\":\"#1f77b4\",\"x\":{\"field\":\"x\"},\"y\":{\"field\":\"y\"}},\"id\":\"5094\",\"type\":\"Line\"},{\"attributes\":{},\"id\":\"5256\",\"type\":\"Selection\"},{\"attributes\":{\"callback\":null},\"id\":\"5073\",\"type\":\"DataRange1d\"},{\"attributes\":{\"active_drag\":\"auto\",\"active_inspect\":\"auto\",\"active_multi\":null,\"active_scroll\":\"auto\",\"active_tap\":\"auto\"},\"id\":\"5091\",\"type\":\"Toolbar\"},{\"attributes\":{\"callback\":null,\"data\":{\"x\":[1,2,3],\"y\":[2,1,2]},\"selected\":{\"id\":\"5258\",\"type\":\"Selection\"},\"selection_policy\":{\"id\":\"5257\",\"type\":\"UnionRenderers\"}},\"id\":\"5097\",\"type\":\"ColumnDataSource\"},{\"attributes\":{\"source\":{\"id\":\"5097\",\"type\":\"ColumnDataSource\"}},\"id\":\"5101\",\"type\":\"CDSView\"},{\"attributes\":{},\"id\":\"5257\",\"type\":\"UnionRenderers\"},{\"attributes\":{\"fill_alpha\":{\"value\":0.1},\"fill_color\":{\"value\":\"green\"},\"left\":1.5,\"right\":2.5},\"id\":\"5102\",\"type\":\"BoxAnnotation\"},{\"attributes\":{},\"id\":\"5258\",\"type\":\"Selection\"},{\"attributes\":{\"source\":{\"id\":\"5092\",\"type\":\"ColumnDataSource\"}},\"id\":\"5096\",\"type\":\"CDSView\"},{\"attributes\":{\"text\":\"\"},\"id\":\"5249\",\"type\":\"Title\"},{\"attributes\":{},\"id\":\"5077\",\"type\":\"LinearScale\"},{\"attributes\":{\"line_color\":\"pink\",\"x\":{\"field\":\"x\"},\"y\":{\"field\":\"y\"}},\"id\":\"5098\",\"type\":\"Line\"},{\"attributes\":{\"callback\":null,\"data\":{\"x\":[1,2,3],\"y\":[1,2,1]},\"selected\":{\"id\":\"5256\",\"type\":\"Selection\"},\"selection_policy\":{\"id\":\"5255\",\"type\":\"UnionRenderers\"}},\"id\":\"5092\",\"type\":\"ColumnDataSource\"},{\"attributes\":{\"line_alpha\":0.1,\"line_color\":\"#1f77b4\",\"x\":{\"field\":\"x\"},\"y\":{\"field\":\"y\"}},\"id\":\"5099\",\"type\":\"Line\"},{\"attributes\":{\"callback\":null},\"id\":\"5075\",\"type\":\"DataRange1d\"},{\"attributes\":{},\"id\":\"5255\",\"type\":\"UnionRenderers\"},{\"attributes\":{\"args\":{\"other\":{\"id\":\"5102\",\"type\":\"BoxAnnotation\"}},\"code\":\"other.visible = this.active\"},\"id\":\"5104\",\"type\":\"CustomJS\"},{\"attributes\":{\"below\":[{\"id\":\"5081\",\"type\":\"LinearAxis\"}],\"center\":[{\"id\":\"5085\",\"type\":\"Grid\"},{\"id\":\"5090\",\"type\":\"Grid\"},{\"id\":\"5102\",\"type\":\"BoxAnnotation\"}],\"left\":[{\"id\":\"5086\",\"type\":\"LinearAxis\"}],\"plot_height\":200,\"renderers\":[{\"id\":\"5095\",\"type\":\"GlyphRenderer\"},{\"id\":\"5100\",\"type\":\"GlyphRenderer\"}],\"title\":{\"id\":\"5249\",\"type\":\"Title\"},\"toolbar\":{\"id\":\"5091\",\"type\":\"Toolbar\"},\"x_range\":{\"id\":\"5073\",\"type\":\"DataRange1d\"},\"x_scale\":{\"id\":\"5077\",\"type\":\"LinearScale\"},\"y_range\":{\"id\":\"5075\",\"type\":\"DataRange1d\"},\"y_scale\":{\"id\":\"5079\",\"type\":\"LinearScale\"}},\"id\":\"5072\",\"subtype\":\"Figure\",\"type\":\"Plot\"},{\"attributes\":{\"active\":true,\"button_type\":\"success\",\"callback\":null,\"icon\":null,\"js_property_callbacks\":{\"change:active\":[{\"id\":\"5104\",\"type\":\"CustomJS\"}]},\"label\":\"Green Box\"},\"id\":\"5103\",\"type\":\"Toggle\"},{\"attributes\":{},\"id\":\"5087\",\"type\":\"BasicTicker\"},{\"attributes\":{\"active\":true,\"button_type\":\"success\",\"callback\":null,\"icon\":null,\"js_property_callbacks\":{\"change:active\":[{\"id\":\"5106\",\"type\":\"CustomJS\"}]},\"label\":\"Pink Line\"},\"id\":\"5105\",\"type\":\"Toggle\"},{\"attributes\":{},\"id\":\"5082\",\"type\":\"BasicTicker\"},{\"attributes\":{\"children\":[{\"id\":\"5103\",\"type\":\"Toggle\"},{\"id\":\"5105\",\"type\":\"Toggle\"}]},\"id\":\"5108\",\"type\":\"Row\"},{\"attributes\":{\"ticker\":{\"id\":\"5082\",\"type\":\"BasicTicker\"}},\"id\":\"5085\",\"type\":\"Grid\"},{\"attributes\":{\"args\":{\"other\":{\"id\":\"5100\",\"type\":\"GlyphRenderer\"}},\"code\":\"other.visible = this.active\"},\"id\":\"5106\",\"type\":\"CustomJS\"},{\"attributes\":{\"children\":[{\"id\":\"5072\",\"subtype\":\"Figure\",\"type\":\"Plot\"}]},\"id\":\"5107\",\"type\":\"Row\"},{\"attributes\":{\"formatter\":{\"id\":\"5251\",\"type\":\"BasicTickFormatter\"},\"ticker\":{\"id\":\"5082\",\"type\":\"BasicTicker\"}},\"id\":\"5081\",\"type\":\"LinearAxis\"},{\"attributes\":{\"formatter\":{\"id\":\"5253\",\"type\":\"BasicTickFormatter\"},\"ticker\":{\"id\":\"5087\",\"type\":\"BasicTicker\"}},\"id\":\"5086\",\"type\":\"LinearAxis\"},{\"attributes\":{\"line_color\":\"blue\",\"x\":{\"field\":\"x\"},\"y\":{\"field\":\"y\"}},\"id\":\"5093\",\"type\":\"Line\"}],\"root_ids\":[\"5109\"]},\"title\":\"Bokeh Application\",\"version\":\"1.3.4\"}};\n",
       "  var render_items = [{\"docid\":\"2afbbde7-7343-48bd-9ab1-99ae70176822\",\"roots\":{\"5109\":\"031c7554-7897-4c1c-8e11-a735180e152b\"}}];\n",
       "  root.Bokeh.embed.embed_items_notebook(docs_json, render_items);\n",
       "\n",
       "  }\n",
       "  if (root.Bokeh !== undefined) {\n",
       "    embed_document(root);\n",
       "  } else {\n",
       "    var attempts = 0;\n",
       "    var timer = setInterval(function(root) {\n",
       "      if (root.Bokeh !== undefined) {\n",
       "        embed_document(root);\n",
       "        clearInterval(timer);\n",
       "      }\n",
       "      attempts++;\n",
       "      if (attempts > 100) {\n",
       "        console.log(\"Bokeh: ERROR: Unable to run BokehJS code because BokehJS library is missing\");\n",
       "        clearInterval(timer);\n",
       "      }\n",
       "    }, 10, root)\n",
       "  }\n",
       "})(window);"
      ],
      "application/vnd.bokehjs_exec.v0+json": ""
     },
     "metadata": {
      "application/vnd.bokehjs_exec.v0+json": {
       "id": "5109"
      }
     },
     "output_type": "display_data"
    }
   ],
   "source": [
    "from bokeh.io import output_file, show\n",
    "from bokeh.plotting import figure\n",
    "from bokeh.layouts import layout\n",
    "from bokeh.models import Toggle, BoxAnnotation\n",
    "\n",
    "output_file(\"styling_visible_annotation_with_interaction.html\")\n",
    "\n",
    "p = figure(plot_width=600, plot_height=200, tools='')\n",
    "p.line([1, 2, 3], [1, 2, 1], line_color=\"blue\")\n",
    "pink_line = p.line([1, 2, 3], [2, 1, 2], line_color=\"pink\")\n",
    "\n",
    "green_box = BoxAnnotation(left=1.5, right=2.5, fill_color='green', fill_alpha=0.1)\n",
    "p.add_layout(green_box)\n",
    "\n",
    "# Use js_link to connect button active property to glyph visble property\n",
    "\n",
    "toggle1 = Toggle(label=\"Green Box\", button_type=\"success\", active=True)\n",
    "toggle1.js_link('active', green_box, 'visible')\n",
    "\n",
    "toggle2 = Toggle(label=\"Pink Line\", button_type=\"success\", active=True)\n",
    "toggle2.js_link('active', pink_line, 'visible')\n",
    "\n",
    "show(layout([p], [toggle1, toggle2]))"
   ]
  },
  {
   "cell_type": "code",
   "execution_count": 80,
   "metadata": {},
   "outputs": [
    {
     "data": {
      "text/html": [
       "\n",
       "\n",
       "\n",
       "\n",
       "\n",
       "\n",
       "  <div class=\"bk-root\" id=\"c32adc39-d129-402a-a69e-063d49d70131\" data-root-id=\"7369\"></div>\n"
      ]
     },
     "metadata": {},
     "output_type": "display_data"
    },
    {
     "data": {
      "application/javascript": [
       "(function(root) {\n",
       "  function embed_document(root) {\n",
       "    \n",
       "  var docs_json = {\"3aadf0d5-ccda-4407-b4cf-3abf22f3b433\":{\"roots\":{\"references\":[{\"attributes\":{\"below\":[{\"id\":\"7380\",\"type\":\"LinearAxis\"}],\"center\":[{\"id\":\"7384\",\"type\":\"Grid\"},{\"id\":\"7389\",\"type\":\"Grid\"}],\"left\":[{\"id\":\"7385\",\"type\":\"LinearAxis\"}],\"plot_height\":400,\"plot_width\":400,\"renderers\":[{\"id\":\"7406\",\"type\":\"GlyphRenderer\"}],\"title\":{\"id\":\"7370\",\"type\":\"Title\"},\"toolbar\":{\"id\":\"7396\",\"type\":\"Toolbar\"},\"x_range\":{\"id\":\"7372\",\"type\":\"DataRange1d\"},\"x_scale\":{\"id\":\"7376\",\"type\":\"LinearScale\"},\"y_range\":{\"id\":\"7374\",\"type\":\"DataRange1d\"},\"y_scale\":{\"id\":\"7378\",\"type\":\"LinearScale\"}},\"id\":\"7369\",\"subtype\":\"Figure\",\"type\":\"Plot\"},{\"attributes\":{},\"id\":\"7601\",\"type\":\"BasicTickFormatter\"},{\"attributes\":{},\"id\":\"7376\",\"type\":\"LinearScale\"},{\"attributes\":{},\"id\":\"7599\",\"type\":\"BasicTickFormatter\"},{\"attributes\":{\"formatter\":{\"id\":\"7599\",\"type\":\"BasicTickFormatter\"},\"ticker\":{\"id\":\"7381\",\"type\":\"BasicTicker\"}},\"id\":\"7380\",\"type\":\"LinearAxis\"},{\"attributes\":{\"overlay\":{\"id\":\"7605\",\"type\":\"BoxAnnotation\"}},\"id\":\"7392\",\"type\":\"BoxZoomTool\"},{\"attributes\":{\"ticker\":{\"id\":\"7381\",\"type\":\"BasicTicker\"}},\"id\":\"7384\",\"type\":\"Grid\"},{\"attributes\":{},\"id\":\"7381\",\"type\":\"BasicTicker\"},{\"attributes\":{},\"id\":\"7386\",\"type\":\"BasicTicker\"},{\"attributes\":{},\"id\":\"7395\",\"type\":\"HelpTool\"},{\"attributes\":{\"callback\":null},\"id\":\"7374\",\"type\":\"DataRange1d\"},{\"attributes\":{},\"id\":\"7393\",\"type\":\"SaveTool\"},{\"attributes\":{\"callback\":null,\"data\":{\"x\":[1,2,3,4,5],\"y\":[2,5,8,2,7]},\"selected\":{\"id\":\"7604\",\"type\":\"Selection\"},\"selection_policy\":{\"id\":\"7603\",\"type\":\"UnionRenderers\"}},\"id\":\"7403\",\"type\":\"ColumnDataSource\"},{\"attributes\":{},\"id\":\"7604\",\"type\":\"Selection\"},{\"attributes\":{\"formatter\":{\"id\":\"7601\",\"type\":\"BasicTickFormatter\"},\"ticker\":{\"id\":\"7386\",\"type\":\"BasicTicker\"}},\"id\":\"7385\",\"type\":\"LinearAxis\"},{\"attributes\":{\"fill_color\":{\"value\":\"#1f77b4\"},\"line_color\":{\"value\":\"#1f77b4\"},\"size\":{\"units\":\"screen\",\"value\":10},\"x\":{\"field\":\"x\"},\"y\":{\"field\":\"y\"}},\"id\":\"7404\",\"type\":\"Circle\"},{\"attributes\":{\"text\":\"Some Title\",\"text_color\":{\"value\":\"olive\"},\"text_font\":\"times\",\"text_font_style\":\"italic\"},\"id\":\"7370\",\"type\":\"Title\"},{\"attributes\":{},\"id\":\"7603\",\"type\":\"UnionRenderers\"},{\"attributes\":{\"data_source\":{\"id\":\"7403\",\"type\":\"ColumnDataSource\"},\"glyph\":{\"id\":\"7404\",\"type\":\"Circle\"},\"hover_glyph\":null,\"muted_glyph\":null,\"nonselection_glyph\":{\"id\":\"7405\",\"type\":\"Circle\"},\"selection_glyph\":null,\"view\":{\"id\":\"7407\",\"type\":\"CDSView\"}},\"id\":\"7406\",\"type\":\"GlyphRenderer\"},{\"attributes\":{},\"id\":\"7390\",\"type\":\"PanTool\"},{\"attributes\":{\"active_drag\":\"auto\",\"active_inspect\":\"auto\",\"active_multi\":null,\"active_scroll\":\"auto\",\"active_tap\":\"auto\",\"tools\":[{\"id\":\"7390\",\"type\":\"PanTool\"},{\"id\":\"7391\",\"type\":\"WheelZoomTool\"},{\"id\":\"7392\",\"type\":\"BoxZoomTool\"},{\"id\":\"7393\",\"type\":\"SaveTool\"},{\"id\":\"7394\",\"type\":\"ResetTool\"},{\"id\":\"7395\",\"type\":\"HelpTool\"}]},\"id\":\"7396\",\"type\":\"Toolbar\"},{\"attributes\":{},\"id\":\"7378\",\"type\":\"LinearScale\"},{\"attributes\":{\"bottom_units\":\"screen\",\"fill_alpha\":{\"value\":0.5},\"fill_color\":{\"value\":\"lightgrey\"},\"left_units\":\"screen\",\"level\":\"overlay\",\"line_alpha\":{\"value\":1.0},\"line_color\":{\"value\":\"black\"},\"line_dash\":[4,4],\"line_width\":{\"value\":2},\"render_mode\":\"css\",\"right_units\":\"screen\",\"top_units\":\"screen\"},\"id\":\"7605\",\"type\":\"BoxAnnotation\"},{\"attributes\":{},\"id\":\"7391\",\"type\":\"WheelZoomTool\"},{\"attributes\":{\"dimension\":1,\"ticker\":{\"id\":\"7386\",\"type\":\"BasicTicker\"}},\"id\":\"7389\",\"type\":\"Grid\"},{\"attributes\":{},\"id\":\"7394\",\"type\":\"ResetTool\"},{\"attributes\":{\"callback\":null},\"id\":\"7372\",\"type\":\"DataRange1d\"},{\"attributes\":{\"source\":{\"id\":\"7403\",\"type\":\"ColumnDataSource\"}},\"id\":\"7407\",\"type\":\"CDSView\"},{\"attributes\":{\"fill_alpha\":{\"value\":0.1},\"fill_color\":{\"value\":\"#1f77b4\"},\"line_alpha\":{\"value\":0.1},\"line_color\":{\"value\":\"#1f77b4\"},\"size\":{\"units\":\"screen\",\"value\":10},\"x\":{\"field\":\"x\"},\"y\":{\"field\":\"y\"}},\"id\":\"7405\",\"type\":\"Circle\"}],\"root_ids\":[\"7369\"]},\"title\":\"Bokeh Application\",\"version\":\"1.3.4\"}};\n",
       "  var render_items = [{\"docid\":\"3aadf0d5-ccda-4407-b4cf-3abf22f3b433\",\"roots\":{\"7369\":\"c32adc39-d129-402a-a69e-063d49d70131\"}}];\n",
       "  root.Bokeh.embed.embed_items_notebook(docs_json, render_items);\n",
       "\n",
       "  }\n",
       "  if (root.Bokeh !== undefined) {\n",
       "    embed_document(root);\n",
       "  } else {\n",
       "    var attempts = 0;\n",
       "    var timer = setInterval(function(root) {\n",
       "      if (root.Bokeh !== undefined) {\n",
       "        embed_document(root);\n",
       "        clearInterval(timer);\n",
       "      }\n",
       "      attempts++;\n",
       "      if (attempts > 100) {\n",
       "        console.log(\"Bokeh: ERROR: Unable to run BokehJS code because BokehJS library is missing\");\n",
       "        clearInterval(timer);\n",
       "      }\n",
       "    }, 10, root)\n",
       "  }\n",
       "})(window);"
      ],
      "application/vnd.bokehjs_exec.v0+json": ""
     },
     "metadata": {
      "application/vnd.bokehjs_exec.v0+json": {
       "id": "7369"
      }
     },
     "output_type": "display_data"
    }
   ],
   "source": [
    "from bokeh.plotting import figure, output_file, show\n",
    "\n",
    "output_file(\"title.html\")\n",
    "\n",
    "p = figure(plot_width=400, plot_height=400, title=\"Some Title\")\n",
    "p.title.text_color = \"olive\"\n",
    "p.title.text_font = \"times\"\n",
    "p.title.text_font_style = \"italic\"\n",
    "\n",
    "p.circle([1, 2, 3, 4, 5], [2, 5, 8, 2, 7], size=10)\n",
    "\n",
    "show(p)"
   ]
  },
  {
   "cell_type": "code",
   "execution_count": 81,
   "metadata": {},
   "outputs": [
    {
     "data": {
      "text/html": [
       "\n",
       "\n",
       "\n",
       "\n",
       "\n",
       "\n",
       "  <div class=\"bk-root\" id=\"c9f748f5-af15-4a48-a127-450560936eb2\" data-root-id=\"7735\"></div>\n"
      ]
     },
     "metadata": {},
     "output_type": "display_data"
    },
    {
     "data": {
      "application/javascript": [
       "(function(root) {\n",
       "  function embed_document(root) {\n",
       "    \n",
       "  var docs_json = {\"b11235f1-202d-421a-b03b-0087f1fb9519\":{\"roots\":{\"references\":[{\"attributes\":{\"below\":[{\"id\":\"7744\",\"type\":\"LinearAxis\"}],\"center\":[{\"id\":\"7748\",\"type\":\"Grid\"},{\"id\":\"7753\",\"type\":\"Grid\"}],\"left\":[{\"id\":\"7749\",\"type\":\"LinearAxis\"}],\"outline_line_alpha\":{\"value\":0.3},\"outline_line_color\":{\"value\":\"navy\"},\"outline_line_width\":{\"value\":7},\"plot_height\":400,\"plot_width\":400,\"renderers\":[{\"id\":\"7770\",\"type\":\"GlyphRenderer\"}],\"title\":{\"id\":\"7970\",\"type\":\"Title\"},\"toolbar\":{\"id\":\"7760\",\"type\":\"Toolbar\"},\"x_range\":{\"id\":\"7736\",\"type\":\"DataRange1d\"},\"x_scale\":{\"id\":\"7740\",\"type\":\"LinearScale\"},\"y_range\":{\"id\":\"7738\",\"type\":\"DataRange1d\"},\"y_scale\":{\"id\":\"7742\",\"type\":\"LinearScale\"}},\"id\":\"7735\",\"subtype\":\"Figure\",\"type\":\"Plot\"},{\"attributes\":{\"dimension\":1,\"ticker\":{\"id\":\"7750\",\"type\":\"BasicTicker\"}},\"id\":\"7753\",\"type\":\"Grid\"},{\"attributes\":{\"bottom_units\":\"screen\",\"fill_alpha\":{\"value\":0.5},\"fill_color\":{\"value\":\"lightgrey\"},\"left_units\":\"screen\",\"level\":\"overlay\",\"line_alpha\":{\"value\":1.0},\"line_color\":{\"value\":\"black\"},\"line_dash\":[4,4],\"line_width\":{\"value\":2},\"render_mode\":\"css\",\"right_units\":\"screen\",\"top_units\":\"screen\"},\"id\":\"7978\",\"type\":\"BoxAnnotation\"},{\"attributes\":{},\"id\":\"7740\",\"type\":\"LinearScale\"},{\"attributes\":{},\"id\":\"7742\",\"type\":\"LinearScale\"},{\"attributes\":{\"callback\":null,\"data\":{\"x\":[1,2,3,4,5],\"y\":[2,5,8,2,7]},\"selected\":{\"id\":\"7977\",\"type\":\"Selection\"},\"selection_policy\":{\"id\":\"7976\",\"type\":\"UnionRenderers\"}},\"id\":\"7767\",\"type\":\"ColumnDataSource\"},{\"attributes\":{},\"id\":\"7745\",\"type\":\"BasicTicker\"},{\"attributes\":{},\"id\":\"7759\",\"type\":\"HelpTool\"},{\"attributes\":{},\"id\":\"7972\",\"type\":\"BasicTickFormatter\"},{\"attributes\":{\"active_drag\":\"auto\",\"active_inspect\":\"auto\",\"active_multi\":null,\"active_scroll\":\"auto\",\"active_tap\":\"auto\",\"tools\":[{\"id\":\"7754\",\"type\":\"PanTool\"},{\"id\":\"7755\",\"type\":\"WheelZoomTool\"},{\"id\":\"7756\",\"type\":\"BoxZoomTool\"},{\"id\":\"7757\",\"type\":\"SaveTool\"},{\"id\":\"7758\",\"type\":\"ResetTool\"},{\"id\":\"7759\",\"type\":\"HelpTool\"}]},\"id\":\"7760\",\"type\":\"Toolbar\"},{\"attributes\":{\"formatter\":{\"id\":\"7974\",\"type\":\"BasicTickFormatter\"},\"ticker\":{\"id\":\"7750\",\"type\":\"BasicTicker\"}},\"id\":\"7749\",\"type\":\"LinearAxis\"},{\"attributes\":{\"text\":\"\"},\"id\":\"7970\",\"type\":\"Title\"},{\"attributes\":{\"fill_color\":{\"value\":\"#1f77b4\"},\"line_color\":{\"value\":\"#1f77b4\"},\"size\":{\"units\":\"screen\",\"value\":10},\"x\":{\"field\":\"x\"},\"y\":{\"field\":\"y\"}},\"id\":\"7768\",\"type\":\"Circle\"},{\"attributes\":{},\"id\":\"7750\",\"type\":\"BasicTicker\"},{\"attributes\":{},\"id\":\"7755\",\"type\":\"WheelZoomTool\"},{\"attributes\":{},\"id\":\"7758\",\"type\":\"ResetTool\"},{\"attributes\":{},\"id\":\"7757\",\"type\":\"SaveTool\"},{\"attributes\":{\"source\":{\"id\":\"7767\",\"type\":\"ColumnDataSource\"}},\"id\":\"7771\",\"type\":\"CDSView\"},{\"attributes\":{\"data_source\":{\"id\":\"7767\",\"type\":\"ColumnDataSource\"},\"glyph\":{\"id\":\"7768\",\"type\":\"Circle\"},\"hover_glyph\":null,\"muted_glyph\":null,\"nonselection_glyph\":{\"id\":\"7769\",\"type\":\"Circle\"},\"selection_glyph\":null,\"view\":{\"id\":\"7771\",\"type\":\"CDSView\"}},\"id\":\"7770\",\"type\":\"GlyphRenderer\"},{\"attributes\":{\"callback\":null},\"id\":\"7736\",\"type\":\"DataRange1d\"},{\"attributes\":{},\"id\":\"7977\",\"type\":\"Selection\"},{\"attributes\":{\"fill_alpha\":{\"value\":0.1},\"fill_color\":{\"value\":\"#1f77b4\"},\"line_alpha\":{\"value\":0.1},\"line_color\":{\"value\":\"#1f77b4\"},\"size\":{\"units\":\"screen\",\"value\":10},\"x\":{\"field\":\"x\"},\"y\":{\"field\":\"y\"}},\"id\":\"7769\",\"type\":\"Circle\"},{\"attributes\":{},\"id\":\"7974\",\"type\":\"BasicTickFormatter\"},{\"attributes\":{\"ticker\":{\"id\":\"7745\",\"type\":\"BasicTicker\"}},\"id\":\"7748\",\"type\":\"Grid\"},{\"attributes\":{\"formatter\":{\"id\":\"7972\",\"type\":\"BasicTickFormatter\"},\"ticker\":{\"id\":\"7745\",\"type\":\"BasicTicker\"}},\"id\":\"7744\",\"type\":\"LinearAxis\"},{\"attributes\":{\"callback\":null},\"id\":\"7738\",\"type\":\"DataRange1d\"},{\"attributes\":{\"overlay\":{\"id\":\"7978\",\"type\":\"BoxAnnotation\"}},\"id\":\"7756\",\"type\":\"BoxZoomTool\"},{\"attributes\":{},\"id\":\"7976\",\"type\":\"UnionRenderers\"},{\"attributes\":{},\"id\":\"7754\",\"type\":\"PanTool\"}],\"root_ids\":[\"7735\"]},\"title\":\"Bokeh Application\",\"version\":\"1.3.4\"}};\n",
       "  var render_items = [{\"docid\":\"b11235f1-202d-421a-b03b-0087f1fb9519\",\"roots\":{\"7735\":\"c9f748f5-af15-4a48-a127-450560936eb2\"}}];\n",
       "  root.Bokeh.embed.embed_items_notebook(docs_json, render_items);\n",
       "\n",
       "  }\n",
       "  if (root.Bokeh !== undefined) {\n",
       "    embed_document(root);\n",
       "  } else {\n",
       "    var attempts = 0;\n",
       "    var timer = setInterval(function(root) {\n",
       "      if (root.Bokeh !== undefined) {\n",
       "        embed_document(root);\n",
       "        clearInterval(timer);\n",
       "      }\n",
       "      attempts++;\n",
       "      if (attempts > 100) {\n",
       "        console.log(\"Bokeh: ERROR: Unable to run BokehJS code because BokehJS library is missing\");\n",
       "        clearInterval(timer);\n",
       "      }\n",
       "    }, 10, root)\n",
       "  }\n",
       "})(window);"
      ],
      "application/vnd.bokehjs_exec.v0+json": ""
     },
     "metadata": {
      "application/vnd.bokehjs_exec.v0+json": {
       "id": "7735"
      }
     },
     "output_type": "display_data"
    }
   ],
   "source": [
    "from bokeh.plotting import figure, output_file, show\n",
    "\n",
    "output_file(\"outline.html\")\n",
    "\n",
    "p = figure(plot_width=400, plot_height=400)\n",
    "p.outline_line_width = 7\n",
    "p.outline_line_alpha = 0.3\n",
    "p.outline_line_color = \"navy\"\n",
    "\n",
    "p.circle([1,2,3,4,5], [2,5,8,2,7], size=10)\n",
    "\n",
    "show(p)"
   ]
  },
  {
   "cell_type": "code",
   "execution_count": 83,
   "metadata": {},
   "outputs": [
    {
     "data": {
      "text/html": [
       "\n",
       "\n",
       "\n",
       "\n",
       "\n",
       "\n",
       "  <div class=\"bk-root\" id=\"db9050b1-e507-4510-9c26-46bb6ca201c8\" data-root-id=\"8124\"></div>\n"
      ]
     },
     "metadata": {},
     "output_type": "display_data"
    },
    {
     "data": {
      "application/javascript": [
       "(function(root) {\n",
       "  function embed_document(root) {\n",
       "    \n",
       "  var docs_json = {\"72c6b970-58ce-42b2-a3f7-f4f4aa83ffcb\":{\"roots\":{\"references\":[{\"attributes\":{\"below\":[{\"id\":\"8133\",\"type\":\"LinearAxis\"}],\"center\":[{\"id\":\"8137\",\"type\":\"Grid\"},{\"id\":\"8142\",\"type\":\"Grid\"}],\"left\":[{\"id\":\"8138\",\"type\":\"LinearAxis\"}],\"plot_height\":400,\"plot_width\":400,\"renderers\":[{\"id\":\"8159\",\"type\":\"GlyphRenderer\"}],\"title\":{\"id\":\"8368\",\"type\":\"Title\"},\"toolbar\":{\"id\":\"8149\",\"type\":\"Toolbar\"},\"x_range\":{\"id\":\"8125\",\"type\":\"DataRange1d\"},\"x_scale\":{\"id\":\"8129\",\"type\":\"LinearScale\"},\"y_range\":{\"id\":\"8127\",\"type\":\"DataRange1d\"},\"y_scale\":{\"id\":\"8131\",\"type\":\"LinearScale\"}},\"id\":\"8124\",\"subtype\":\"Figure\",\"type\":\"Plot\"},{\"attributes\":{\"overlay\":{\"id\":\"8376\",\"type\":\"BoxAnnotation\"}},\"id\":\"8145\",\"type\":\"BoxZoomTool\"},{\"attributes\":{\"formatter\":{\"id\":\"8370\",\"type\":\"BasicTickFormatter\"},\"ticker\":{\"id\":\"8134\",\"type\":\"BasicTicker\"}},\"id\":\"8133\",\"type\":\"LinearAxis\"},{\"attributes\":{\"fill_color\":{\"value\":\"#1f77b4\"},\"line_color\":{\"value\":\"#1f77b4\"},\"size\":{\"units\":\"screen\",\"value\":10},\"x\":{\"field\":\"x\"},\"y\":{\"field\":\"y\"}},\"id\":\"8157\",\"type\":\"Circle\"},{\"attributes\":{\"active_drag\":\"auto\",\"active_inspect\":\"auto\",\"active_multi\":null,\"active_scroll\":\"auto\",\"active_tap\":\"auto\",\"tools\":[{\"id\":\"8143\",\"type\":\"PanTool\"},{\"id\":\"8144\",\"type\":\"WheelZoomTool\"},{\"id\":\"8145\",\"type\":\"BoxZoomTool\"},{\"id\":\"8146\",\"type\":\"SaveTool\"},{\"id\":\"8147\",\"type\":\"ResetTool\"},{\"id\":\"8148\",\"type\":\"HelpTool\"}]},\"id\":\"8149\",\"type\":\"Toolbar\"},{\"attributes\":{\"fill_alpha\":{\"value\":0.1},\"fill_color\":{\"value\":\"#1f77b4\"},\"line_alpha\":{\"value\":0.1},\"line_color\":{\"value\":\"#1f77b4\"},\"size\":{\"units\":\"screen\",\"value\":10},\"x\":{\"field\":\"x\"},\"y\":{\"field\":\"y\"}},\"id\":\"8158\",\"type\":\"Circle\"},{\"attributes\":{\"callback\":null,\"data\":{\"x\":[1,2,3,4,5],\"y\":[2,5,8,2,7]},\"selected\":{\"id\":\"8375\",\"type\":\"Selection\"},\"selection_policy\":{\"id\":\"8374\",\"type\":\"UnionRenderers\"}},\"id\":\"8156\",\"type\":\"ColumnDataSource\"},{\"attributes\":{\"formatter\":{\"id\":\"8372\",\"type\":\"BasicTickFormatter\"},\"ticker\":{\"id\":\"8139\",\"type\":\"BasicTicker\"}},\"id\":\"8138\",\"type\":\"LinearAxis\"},{\"attributes\":{},\"id\":\"8147\",\"type\":\"ResetTool\"},{\"attributes\":{},\"id\":\"8131\",\"type\":\"LinearScale\"},{\"attributes\":{},\"id\":\"8375\",\"type\":\"Selection\"},{\"attributes\":{\"data_source\":{\"id\":\"8156\",\"type\":\"ColumnDataSource\"},\"glyph\":{\"id\":\"8157\",\"type\":\"Circle\"},\"hover_glyph\":null,\"muted_glyph\":null,\"nonselection_glyph\":{\"id\":\"8158\",\"type\":\"Circle\"},\"selection_glyph\":null,\"view\":{\"id\":\"8160\",\"type\":\"CDSView\"}},\"id\":\"8159\",\"type\":\"GlyphRenderer\"},{\"attributes\":{},\"id\":\"8374\",\"type\":\"UnionRenderers\"},{\"attributes\":{},\"id\":\"8370\",\"type\":\"BasicTickFormatter\"},{\"attributes\":{\"bottom_units\":\"screen\",\"fill_alpha\":{\"value\":0.5},\"fill_color\":{\"value\":\"lightgrey\"},\"left_units\":\"screen\",\"level\":\"overlay\",\"line_alpha\":{\"value\":1.0},\"line_color\":{\"value\":\"black\"},\"line_dash\":[4,4],\"line_width\":{\"value\":2},\"render_mode\":\"css\",\"right_units\":\"screen\",\"top_units\":\"screen\"},\"id\":\"8376\",\"type\":\"BoxAnnotation\"},{\"attributes\":{},\"id\":\"8372\",\"type\":\"BasicTickFormatter\"},{\"attributes\":{},\"id\":\"8129\",\"type\":\"LinearScale\"},{\"attributes\":{},\"id\":\"8143\",\"type\":\"PanTool\"},{\"attributes\":{\"source\":{\"id\":\"8156\",\"type\":\"ColumnDataSource\"}},\"id\":\"8160\",\"type\":\"CDSView\"},{\"attributes\":{\"callback\":null},\"id\":\"8127\",\"type\":\"DataRange1d\"},{\"attributes\":{\"text\":\"\"},\"id\":\"8368\",\"type\":\"Title\"},{\"attributes\":{},\"id\":\"8134\",\"type\":\"BasicTicker\"},{\"attributes\":{\"callback\":null},\"id\":\"8125\",\"type\":\"DataRange1d\"},{\"attributes\":{\"grid_line_color\":null,\"ticker\":{\"id\":\"8134\",\"type\":\"BasicTicker\"}},\"id\":\"8137\",\"type\":\"Grid\"},{\"attributes\":{},\"id\":\"8148\",\"type\":\"HelpTool\"},{\"attributes\":{\"band_fill_alpha\":0.1,\"band_fill_color\":\"navy\",\"dimension\":1,\"ticker\":{\"id\":\"8139\",\"type\":\"BasicTicker\"}},\"id\":\"8142\",\"type\":\"Grid\"},{\"attributes\":{},\"id\":\"8146\",\"type\":\"SaveTool\"},{\"attributes\":{},\"id\":\"8139\",\"type\":\"BasicTicker\"},{\"attributes\":{},\"id\":\"8144\",\"type\":\"WheelZoomTool\"}],\"root_ids\":[\"8124\"]},\"title\":\"Bokeh Application\",\"version\":\"1.3.4\"}};\n",
       "  var render_items = [{\"docid\":\"72c6b970-58ce-42b2-a3f7-f4f4aa83ffcb\",\"roots\":{\"8124\":\"db9050b1-e507-4510-9c26-46bb6ca201c8\"}}];\n",
       "  root.Bokeh.embed.embed_items_notebook(docs_json, render_items);\n",
       "\n",
       "  }\n",
       "  if (root.Bokeh !== undefined) {\n",
       "    embed_document(root);\n",
       "  } else {\n",
       "    var attempts = 0;\n",
       "    var timer = setInterval(function(root) {\n",
       "      if (root.Bokeh !== undefined) {\n",
       "        embed_document(root);\n",
       "        clearInterval(timer);\n",
       "      }\n",
       "      attempts++;\n",
       "      if (attempts > 100) {\n",
       "        console.log(\"Bokeh: ERROR: Unable to run BokehJS code because BokehJS library is missing\");\n",
       "        clearInterval(timer);\n",
       "      }\n",
       "    }, 10, root)\n",
       "  }\n",
       "})(window);"
      ],
      "application/vnd.bokehjs_exec.v0+json": ""
     },
     "metadata": {
      "application/vnd.bokehjs_exec.v0+json": {
       "id": "8124"
      }
     },
     "output_type": "display_data"
    }
   ],
   "source": [
    "from bokeh.plotting import figure, output_file, show\n",
    "\n",
    "output_file(\"grid_band_fill.html\")\n",
    "\n",
    "p = figure(plot_width=400, plot_height=400)\n",
    "p.circle([1,2,3,4,5], [2,5,8,2,7], size=10)\n",
    "\n",
    "# change just some things about the x-grid\n",
    "p.xgrid.grid_line_color = None\n",
    "\n",
    "# change just some things about the y-grid\n",
    "p.ygrid.band_fill_alpha = 0.1\n",
    "p.ygrid.band_fill_color = \"navy\"\n",
    "\n",
    "show(p)"
   ]
  },
  {
   "cell_type": "code",
   "execution_count": 86,
   "metadata": {},
   "outputs": [
    {
     "data": {
      "text/html": [
       "\n",
       "\n",
       "\n",
       "\n",
       "\n",
       "\n",
       "  <div class=\"bk-root\" id=\"d866a466-ec1c-4d99-85c6-d96bdad48ac1\" data-root-id=\"9257\"></div>\n"
      ]
     },
     "metadata": {},
     "output_type": "display_data"
    },
    {
     "data": {
      "application/javascript": [
       "(function(root) {\n",
       "  function embed_document(root) {\n",
       "    \n",
       "  var docs_json = {\"724a9f4c-2a5a-496e-8d46-1d34fcdbcc7b\":{\"roots\":{\"references\":[{\"attributes\":{\"below\":[{\"id\":\"9266\",\"type\":\"LinearAxis\"}],\"center\":[{\"id\":\"9270\",\"type\":\"Grid\"},{\"id\":\"9275\",\"type\":\"Grid\"}],\"left\":[{\"id\":\"9271\",\"type\":\"LinearAxis\"}],\"plot_height\":250,\"renderers\":[{\"id\":\"9280\",\"type\":\"GlyphRenderer\"}],\"title\":{\"id\":\"9515\",\"type\":\"Title\"},\"toolbar\":{\"id\":\"9276\",\"type\":\"Toolbar\"},\"toolbar_location\":null,\"x_range\":{\"id\":\"9258\",\"type\":\"Range1d\"},\"x_scale\":{\"id\":\"9262\",\"type\":\"LinearScale\"},\"y_range\":{\"id\":\"9260\",\"type\":\"DataRange1d\"},\"y_scale\":{\"id\":\"9264\",\"type\":\"LinearScale\"}},\"id\":\"9257\",\"subtype\":\"Figure\",\"type\":\"Plot\"},{\"attributes\":{\"dimension\":1,\"grid_line_color\":null,\"ticker\":{\"id\":\"9272\",\"type\":\"BasicTicker\"}},\"id\":\"9275\",\"type\":\"Grid\"},{\"attributes\":{},\"id\":\"9264\",\"type\":\"LinearScale\"},{\"attributes\":{\"callback\":null,\"data\":{\"x\":[0,1,2,3,4,5,6,7,8,9,10],\"y\":[1,3,4,3,1,2,6,5,2,3,4]},\"selected\":{\"id\":\"9521\",\"type\":\"Selection\"},\"selection_policy\":{\"id\":\"9520\",\"type\":\"UnionRenderers\"}},\"id\":\"9277\",\"type\":\"ColumnDataSource\"},{\"attributes\":{\"callback\":null},\"id\":\"9260\",\"type\":\"DataRange1d\"},{\"attributes\":{\"line_alpha\":0.1,\"line_color\":\"#1f77b4\",\"x\":{\"field\":\"x\"},\"y\":{\"field\":\"y\"}},\"id\":\"9279\",\"type\":\"Line\"},{\"attributes\":{\"ticks\":[0,2,4,6,8,15]},\"id\":\"9284\",\"type\":\"FixedTicker\"},{\"attributes\":{},\"id\":\"9520\",\"type\":\"UnionRenderers\"},{\"attributes\":{\"text\":\"\"},\"id\":\"9515\",\"type\":\"Title\"},{\"attributes\":{\"source\":{\"id\":\"9277\",\"type\":\"ColumnDataSource\"}},\"id\":\"9281\",\"type\":\"CDSView\"},{\"attributes\":{},\"id\":\"9272\",\"type\":\"BasicTicker\"},{\"attributes\":{\"formatter\":{\"id\":\"9518\",\"type\":\"BasicTickFormatter\"},\"ticker\":{\"id\":\"9272\",\"type\":\"BasicTicker\"}},\"id\":\"9271\",\"type\":\"LinearAxis\"},{\"attributes\":{},\"id\":\"9517\",\"type\":\"BasicTickFormatter\"},{\"attributes\":{\"ticks\":[0,2,4,6,8,15]},\"id\":\"9282\",\"type\":\"FixedTicker\"},{\"attributes\":{},\"id\":\"9262\",\"type\":\"LinearScale\"},{\"attributes\":{},\"id\":\"9518\",\"type\":\"BasicTickFormatter\"},{\"attributes\":{\"band_hatch_alpha\":0.6,\"band_hatch_color\":\"lightgrey\",\"band_hatch_pattern\":\"/\",\"band_hatch_scale\":15,\"band_hatch_weight\":0.5,\"ticker\":{\"id\":\"9284\",\"type\":\"FixedTicker\"}},\"id\":\"9270\",\"type\":\"Grid\"},{\"attributes\":{\"active_drag\":\"auto\",\"active_inspect\":\"auto\",\"active_multi\":null,\"active_scroll\":\"auto\",\"active_tap\":\"auto\"},\"id\":\"9276\",\"type\":\"Toolbar\"},{\"attributes\":{\"line_color\":\"#1f77b4\",\"x\":{\"field\":\"x\"},\"y\":{\"field\":\"y\"}},\"id\":\"9278\",\"type\":\"Line\"},{\"attributes\":{\"formatter\":{\"id\":\"9517\",\"type\":\"BasicTickFormatter\"},\"ticker\":{\"id\":\"9282\",\"type\":\"FixedTicker\"}},\"id\":\"9266\",\"type\":\"LinearAxis\"},{\"attributes\":{\"data_source\":{\"id\":\"9277\",\"type\":\"ColumnDataSource\"},\"glyph\":{\"id\":\"9278\",\"type\":\"Line\"},\"hover_glyph\":null,\"muted_glyph\":null,\"nonselection_glyph\":{\"id\":\"9279\",\"type\":\"Line\"},\"selection_glyph\":null,\"view\":{\"id\":\"9281\",\"type\":\"CDSView\"}},\"id\":\"9280\",\"type\":\"GlyphRenderer\"},{\"attributes\":{},\"id\":\"9521\",\"type\":\"Selection\"},{\"attributes\":{\"callback\":null,\"end\":10},\"id\":\"9258\",\"type\":\"Range1d\"}],\"root_ids\":[\"9257\"]},\"title\":\"Bokeh Application\",\"version\":\"1.3.4\"}};\n",
       "  var render_items = [{\"docid\":\"724a9f4c-2a5a-496e-8d46-1d34fcdbcc7b\",\"roots\":{\"9257\":\"d866a466-ec1c-4d99-85c6-d96bdad48ac1\"}}];\n",
       "  root.Bokeh.embed.embed_items_notebook(docs_json, render_items);\n",
       "\n",
       "  }\n",
       "  if (root.Bokeh !== undefined) {\n",
       "    embed_document(root);\n",
       "  } else {\n",
       "    var attempts = 0;\n",
       "    var timer = setInterval(function(root) {\n",
       "      if (root.Bokeh !== undefined) {\n",
       "        embed_document(root);\n",
       "        clearInterval(timer);\n",
       "      }\n",
       "      attempts++;\n",
       "      if (attempts > 100) {\n",
       "        console.log(\"Bokeh: ERROR: Unable to run BokehJS code because BokehJS library is missing\");\n",
       "        clearInterval(timer);\n",
       "      }\n",
       "    }, 10, root)\n",
       "  }\n",
       "})(window);"
      ],
      "application/vnd.bokehjs_exec.v0+json": ""
     },
     "metadata": {
      "application/vnd.bokehjs_exec.v0+json": {
       "id": "9257"
      }
     },
     "output_type": "display_data"
    }
   ],
   "source": [
    "from bokeh.io import output_file, show\n",
    "from bokeh.plotting import figure\n",
    "\n",
    "output_file(\"grid_band_hatch.html\")\n",
    "\n",
    "p = figure(plot_height=250, plot_width=600, x_range=(0, 10), tools=\"\", toolbar_location=None)\n",
    "p.line(x=[0,1,2,3,4,5,6,7,8,9,10],\n",
    "       y=[1,3,4,3,1,2,6,5,2,3,4])\n",
    "\n",
    "p.ygrid.grid_line_color = None\n",
    "\n",
    "ticks = [0, 2, 4, 6, 8, 10]\n",
    "p.xaxis[0].ticker = ticks\n",
    "p.xgrid[0].ticker = ticks\n",
    "\n",
    "p.xgrid.band_hatch_pattern = \"/\"\n",
    "p.xgrid.band_hatch_alpha = 0.6\n",
    "p.xgrid.band_hatch_color = \"lightgrey\"\n",
    "p.xgrid.band_hatch_weight = 0.5\n",
    "p.xgrid.band_hatch_scale = 10\n",
    "\n",
    "show(p)"
   ]
  },
  {
   "cell_type": "code",
   "execution_count": 88,
   "metadata": {},
   "outputs": [
    {
     "data": {
      "text/html": [
       "\n",
       "\n",
       "\n",
       "\n",
       "\n",
       "\n",
       "  <div class=\"bk-root\" id=\"1c51ba65-79a4-4402-be15-654b1d6f96b0\" data-root-id=\"9669\"></div>\n"
      ]
     },
     "metadata": {},
     "output_type": "display_data"
    },
    {
     "data": {
      "application/javascript": [
       "(function(root) {\n",
       "  function embed_document(root) {\n",
       "    \n",
       "  var docs_json = {\"57309f6a-0a29-4358-8c84-622907215313\":{\"roots\":{\"references\":[{\"attributes\":{\"below\":[{\"id\":\"9678\",\"type\":\"LinearAxis\"}],\"center\":[{\"id\":\"9682\",\"type\":\"Grid\"},{\"id\":\"9687\",\"type\":\"Grid\"}],\"left\":[{\"id\":\"9683\",\"type\":\"LinearAxis\"}],\"renderers\":[{\"id\":\"9704\",\"type\":\"GlyphRenderer\"},{\"id\":\"9709\",\"type\":\"GlyphRenderer\"},{\"id\":\"9714\",\"type\":\"GlyphRenderer\"},{\"id\":\"9719\",\"type\":\"GlyphRenderer\"},{\"id\":\"9724\",\"type\":\"GlyphRenderer\"}],\"right\":[{\"id\":\"9726\",\"type\":\"Legend\"}],\"title\":{\"id\":\"9967\",\"type\":\"Title\"},\"toolbar\":{\"id\":\"9694\",\"type\":\"Toolbar\"},\"toolbar_location\":\"above\",\"x_range\":{\"id\":\"9670\",\"type\":\"DataRange1d\"},\"x_scale\":{\"id\":\"9674\",\"type\":\"LinearScale\"},\"y_range\":{\"id\":\"9672\",\"type\":\"DataRange1d\"},\"y_scale\":{\"id\":\"9676\",\"type\":\"LinearScale\"}},\"id\":\"9669\",\"subtype\":\"Figure\",\"type\":\"Plot\"},{\"attributes\":{\"data_source\":{\"id\":\"9716\",\"type\":\"ColumnDataSource\"},\"glyph\":{\"id\":\"9717\",\"type\":\"Square\"},\"hover_glyph\":null,\"muted_glyph\":null,\"nonselection_glyph\":{\"id\":\"9718\",\"type\":\"Square\"},\"selection_glyph\":null,\"view\":{\"id\":\"9720\",\"type\":\"CDSView\"}},\"id\":\"9719\",\"type\":\"GlyphRenderer\"},{\"attributes\":{},\"id\":\"9691\",\"type\":\"SaveTool\"},{\"attributes\":{},\"id\":\"9978\",\"type\":\"Selection\"},{\"attributes\":{\"data_source\":{\"id\":\"9711\",\"type\":\"ColumnDataSource\"},\"glyph\":{\"id\":\"9712\",\"type\":\"Line\"},\"hover_glyph\":null,\"muted_glyph\":null,\"nonselection_glyph\":{\"id\":\"9713\",\"type\":\"Line\"},\"selection_glyph\":null,\"view\":{\"id\":\"9715\",\"type\":\"CDSView\"}},\"id\":\"9714\",\"type\":\"GlyphRenderer\"},{\"attributes\":{\"source\":{\"id\":\"9716\",\"type\":\"ColumnDataSource\"}},\"id\":\"9720\",\"type\":\"CDSView\"},{\"attributes\":{},\"id\":\"9692\",\"type\":\"ResetTool\"},{\"attributes\":{},\"id\":\"9979\",\"type\":\"UnionRenderers\"},{\"attributes\":{\"items\":[{\"id\":\"9727\",\"type\":\"LegendItem\"},{\"id\":\"9728\",\"type\":\"LegendItem\"},{\"id\":\"9729\",\"type\":\"LegendItem\"}],\"location\":\"center\"},\"id\":\"9726\",\"type\":\"Legend\"},{\"attributes\":{},\"id\":\"9693\",\"type\":\"HelpTool\"},{\"attributes\":{\"callback\":null},\"id\":\"9670\",\"type\":\"DataRange1d\"},{\"attributes\":{},\"id\":\"9980\",\"type\":\"Selection\"},{\"attributes\":{\"line_color\":\"green\",\"x\":{\"field\":\"x\"},\"y\":{\"field\":\"y\"}},\"id\":\"9722\",\"type\":\"Line\"},{\"attributes\":{\"callback\":null},\"id\":\"9672\",\"type\":\"DataRange1d\"},{\"attributes\":{\"active_drag\":\"auto\",\"active_inspect\":\"auto\",\"active_multi\":null,\"active_scroll\":\"auto\",\"active_tap\":\"auto\",\"tools\":[{\"id\":\"9688\",\"type\":\"PanTool\"},{\"id\":\"9689\",\"type\":\"WheelZoomTool\"},{\"id\":\"9690\",\"type\":\"BoxZoomTool\"},{\"id\":\"9691\",\"type\":\"SaveTool\"},{\"id\":\"9692\",\"type\":\"ResetTool\"},{\"id\":\"9693\",\"type\":\"HelpTool\"}]},\"id\":\"9694\",\"type\":\"Toolbar\"},{\"attributes\":{\"line_alpha\":0.1,\"line_color\":\"#1f77b4\",\"x\":{\"field\":\"x\"},\"y\":{\"field\":\"y\"}},\"id\":\"9723\",\"type\":\"Line\"},{\"attributes\":{},\"id\":\"9981\",\"type\":\"UnionRenderers\"},{\"attributes\":{\"data_source\":{\"id\":\"9701\",\"type\":\"ColumnDataSource\"},\"glyph\":{\"id\":\"9702\",\"type\":\"Circle\"},\"hover_glyph\":null,\"muted_glyph\":null,\"nonselection_glyph\":{\"id\":\"9703\",\"type\":\"Circle\"},\"selection_glyph\":null,\"view\":{\"id\":\"9705\",\"type\":\"CDSView\"}},\"id\":\"9704\",\"type\":\"GlyphRenderer\"},{\"attributes\":{},\"id\":\"9674\",\"type\":\"LinearScale\"},{\"attributes\":{},\"id\":\"9982\",\"type\":\"Selection\"},{\"attributes\":{\"data_source\":{\"id\":\"9721\",\"type\":\"ColumnDataSource\"},\"glyph\":{\"id\":\"9722\",\"type\":\"Line\"},\"hover_glyph\":null,\"muted_glyph\":null,\"nonselection_glyph\":{\"id\":\"9723\",\"type\":\"Line\"},\"selection_glyph\":null,\"view\":{\"id\":\"9725\",\"type\":\"CDSView\"}},\"id\":\"9724\",\"type\":\"GlyphRenderer\"},{\"attributes\":{},\"id\":\"9676\",\"type\":\"LinearScale\"},{\"attributes\":{\"source\":{\"id\":\"9701\",\"type\":\"ColumnDataSource\"}},\"id\":\"9705\",\"type\":\"CDSView\"},{\"attributes\":{\"source\":{\"id\":\"9721\",\"type\":\"ColumnDataSource\"}},\"id\":\"9725\",\"type\":\"CDSView\"},{\"attributes\":{\"bottom_units\":\"screen\",\"fill_alpha\":{\"value\":0.5},\"fill_color\":{\"value\":\"lightgrey\"},\"left_units\":\"screen\",\"level\":\"overlay\",\"line_alpha\":{\"value\":1.0},\"line_color\":{\"value\":\"black\"},\"line_dash\":[4,4],\"line_width\":{\"value\":2},\"render_mode\":\"css\",\"right_units\":\"screen\",\"top_units\":\"screen\"},\"id\":\"9983\",\"type\":\"BoxAnnotation\"},{\"attributes\":{\"text\":\"\"},\"id\":\"9967\",\"type\":\"Title\"},{\"attributes\":{\"callback\":null,\"data\":{\"x\":{\"__ndarray__\":\"AAAAAAAAAACRGkt8Vz/AP5EaS3xXP9A/2qdwOgNf2D+RGkt8Vz/gPzXhXVstT+Q/2qdwOgNf6D9+boMZ2W7sP5EaS3xXP/A/433Ua0JH8j814V1bLU/0P4dE50oYV/Y/2qdwOgNf+D8sC/op7mb6P35ugxnZbvw/0NEMCcR2/j+RGkt8Vz8AQDrMD/RMQwFA433Ua0JHAkCML5njN0sDQDXhXVstTwRA3pIi0yJTBUCHROdKGFcGQDD2q8INWwdA2qdwOgNfCECDWTWy+GIJQCwL+inuZgpA1by+oeNqC0B+boMZ2W4MQCcgSJHOcg1A0NEMCcR2DkB5g9GAuXoPQJEaS3xXPxBAZnMtOFLBEEA6zA/0TEMRQA8l8q9HxRFA433Ua0JHEkC41rYnPckSQIwvmeM3SxNAYYh7nzLNE0A14V1bLU8UQAo6QBco0RRA3pIi0yJTFUCz6wSPHdUVQIdE50oYVxZAXJ3JBhPZFkAw9qvCDVsXQAVPjn4I3RdA2qdwOgNfGECuAFP2/eAYQINZNbL4YhlAV7IXbvPkGUAsC/op7mYaQABk3OXo6BpA1by+oeNqG0CpFaFd3uwbQH5ugxnZbhxAUsdl1dPwHEAnIEiRznIdQPt4Kk3J9B1A0NEMCcR2HkCkKu/EvvgeQHmD0YC5eh9ATdyzPLT8H0CRGkt8Vz8gQPtGPNpUgCBAZnMtOFLBIEDQnx6WTwIhQDrMD/RMQyFApPgAUkqEIUAPJfKvR8UhQHlR4w1FBiJA433Ua0JHIkBNqsXJP4giQLjWtic9ySJAIgOohToKI0CML5njN0sjQPZbikE1jCNAYYh7nzLNI0DLtGz9Lw4kQDXhXVstTyRAoA1PuSqQJEAKOkAXKNEkQHRmMXUlEiVA3pIi0yJTJUBJvxMxIJQlQLPrBI8d1SVAHRj27BoWJkCHROdKGFcmQPJw2KgVmCZAXJ3JBhPZJkDGybpkEBonQDD2q8INWydAmyKdIAucJ0AFT45+CN0nQG97f9wFHihA2qdwOgNfKEBE1GGYAKAoQK4AU/b94ChAGC1EVPshKUA=\",\"dtype\":\"float64\",\"shape\":[100]},\"y\":{\"__ndarray__\":\"AAAAAAAAAADwgwJ4LjTAP5qI2QHPEtA/+5MNU1HJ1z8ZTT7q2B3fP0aFmgwa+eI/ABg/lCAV5j+IQCEcMdboP3fOhmLzMOs/EyzujrQb7T/9Izwlj47uPxccgYyLg+8/g6xao7j27z9mZrL8O+bvP7+X94FZUu8/xVNiW3I97j9RB8Ai+6vsP5FWKYlppOo/oSg6uxkv6D/Th2bxK1blPyZGRbpaJeI/8qg+VZVT3T/4C4p0qOPVP+UppLIiM8w/3FNHxZdVuD/J23zJpD6gv+3ENsZjOcS/wo12/ecH0r/dgWKM2KjZv2MTsJELcOC/83ixWvXH47+358MBZM7mv5eCD4nhdum/rExY6Hq267+TIxAn7YPtvwSssILL1+6/70I4BJ6s77/vOc8G+P7vvzTGy1KGze+/3176khQZ77/C8a4NiuTtvzGcHq/dNOy/l0FFlgER6r+FGZN4xoHnvx8WPFK3keS/Cli7+O1M4b+HQNqEwoHbv9kfIiFb+NO/gKyggGI5yL8EhrXMjDywvyGGtcyMPLA/jqyggGI5yD/gHyIhW/jTP39A2oTCgds/DVi7+O1M4T8bFjxSt5HkP4cZk3jGgec/lUFFlgER6j8ynB6v3TTsP8Hxrg2K5O0/4F76khQZ7z80xstShs3vP+85zwb4/u8/8EI4BJ6s7z8DrLCCy9fuP5UjECftg+0/p0xY6Hq26z+Vgg+J4XbpP7fnwwFkzuY/9nixWvXH4z9dE7CRC3DgP9eBYozYqNk/w412/ecH0j/+xDbGYznEP0/bfMmkPqA/+FNHxZdVuL/UKaSyIjPMv+gLinSo49W/+Kg+VZVT3b8lRkW6WiXiv8+HZvErVuW/pig6uxkv6L+TVimJaaTqv1EHwCL7q+y/xFNiW3I97r/Al/eBWVLvv2Zmsvw75u+/g6xao7j2778YHIGMi4Pvv/sjPCWPju6/EyzujrQb7b94zoZi8zDrv4xAIRwx1ui//Bc/lCAV5r9GhZoMGvnivx9NPurYHd+/65MNU1HJ17+SiNkBzxLQv/GDAnguNMC/B1wUMyamwbw=\",\"dtype\":\"float64\",\"shape\":[100]}},\"selected\":{\"id\":\"9974\",\"type\":\"Selection\"},\"selection_policy\":{\"id\":\"9973\",\"type\":\"UnionRenderers\"}},\"id\":\"9701\",\"type\":\"ColumnDataSource\"},{\"attributes\":{\"formatter\":{\"id\":\"9969\",\"type\":\"BasicTickFormatter\"},\"ticker\":{\"id\":\"9679\",\"type\":\"BasicTicker\"}},\"id\":\"9678\",\"type\":\"LinearAxis\"},{\"attributes\":{},\"id\":\"9679\",\"type\":\"BasicTicker\"},{\"attributes\":{},\"id\":\"9969\",\"type\":\"BasicTickFormatter\"},{\"attributes\":{\"callback\":null,\"data\":{\"x\":{\"__ndarray__\":\"AAAAAAAAAACRGkt8Vz/AP5EaS3xXP9A/2qdwOgNf2D+RGkt8Vz/gPzXhXVstT+Q/2qdwOgNf6D9+boMZ2W7sP5EaS3xXP/A/433Ua0JH8j814V1bLU/0P4dE50oYV/Y/2qdwOgNf+D8sC/op7mb6P35ugxnZbvw/0NEMCcR2/j+RGkt8Vz8AQDrMD/RMQwFA433Ua0JHAkCML5njN0sDQDXhXVstTwRA3pIi0yJTBUCHROdKGFcGQDD2q8INWwdA2qdwOgNfCECDWTWy+GIJQCwL+inuZgpA1by+oeNqC0B+boMZ2W4MQCcgSJHOcg1A0NEMCcR2DkB5g9GAuXoPQJEaS3xXPxBAZnMtOFLBEEA6zA/0TEMRQA8l8q9HxRFA433Ua0JHEkC41rYnPckSQIwvmeM3SxNAYYh7nzLNE0A14V1bLU8UQAo6QBco0RRA3pIi0yJTFUCz6wSPHdUVQIdE50oYVxZAXJ3JBhPZFkAw9qvCDVsXQAVPjn4I3RdA2qdwOgNfGECuAFP2/eAYQINZNbL4YhlAV7IXbvPkGUAsC/op7mYaQABk3OXo6BpA1by+oeNqG0CpFaFd3uwbQH5ugxnZbhxAUsdl1dPwHEAnIEiRznIdQPt4Kk3J9B1A0NEMCcR2HkCkKu/EvvgeQHmD0YC5eh9ATdyzPLT8H0CRGkt8Vz8gQPtGPNpUgCBAZnMtOFLBIEDQnx6WTwIhQDrMD/RMQyFApPgAUkqEIUAPJfKvR8UhQHlR4w1FBiJA433Ua0JHIkBNqsXJP4giQLjWtic9ySJAIgOohToKI0CML5njN0sjQPZbikE1jCNAYYh7nzLNI0DLtGz9Lw4kQDXhXVstTyRAoA1PuSqQJEAKOkAXKNEkQHRmMXUlEiVA3pIi0yJTJUBJvxMxIJQlQLPrBI8d1SVAHRj27BoWJkCHROdKGFcmQPJw2KgVmCZAXJ3JBhPZJkDGybpkEBonQDD2q8INWydAmyKdIAucJ0AFT45+CN0nQG97f9wFHihA2qdwOgNfKEBE1GGYAKAoQK4AU/b94ChAGC1EVPshKUA=\",\"dtype\":\"float64\",\"shape\":[100]},\"y\":{\"__ndarray__\":\"AAAAAAAAAADwgwJ4LjTQP5qI2QHPEuA/+5MNU1HJ5z8ZTT7q2B3vP0aFmgwa+fI/ABg/lCAV9j+IQCEcMdb4P3fOhmLzMPs/EyzujrQb/T/9Izwlj47+PxccgYyLg/8/g6xao7j2/z9mZrL8O+b/P7+X94FZUv8/xVNiW3I9/j9RB8Ai+6v8P5FWKYlppPo/oSg6uxkv+D/Th2bxK1b1PyZGRbpaJfI/8qg+VZVT7T/4C4p0qOPlP+UppLIiM9w/3FNHxZdVyD/J23zJpD6wv+3ENsZjOdS/wo12/ecH4r/dgWKM2Kjpv2MTsJELcPC/83ixWvXH87+358MBZM72v5eCD4nhdvm/rExY6Hq2+7+TIxAn7YP9vwSssILL1/6/70I4BJ6s/7/vOc8G+P7/vzTGy1KGzf+/3176khQZ/7/C8a4NiuT9vzGcHq/dNPy/l0FFlgER+r+FGZN4xoH3vx8WPFK3kfS/Cli7+O1M8b+HQNqEwoHrv9kfIiFb+OO/gKyggGI52L8EhrXMjDzAvyGGtcyMPMA/jqyggGI52D/gHyIhW/jjP39A2oTCges/DVi7+O1M8T8bFjxSt5H0P4cZk3jGgfc/lUFFlgER+j8ynB6v3TT8P8Hxrg2K5P0/4F76khQZ/z80xstShs3/P+85zwb4/v8/8EI4BJ6s/z8DrLCCy9f+P5UjECftg/0/p0xY6Hq2+z+Vgg+J4Xb5P7fnwwFkzvY/9nixWvXH8z9dE7CRC3DwP9eBYozYqOk/w412/ecH4j/+xDbGYznUP0/bfMmkPrA/+FNHxZdVyL/UKaSyIjPcv+gLinSo4+W/+Kg+VZVT7b8lRkW6WiXyv8+HZvErVvW/pig6uxkv+L+TVimJaaT6v1EHwCL7q/y/xFNiW3I9/r/Al/eBWVL/v2Zmsvw75v+/g6xao7j2/78YHIGMi4P/v/sjPCWPjv6/EyzujrQb/b94zoZi8zD7v4xAIRwx1vi//Bc/lCAV9r9GhZoMGvnyvx9NPurYHe+/65MNU1HJ57+SiNkBzxLgv/GDAnguNNC/B1wUMyam0bw=\",\"dtype\":\"float64\",\"shape\":[100]}},\"selected\":{\"id\":\"9978\",\"type\":\"Selection\"},\"selection_policy\":{\"id\":\"9977\",\"type\":\"UnionRenderers\"}},\"id\":\"9711\",\"type\":\"ColumnDataSource\"},{\"attributes\":{\"ticker\":{\"id\":\"9679\",\"type\":\"BasicTicker\"}},\"id\":\"9682\",\"type\":\"Grid\"},{\"attributes\":{\"line_color\":\"#1f77b4\",\"x\":{\"field\":\"x\"},\"y\":{\"field\":\"y\"}},\"id\":\"9707\",\"type\":\"Line\"},{\"attributes\":{\"formatter\":{\"id\":\"9971\",\"type\":\"BasicTickFormatter\"},\"ticker\":{\"id\":\"9684\",\"type\":\"BasicTicker\"}},\"id\":\"9683\",\"type\":\"LinearAxis\"},{\"attributes\":{\"label\":{\"value\":\"sin(x)\"},\"renderers\":[{\"id\":\"9704\",\"type\":\"GlyphRenderer\"},{\"id\":\"9709\",\"type\":\"GlyphRenderer\"}]},\"id\":\"9727\",\"type\":\"LegendItem\"},{\"attributes\":{\"line_alpha\":0.1,\"line_color\":\"#1f77b4\",\"x\":{\"field\":\"x\"},\"y\":{\"field\":\"y\"}},\"id\":\"9708\",\"type\":\"Line\"},{\"attributes\":{},\"id\":\"9684\",\"type\":\"BasicTicker\"},{\"attributes\":{\"label\":{\"value\":\"2*sin(x)\"},\"renderers\":[{\"id\":\"9714\",\"type\":\"GlyphRenderer\"}]},\"id\":\"9728\",\"type\":\"LegendItem\"},{\"attributes\":{\"data_source\":{\"id\":\"9706\",\"type\":\"ColumnDataSource\"},\"glyph\":{\"id\":\"9707\",\"type\":\"Line\"},\"hover_glyph\":null,\"muted_glyph\":null,\"nonselection_glyph\":{\"id\":\"9708\",\"type\":\"Line\"},\"selection_glyph\":null,\"view\":{\"id\":\"9710\",\"type\":\"CDSView\"}},\"id\":\"9709\",\"type\":\"GlyphRenderer\"},{\"attributes\":{\"overlay\":{\"id\":\"9983\",\"type\":\"BoxAnnotation\"}},\"id\":\"9690\",\"type\":\"BoxZoomTool\"},{\"attributes\":{\"dimension\":1,\"ticker\":{\"id\":\"9684\",\"type\":\"BasicTicker\"}},\"id\":\"9687\",\"type\":\"Grid\"},{\"attributes\":{\"label\":{\"value\":\"3*sin(x)\"},\"renderers\":[{\"id\":\"9719\",\"type\":\"GlyphRenderer\"},{\"id\":\"9724\",\"type\":\"GlyphRenderer\"}]},\"id\":\"9729\",\"type\":\"LegendItem\"},{\"attributes\":{\"source\":{\"id\":\"9706\",\"type\":\"ColumnDataSource\"}},\"id\":\"9710\",\"type\":\"CDSView\"},{\"attributes\":{},\"id\":\"9971\",\"type\":\"BasicTickFormatter\"},{\"attributes\":{\"fill_color\":{\"value\":\"#1f77b4\"},\"line_color\":{\"value\":\"#1f77b4\"},\"x\":{\"field\":\"x\"},\"y\":{\"field\":\"y\"}},\"id\":\"9702\",\"type\":\"Circle\"},{\"attributes\":{\"callback\":null,\"data\":{\"x\":{\"__ndarray__\":\"AAAAAAAAAACRGkt8Vz/AP5EaS3xXP9A/2qdwOgNf2D+RGkt8Vz/gPzXhXVstT+Q/2qdwOgNf6D9+boMZ2W7sP5EaS3xXP/A/433Ua0JH8j814V1bLU/0P4dE50oYV/Y/2qdwOgNf+D8sC/op7mb6P35ugxnZbvw/0NEMCcR2/j+RGkt8Vz8AQDrMD/RMQwFA433Ua0JHAkCML5njN0sDQDXhXVstTwRA3pIi0yJTBUCHROdKGFcGQDD2q8INWwdA2qdwOgNfCECDWTWy+GIJQCwL+inuZgpA1by+oeNqC0B+boMZ2W4MQCcgSJHOcg1A0NEMCcR2DkB5g9GAuXoPQJEaS3xXPxBAZnMtOFLBEEA6zA/0TEMRQA8l8q9HxRFA433Ua0JHEkC41rYnPckSQIwvmeM3SxNAYYh7nzLNE0A14V1bLU8UQAo6QBco0RRA3pIi0yJTFUCz6wSPHdUVQIdE50oYVxZAXJ3JBhPZFkAw9qvCDVsXQAVPjn4I3RdA2qdwOgNfGECuAFP2/eAYQINZNbL4YhlAV7IXbvPkGUAsC/op7mYaQABk3OXo6BpA1by+oeNqG0CpFaFd3uwbQH5ugxnZbhxAUsdl1dPwHEAnIEiRznIdQPt4Kk3J9B1A0NEMCcR2HkCkKu/EvvgeQHmD0YC5eh9ATdyzPLT8H0CRGkt8Vz8gQPtGPNpUgCBAZnMtOFLBIEDQnx6WTwIhQDrMD/RMQyFApPgAUkqEIUAPJfKvR8UhQHlR4w1FBiJA433Ua0JHIkBNqsXJP4giQLjWtic9ySJAIgOohToKI0CML5njN0sjQPZbikE1jCNAYYh7nzLNI0DLtGz9Lw4kQDXhXVstTyRAoA1PuSqQJEAKOkAXKNEkQHRmMXUlEiVA3pIi0yJTJUBJvxMxIJQlQLPrBI8d1SVAHRj27BoWJkCHROdKGFcmQPJw2KgVmCZAXJ3JBhPZJkDGybpkEBonQDD2q8INWydAmyKdIAucJ0AFT45+CN0nQG97f9wFHihA2qdwOgNfKEBE1GGYAKAoQK4AU/b94ChAGC1EVPshKUA=\",\"dtype\":\"float64\",\"shape\":[100]},\"y\":{\"__ndarray__\":\"AAAAAAAAAADoxQO0RU7YP+dMxoI2HOg//C5K/vzW8T/Tua6vYlb3P+nH5xKndfw/AFIvb9iPAEBm8BjVpKACQNka5Ym2ZARADqEya8fUBUD+Gu1b6+oGQBHVYKmoogdAYgGEegr5B0DMzIX9rOwHQM+xeSHDfQdA1L6JxBWuBkB9BRBa/IAFQO0A3yZP+wNAeZ5rTFMjAkDe5Qz1oAAAQDnpZxcIOPs/tv7u/6/+9T/6iGdXvmrwP2wf+wVaJuU/5X710zFA0j+uSTsu9124v2QnUqkVVt6/o9Qx/NsL679m4Ulpoj7zvxQdiFoRqPi/bDUKCPCr/b/J7VIByxoBwPGhyyYpGQPAgTlCLtzIBMCuGkzd8SIGwAOBBKLYIQfAMzIqg3bBB8BzaxsFOv8HwKfUGL4k2gfAJ8c7bs9SB8BSNUOKZ2sGwCX1VkOmJwXAMfGzMMGMA8AkU27aVKEBwC4hWvuS2v6/DwQZ9WTz+b9lsKPjUaH0v8Yvs7GI9O2/YIF44Akr4r8GSRAz01rIvzJJEDPTWsg/aoF44Akr4j/QL7OxiPTtP1+wo+NRofQ/FAQZ9WTz+T8oIVr7ktr+PyVTbtpUoQFAMPGzMMGMA0Am9VZDpicFQFE1Q4pnawZAKMc7bs9SB0Cn1Bi+JNoHQHNrGwU6/wdANDIqg3bBB0ACgQSi2CEHQLAaTN3xIgZAfTlCLtzIBEDwocsmKRkDQMntUgHLGgFAcTUKCPCr/T8MHYhaEaj4P2HhSWmiPvM/pNQx/NsL6z99J1KpFVbeP/ZIOy73Xbg/+n710zFA0r9fH/sFWiblv+6IZ1e+avC/uv7u/6/+9b846WcXCDj7v9vlDPWgAADAfJ5rTFMjAsDuAN8mT/sDwH0FEFr8gAXA076JxBWuBsDQsXkhw30HwMzMhf2s7AfAYgGEegr5B8AS1WCpqKIHwPwa7Vvr6gbADqEya8fUBcDaGuWJtmQEwGnwGNWkoALA/VEvb9iPAMDpx+cSp3X8v9e5rq9iVve/8C5K/vzW8b/bTMaCNhzov+rFA7RFTti/CoqeTDl52rw=\",\"dtype\":\"float64\",\"shape\":[100]}},\"selected\":{\"id\":\"9980\",\"type\":\"Selection\"},\"selection_policy\":{\"id\":\"9979\",\"type\":\"UnionRenderers\"}},\"id\":\"9716\",\"type\":\"ColumnDataSource\"},{\"attributes\":{\"line_color\":\"orange\",\"line_dash\":[4,4],\"line_width\":2,\"x\":{\"field\":\"x\"},\"y\":{\"field\":\"y\"}},\"id\":\"9712\",\"type\":\"Line\"},{\"attributes\":{\"callback\":null,\"data\":{\"x\":{\"__ndarray__\":\"AAAAAAAAAACRGkt8Vz/AP5EaS3xXP9A/2qdwOgNf2D+RGkt8Vz/gPzXhXVstT+Q/2qdwOgNf6D9+boMZ2W7sP5EaS3xXP/A/433Ua0JH8j814V1bLU/0P4dE50oYV/Y/2qdwOgNf+D8sC/op7mb6P35ugxnZbvw/0NEMCcR2/j+RGkt8Vz8AQDrMD/RMQwFA433Ua0JHAkCML5njN0sDQDXhXVstTwRA3pIi0yJTBUCHROdKGFcGQDD2q8INWwdA2qdwOgNfCECDWTWy+GIJQCwL+inuZgpA1by+oeNqC0B+boMZ2W4MQCcgSJHOcg1A0NEMCcR2DkB5g9GAuXoPQJEaS3xXPxBAZnMtOFLBEEA6zA/0TEMRQA8l8q9HxRFA433Ua0JHEkC41rYnPckSQIwvmeM3SxNAYYh7nzLNE0A14V1bLU8UQAo6QBco0RRA3pIi0yJTFUCz6wSPHdUVQIdE50oYVxZAXJ3JBhPZFkAw9qvCDVsXQAVPjn4I3RdA2qdwOgNfGECuAFP2/eAYQINZNbL4YhlAV7IXbvPkGUAsC/op7mYaQABk3OXo6BpA1by+oeNqG0CpFaFd3uwbQH5ugxnZbhxAUsdl1dPwHEAnIEiRznIdQPt4Kk3J9B1A0NEMCcR2HkCkKu/EvvgeQHmD0YC5eh9ATdyzPLT8H0CRGkt8Vz8gQPtGPNpUgCBAZnMtOFLBIEDQnx6WTwIhQDrMD/RMQyFApPgAUkqEIUAPJfKvR8UhQHlR4w1FBiJA433Ua0JHIkBNqsXJP4giQLjWtic9ySJAIgOohToKI0CML5njN0sjQPZbikE1jCNAYYh7nzLNI0DLtGz9Lw4kQDXhXVstTyRAoA1PuSqQJEAKOkAXKNEkQHRmMXUlEiVA3pIi0yJTJUBJvxMxIJQlQLPrBI8d1SVAHRj27BoWJkCHROdKGFcmQPJw2KgVmCZAXJ3JBhPZJkDGybpkEBonQDD2q8INWydAmyKdIAucJ0AFT45+CN0nQG97f9wFHihA2qdwOgNfKEBE1GGYAKAoQK4AU/b94ChAGC1EVPshKUA=\",\"dtype\":\"float64\",\"shape\":[100]},\"y\":{\"__ndarray__\":\"AAAAAAAAAADwgwJ4LjTAP5qI2QHPEtA/+5MNU1HJ1z8ZTT7q2B3fP0aFmgwa+eI/ABg/lCAV5j+IQCEcMdboP3fOhmLzMOs/EyzujrQb7T/9Izwlj47uPxccgYyLg+8/g6xao7j27z9mZrL8O+bvP7+X94FZUu8/xVNiW3I97j9RB8Ai+6vsP5FWKYlppOo/oSg6uxkv6D/Th2bxK1blPyZGRbpaJeI/8qg+VZVT3T/4C4p0qOPVP+UppLIiM8w/3FNHxZdVuD/J23zJpD6gv+3ENsZjOcS/wo12/ecH0r/dgWKM2KjZv2MTsJELcOC/83ixWvXH47+358MBZM7mv5eCD4nhdum/rExY6Hq267+TIxAn7YPtvwSssILL1+6/70I4BJ6s77/vOc8G+P7vvzTGy1KGze+/3176khQZ77/C8a4NiuTtvzGcHq/dNOy/l0FFlgER6r+FGZN4xoHnvx8WPFK3keS/Cli7+O1M4b+HQNqEwoHbv9kfIiFb+NO/gKyggGI5yL8EhrXMjDywvyGGtcyMPLA/jqyggGI5yD/gHyIhW/jTP39A2oTCgds/DVi7+O1M4T8bFjxSt5HkP4cZk3jGgec/lUFFlgER6j8ynB6v3TTsP8Hxrg2K5O0/4F76khQZ7z80xstShs3vP+85zwb4/u8/8EI4BJ6s7z8DrLCCy9fuP5UjECftg+0/p0xY6Hq26z+Vgg+J4XbpP7fnwwFkzuY/9nixWvXH4z9dE7CRC3DgP9eBYozYqNk/w412/ecH0j/+xDbGYznEP0/bfMmkPqA/+FNHxZdVuL/UKaSyIjPMv+gLinSo49W/+Kg+VZVT3b8lRkW6WiXiv8+HZvErVuW/pig6uxkv6L+TVimJaaTqv1EHwCL7q+y/xFNiW3I97r/Al/eBWVLvv2Zmsvw75u+/g6xao7j2778YHIGMi4Pvv/sjPCWPju6/EyzujrQb7b94zoZi8zDrv4xAIRwx1ui//Bc/lCAV5r9GhZoMGvnivx9NPurYHd+/65MNU1HJ17+SiNkBzxLQv/GDAnguNMC/B1wUMyamwbw=\",\"dtype\":\"float64\",\"shape\":[100]}},\"selected\":{\"id\":\"9976\",\"type\":\"Selection\"},\"selection_policy\":{\"id\":\"9975\",\"type\":\"UnionRenderers\"}},\"id\":\"9706\",\"type\":\"ColumnDataSource\"},{\"attributes\":{},\"id\":\"9973\",\"type\":\"UnionRenderers\"},{\"attributes\":{\"line_alpha\":0.1,\"line_color\":\"#1f77b4\",\"line_dash\":[4,4],\"line_width\":2,\"x\":{\"field\":\"x\"},\"y\":{\"field\":\"y\"}},\"id\":\"9713\",\"type\":\"Line\"},{\"attributes\":{\"fill_alpha\":{\"value\":0.1},\"fill_color\":{\"value\":\"#1f77b4\"},\"line_alpha\":{\"value\":0.1},\"line_color\":{\"value\":\"#1f77b4\"},\"x\":{\"field\":\"x\"},\"y\":{\"field\":\"y\"}},\"id\":\"9703\",\"type\":\"Circle\"},{\"attributes\":{},\"id\":\"9974\",\"type\":\"Selection\"},{\"attributes\":{\"source\":{\"id\":\"9711\",\"type\":\"ColumnDataSource\"}},\"id\":\"9715\",\"type\":\"CDSView\"},{\"attributes\":{},\"id\":\"9688\",\"type\":\"PanTool\"},{\"attributes\":{},\"id\":\"9975\",\"type\":\"UnionRenderers\"},{\"attributes\":{\"callback\":null,\"data\":{\"x\":{\"__ndarray__\":\"AAAAAAAAAACRGkt8Vz/AP5EaS3xXP9A/2qdwOgNf2D+RGkt8Vz/gPzXhXVstT+Q/2qdwOgNf6D9+boMZ2W7sP5EaS3xXP/A/433Ua0JH8j814V1bLU/0P4dE50oYV/Y/2qdwOgNf+D8sC/op7mb6P35ugxnZbvw/0NEMCcR2/j+RGkt8Vz8AQDrMD/RMQwFA433Ua0JHAkCML5njN0sDQDXhXVstTwRA3pIi0yJTBUCHROdKGFcGQDD2q8INWwdA2qdwOgNfCECDWTWy+GIJQCwL+inuZgpA1by+oeNqC0B+boMZ2W4MQCcgSJHOcg1A0NEMCcR2DkB5g9GAuXoPQJEaS3xXPxBAZnMtOFLBEEA6zA/0TEMRQA8l8q9HxRFA433Ua0JHEkC41rYnPckSQIwvmeM3SxNAYYh7nzLNE0A14V1bLU8UQAo6QBco0RRA3pIi0yJTFUCz6wSPHdUVQIdE50oYVxZAXJ3JBhPZFkAw9qvCDVsXQAVPjn4I3RdA2qdwOgNfGECuAFP2/eAYQINZNbL4YhlAV7IXbvPkGUAsC/op7mYaQABk3OXo6BpA1by+oeNqG0CpFaFd3uwbQH5ugxnZbhxAUsdl1dPwHEAnIEiRznIdQPt4Kk3J9B1A0NEMCcR2HkCkKu/EvvgeQHmD0YC5eh9ATdyzPLT8H0CRGkt8Vz8gQPtGPNpUgCBAZnMtOFLBIEDQnx6WTwIhQDrMD/RMQyFApPgAUkqEIUAPJfKvR8UhQHlR4w1FBiJA433Ua0JHIkBNqsXJP4giQLjWtic9ySJAIgOohToKI0CML5njN0sjQPZbikE1jCNAYYh7nzLNI0DLtGz9Lw4kQDXhXVstTyRAoA1PuSqQJEAKOkAXKNEkQHRmMXUlEiVA3pIi0yJTJUBJvxMxIJQlQLPrBI8d1SVAHRj27BoWJkCHROdKGFcmQPJw2KgVmCZAXJ3JBhPZJkDGybpkEBonQDD2q8INWydAmyKdIAucJ0AFT45+CN0nQG97f9wFHihA2qdwOgNfKEBE1GGYAKAoQK4AU/b94ChAGC1EVPshKUA=\",\"dtype\":\"float64\",\"shape\":[100]},\"y\":{\"__ndarray__\":\"AAAAAAAAAADoxQO0RU7YP+dMxoI2HOg//C5K/vzW8T/Tua6vYlb3P+nH5xKndfw/AFIvb9iPAEBm8BjVpKACQNka5Ym2ZARADqEya8fUBUD+Gu1b6+oGQBHVYKmoogdAYgGEegr5B0DMzIX9rOwHQM+xeSHDfQdA1L6JxBWuBkB9BRBa/IAFQO0A3yZP+wNAeZ5rTFMjAkDe5Qz1oAAAQDnpZxcIOPs/tv7u/6/+9T/6iGdXvmrwP2wf+wVaJuU/5X710zFA0j+uSTsu9124v2QnUqkVVt6/o9Qx/NsL679m4Ulpoj7zvxQdiFoRqPi/bDUKCPCr/b/J7VIByxoBwPGhyyYpGQPAgTlCLtzIBMCuGkzd8SIGwAOBBKLYIQfAMzIqg3bBB8BzaxsFOv8HwKfUGL4k2gfAJ8c7bs9SB8BSNUOKZ2sGwCX1VkOmJwXAMfGzMMGMA8AkU27aVKEBwC4hWvuS2v6/DwQZ9WTz+b9lsKPjUaH0v8Yvs7GI9O2/YIF44Akr4r8GSRAz01rIvzJJEDPTWsg/aoF44Akr4j/QL7OxiPTtP1+wo+NRofQ/FAQZ9WTz+T8oIVr7ktr+PyVTbtpUoQFAMPGzMMGMA0Am9VZDpicFQFE1Q4pnawZAKMc7bs9SB0Cn1Bi+JNoHQHNrGwU6/wdANDIqg3bBB0ACgQSi2CEHQLAaTN3xIgZAfTlCLtzIBEDwocsmKRkDQMntUgHLGgFAcTUKCPCr/T8MHYhaEaj4P2HhSWmiPvM/pNQx/NsL6z99J1KpFVbeP/ZIOy73Xbg/+n710zFA0r9fH/sFWiblv+6IZ1e+avC/uv7u/6/+9b846WcXCDj7v9vlDPWgAADAfJ5rTFMjAsDuAN8mT/sDwH0FEFr8gAXA076JxBWuBsDQsXkhw30HwMzMhf2s7AfAYgGEegr5B8AS1WCpqKIHwPwa7Vvr6gbADqEya8fUBcDaGuWJtmQEwGnwGNWkoALA/VEvb9iPAMDpx+cSp3X8v9e5rq9iVve/8C5K/vzW8b/bTMaCNhzov+rFA7RFTti/CoqeTDl52rw=\",\"dtype\":\"float64\",\"shape\":[100]}},\"selected\":{\"id\":\"9982\",\"type\":\"Selection\"},\"selection_policy\":{\"id\":\"9981\",\"type\":\"UnionRenderers\"}},\"id\":\"9721\",\"type\":\"ColumnDataSource\"},{\"attributes\":{},\"id\":\"9689\",\"type\":\"WheelZoomTool\"},{\"attributes\":{},\"id\":\"9976\",\"type\":\"Selection\"},{\"attributes\":{\"fill_color\":{\"value\":null},\"line_color\":{\"value\":\"green\"},\"x\":{\"field\":\"x\"},\"y\":{\"field\":\"y\"}},\"id\":\"9717\",\"type\":\"Square\"},{\"attributes\":{\"fill_alpha\":{\"value\":0.1},\"fill_color\":{\"value\":\"#1f77b4\"},\"line_alpha\":{\"value\":0.1},\"line_color\":{\"value\":\"#1f77b4\"},\"x\":{\"field\":\"x\"},\"y\":{\"field\":\"y\"}},\"id\":\"9718\",\"type\":\"Square\"},{\"attributes\":{},\"id\":\"9977\",\"type\":\"UnionRenderers\"}],\"root_ids\":[\"9669\"]},\"title\":\"Bokeh Application\",\"version\":\"1.3.4\"}};\n",
       "  var render_items = [{\"docid\":\"57309f6a-0a29-4358-8c84-622907215313\",\"roots\":{\"9669\":\"1c51ba65-79a4-4402-be15-654b1d6f96b0\"}}];\n",
       "  root.Bokeh.embed.embed_items_notebook(docs_json, render_items);\n",
       "\n",
       "  }\n",
       "  if (root.Bokeh !== undefined) {\n",
       "    embed_document(root);\n",
       "  } else {\n",
       "    var attempts = 0;\n",
       "    var timer = setInterval(function(root) {\n",
       "      if (root.Bokeh !== undefined) {\n",
       "        embed_document(root);\n",
       "        clearInterval(timer);\n",
       "      }\n",
       "      attempts++;\n",
       "      if (attempts > 100) {\n",
       "        console.log(\"Bokeh: ERROR: Unable to run BokehJS code because BokehJS library is missing\");\n",
       "        clearInterval(timer);\n",
       "      }\n",
       "    }, 10, root)\n",
       "  }\n",
       "})(window);"
      ],
      "application/vnd.bokehjs_exec.v0+json": ""
     },
     "metadata": {
      "application/vnd.bokehjs_exec.v0+json": {
       "id": "9669"
      }
     },
     "output_type": "display_data"
    }
   ],
   "source": [
    "import numpy as np\n",
    "from bokeh.models import Legend\n",
    "from bokeh.plotting import figure, show, output_file\n",
    "\n",
    "x = np.linspace(0, 4*np.pi, 100)\n",
    "y = np.sin(x)\n",
    "\n",
    "output_file(\"legend_labels.html\")\n",
    "\n",
    "p = figure(toolbar_location=\"above\")\n",
    "\n",
    "r0 = p.circle(x, y)\n",
    "r1 = p.line(x, y)\n",
    "\n",
    "r2 = p.line(x, 2*y, line_dash=[4, 4], line_color=\"orange\", line_width=2)\n",
    "\n",
    "r3 = p.square(x, 3*y, fill_color=None, line_color=\"green\")\n",
    "r4 = p.line(x, 3*y, line_color=\"green\")\n",
    "\n",
    "legend = Legend(items=[\n",
    "    (\"sin(x)\"   , [r0, r1]),\n",
    "    (\"2*sin(x)\" , [r2]),\n",
    "    (\"3*sin(x)\" , [r3, r4]),\n",
    "], location=\"center\")\n",
    "\n",
    "p.add_layout(legend, 'right')\n",
    "\n",
    "show(p)"
   ]
  },
  {
   "cell_type": "code",
   "execution_count": null,
   "metadata": {
    "collapsed": true
   },
   "outputs": [],
   "source": []
  }
 ],
 "metadata": {
  "kernelspec": {
   "display_name": "Python 3",
   "language": "python",
   "name": "python3"
  },
  "language_info": {
   "codemirror_mode": {
    "name": "ipython",
    "version": 3
   },
   "file_extension": ".py",
   "mimetype": "text/x-python",
   "name": "python",
   "nbconvert_exporter": "python",
   "pygments_lexer": "ipython3",
   "version": "3.6.3"
  }
 },
 "nbformat": 4,
 "nbformat_minor": 2
}
